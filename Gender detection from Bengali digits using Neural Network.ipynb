{
 "cells": [
  {
   "cell_type": "markdown",
   "metadata": {},
   "source": [
    "# Assignment-2\n",
    "- **Problem-2**\n",
    "- **ID=160204008**\n",
    "\n"
   ]
  },
  {
   "cell_type": "markdown",
   "metadata": {},
   "source": [
    "### **Problem #2**\n",
    "\n",
    "*   Apply **Neural Network / Deep Neural Network** for the **Ekush** dataset and build a binary classification model that can predict  **male/female** from Bengali handwritten digits with different hyperparameter settings.  \n",
    "\n",
    "### *** Approach ***\n",
    "- Our input size is determined by the size of the image **(height x width) = (28X28)**. Hence the size of our input is **784 (28 x 28)**.\n",
    "\n",
    " - When we pass an image to our model, it will try to predict if it's written by **Male or Female**. That is a total of 2 classes, hence we have an output size of 2.\n",
    "\n",
    " - Determining the **hidden layer size** is one of the crutial part. This can be any **real number**. A large number of hidden nodes denotes a **bigger model with more parameters**. \n",
    "\n",
    "- The bigger model isn't **always the better model**. On the otner hand, bigger model requires **more training samples** to learn and converge to a good model. \n",
    "\n",
    "- Hence, it is wise to pick the model size for the problem at hand. Because it is a simple problem of recognizing digits, we typically would not need a big model to achieve good results.\n",
    "\n",
    "- Moreover, too small of a hidden size would mean there would be **insufficient model capacity to predict competently**. Too small of a capacity denotes a **smaller brain capacity** so no matter how many training samples you provide, it has a maximum capacity boundary in terms of its **predictive power**.\n",
    "\n",
    "- Hence it is important to find the right hidden size for the specifed problem.\n",
    "\n",
    "**Problem Portion Dataset Link:** https://shahariarrabby.github.io/ekush/#download\n",
    "\n",
    "\n",
    "\n"
   ]
  },
  {
   "cell_type": "markdown",
   "metadata": {},
   "source": [
    "# Image processin and CSV file making was done on Laptop using Jupyter NoteBook "
   ]
  },
  {
   "cell_type": "markdown",
   "metadata": {},
   "source": [
    "# *Image Processing*\n",
    "Ekush dataset has two image folders Male and Female in both this folders folder 110 to 119 consist of digit images. I copied all the male digit images in a maleAll folder and all the female digit images in femaleALL folder. "
   ]
  },
  {
   "cell_type": "code",
   "execution_count": 2,
   "metadata": {},
   "outputs": [
    {
     "name": "stdout",
     "output_type": "stream",
     "text": [
      "0--------------------------------------\n",
      "1--------------------------------------\n",
      "2--------------------------------------\n",
      "3--------------------------------------\n",
      "4--------------------------------------\n",
      "5--------------------------------------\n",
      "6--------------------------------------\n",
      "7--------------------------------------\n",
      "8--------------------------------------\n",
      "9--------------------------------------\n"
     ]
    }
   ],
   "source": [
    "#Female Renaming images\n",
    "\n",
    "import shutil\n",
    "import os\n",
    "path_folder='E:/CSE/softConputing/Ekush/female'\n",
    "\n",
    "src = path_folder+\"/110\"\n",
    "dir_folders = os.listdir(src)\n",
    "for dir_name in dir_folders:\n",
    "    #print(dir_name)\n",
    "    a='0_'+dir_name\n",
    "    os.rename(src+ \"/\" +dir_name, src+ \"/\" +a)\n",
    "print('0--------------------------------------')\n",
    "\n",
    "src = path_folder+\"/111\"\n",
    "dir_folders = os.listdir(src)\n",
    "for dir_name in dir_folders:\n",
    "    #print(dir_name)\n",
    "    a='1_'+dir_name\n",
    "    os.rename(src+ \"/\" +dir_name, src+ \"/\" +a)\n",
    "    \n",
    "print('1--------------------------------------')\n",
    "\n",
    "src = path_folder+\"/112\"\n",
    "dir_folders = os.listdir(src)\n",
    "for dir_name in dir_folders:\n",
    "    #print(dir_name)\n",
    "    a='2_'+dir_name\n",
    "    os.rename(src+ \"/\" +dir_name, src+ \"/\" +a)\n",
    "print('2--------------------------------------')\n",
    "\n",
    "\n",
    "src = path_folder+\"/113\"\n",
    "dir_folders = os.listdir(src)\n",
    "for dir_name in dir_folders:\n",
    "    #print(dir_name)\n",
    "    a='3_'+dir_name\n",
    "    os.rename(src+ \"/\" +dir_name, src+ \"/\" +a)\n",
    "print('3--------------------------------------')\n",
    "\n",
    "\n",
    "src = path_folder+\"/114\"\n",
    "dir_folders = os.listdir(src)\n",
    "for dir_name in dir_folders:\n",
    "    #print(dir_name)\n",
    "    a='4_'+dir_name\n",
    "    os.rename(src+ \"/\" +dir_name, src+ \"/\" +a)\n",
    "print('4--------------------------------------')\n",
    "\n",
    "src = path_folder+\"/115\"\n",
    "dir_folders = os.listdir(src)\n",
    "for dir_name in dir_folders:\n",
    "    #print(dir_name)\n",
    "    a='5_'+dir_name\n",
    "    os.rename(src+ \"/\" +dir_name, src+ \"/\" +a)\n",
    "print('5--------------------------------------')\n",
    "\n",
    "src = path_folder+\"/116\"\n",
    "dir_folders = os.listdir(src)\n",
    "for dir_name in dir_folders:\n",
    "    #print(dir_name)\n",
    "    a='6_'+dir_name\n",
    "    os.rename(src+ \"/\" +dir_name, src+ \"/\" +a)\n",
    "print('6--------------------------------------')\n",
    "\n",
    "\n",
    "src = path_folder+\"/117\"\n",
    "dir_folders = os.listdir(src)\n",
    "for dir_name in dir_folders:\n",
    "    #print(dir_name)\n",
    "    a='7_'+dir_name\n",
    "    os.rename(src+ \"/\" +dir_name, src+ \"/\" +a)\n",
    "print('7--------------------------------------')\n",
    "\n",
    "\n",
    "src = path_folder+\"/118\"\n",
    "dir_folders = os.listdir(src)\n",
    "for dir_name in dir_folders:\n",
    "    #print(dir_name)\n",
    "    a='8_'+dir_name\n",
    "    os.rename(src+ \"/\" +dir_name, src+ \"/\" +a)\n",
    "print('8--------------------------------------')\n",
    "\n",
    "\n",
    "src = path_folder+\"/119\"\n",
    "dir_folders = os.listdir(src)\n",
    "for dir_name in dir_folders:\n",
    "    #print(dir_name)\n",
    "    a='9_'+dir_name\n",
    "    os.rename(src+ \"/\" +dir_name, src+ \"/\" +a)\n",
    "print('9--------------------------------------')\n",
    "    "
   ]
  },
  {
   "cell_type": "code",
   "execution_count": 3,
   "metadata": {},
   "outputs": [
    {
     "name": "stdout",
     "output_type": "stream",
     "text": [
      "0--------------------------------------\n",
      "1--------------------------------------\n",
      "2--------------------------------------\n",
      "3--------------------------------------\n",
      "4--------------------------------------\n",
      "5--------------------------------------\n",
      "6--------------------------------------\n",
      "7--------------------------------------\n",
      "8--------------------------------------\n",
      "9--------------------------------------\n"
     ]
    }
   ],
   "source": [
    "#Female digit images of folder 110 to 119 coppied to femaleALL folder\n",
    "\n",
    "import shutil\n",
    "import os\n",
    "path_folder='E:/CSE/softConputing/Ekush/female'\n",
    "\n",
    "src = path_folder+\"/110\"\n",
    "path = 'E:/CSE/softConputing/Ekush/femaleAllRaw'\n",
    "dir_folders = os.listdir(src)\n",
    "for dir_name in dir_folders:\n",
    "    file_name = os.path.join(src, dir_name)\n",
    "    if os.path.isfile(file_name):\n",
    "        shutil.copy(file_name, path)\n",
    "print('0--------------------------------------')\n",
    "\n",
    "\n",
    "src = path_folder+\"/111\"\n",
    "dir_folders = os.listdir(src)\n",
    "for dir_name in dir_folders:\n",
    "    file_name = os.path.join(src, dir_name)\n",
    "    if os.path.isfile(file_name):\n",
    "        shutil.copy(file_name, path)\n",
    "print('1--------------------------------------')\n",
    "\n",
    "\n",
    "\n",
    "src = path_folder+\"/112\"\n",
    "dir_folders = os.listdir(src)\n",
    "for dir_name in dir_folders:\n",
    "    file_name = os.path.join(src, dir_name)\n",
    "    if os.path.isfile(file_name):\n",
    "        shutil.copy(file_name, path)\n",
    "print('2--------------------------------------')\n",
    "\n",
    "src = path_folder+\"/113\"\n",
    "dir_folders = os.listdir(src)\n",
    "for dir_name in dir_folders:\n",
    "    file_name = os.path.join(src, dir_name)\n",
    "    if os.path.isfile(file_name):\n",
    "        shutil.copy(file_name, path)\n",
    "print('3--------------------------------------')\n",
    "\n",
    "src = path_folder+\"/114\"\n",
    "dir_folders = os.listdir(src)\n",
    "for dir_name in dir_folders:\n",
    "    file_name = os.path.join(src, dir_name)\n",
    "    if os.path.isfile(file_name):\n",
    "        shutil.copy(file_name, path)\n",
    "print('4--------------------------------------')\n",
    "\n",
    "src = path_folder+\"/115\"\n",
    "dir_folders = os.listdir(src)\n",
    "for dir_name in dir_folders:\n",
    "    file_name = os.path.join(src, dir_name)\n",
    "    if os.path.isfile(file_name):\n",
    "        shutil.copy(file_name, path)\n",
    "print('5--------------------------------------')\n",
    "\n",
    "src = path_folder+\"/116\"\n",
    "dir_folders = os.listdir(src)\n",
    "for dir_name in dir_folders:\n",
    "    file_name = os.path.join(src, dir_name)\n",
    "    if os.path.isfile(file_name):\n",
    "        shutil.copy(file_name, path)\n",
    "print('6--------------------------------------')\n",
    "\n",
    "src = path_folder+\"/117\"\n",
    "dir_folders = os.listdir(src)\n",
    "for dir_name in dir_folders:\n",
    "    file_name = os.path.join(src, dir_name)\n",
    "    if os.path.isfile(file_name):\n",
    "        shutil.copy(file_name, path)\n",
    "print('7--------------------------------------')\n",
    "\n",
    "src = path_folder+\"/118\"\n",
    "dir_folders = os.listdir(src)\n",
    "for dir_name in dir_folders:\n",
    "    file_name = os.path.join(src, dir_name)\n",
    "    if os.path.isfile(file_name):\n",
    "        shutil.copy(file_name, path)\n",
    "print('8--------------------------------------')\n",
    "\n",
    "src = path_folder+\"/119\"\n",
    "dir_folders = os.listdir(src)\n",
    "for dir_name in dir_folders:\n",
    "    file_name = os.path.join(src, dir_name)\n",
    "    if os.path.isfile(file_name):\n",
    "        shutil.copy(file_name, path)\n",
    "print('9--------------------------------------')"
   ]
  },
  {
   "cell_type": "code",
   "execution_count": 7,
   "metadata": {},
   "outputs": [],
   "source": [
    "#Resizing all female digit images\n",
    "from PIL import Image\n",
    "src = 'E:/CSE/softConputing/Ekush/femaleAllRaw'\n",
    "dir_folders = os.listdir(src)\n",
    "for dir_name in dir_folders:\n",
    "    image = Image.open(src+\"/\"+dir_name)\n",
    "    new_image = image.resize((28, 28))\n",
    "    new_image.save('E:/CSE/softConputing/Ekush/femaleAll'+\"/\"+dir_name)\n",
    "    #print(dir_name)"
   ]
  },
  {
   "cell_type": "code",
   "execution_count": null,
   "metadata": {},
   "outputs": [],
   "source": [
    "#Male Renaming images\n",
    "\n",
    "import shutil\n",
    "import os\n",
    "path_folder='E:/CSE/softConputing/Ekush/male'\n",
    "\n",
    "src = path_folder+\"/110\"\n",
    "dir_folders = os.listdir(src)\n",
    "for dir_name in dir_folders:\n",
    "    #print(dir_name)\n",
    "    a='0_'+dir_name\n",
    "    os.rename(src+ \"/\" +dir_name, src+ \"/\" +a)\n",
    "print('0--------------------------------------')\n",
    "\n",
    "src = path_folder+\"/111\"\n",
    "dir_folders = os.listdir(src)\n",
    "for dir_name in dir_folders:\n",
    "    #print(dir_name)\n",
    "    a='1_'+dir_name\n",
    "    os.rename(src+ \"/\" +dir_name, src+ \"/\" +a)\n",
    "    \n",
    "print('1--------------------------------------')\n",
    "\n",
    "src = path_folder+\"/112\"\n",
    "dir_folders = os.listdir(src)\n",
    "for dir_name in dir_folders:\n",
    "    #print(dir_name)\n",
    "    a='2_'+dir_name\n",
    "    os.rename(src+ \"/\" +dir_name, src+ \"/\" +a)\n",
    "print('2--------------------------------------')\n",
    "\n",
    "\n",
    "src = path_folder+\"/113\"\n",
    "dir_folders = os.listdir(src)\n",
    "for dir_name in dir_folders:\n",
    "    #print(dir_name)\n",
    "    a='3_'+dir_name\n",
    "    os.rename(src+ \"/\" +dir_name, src+ \"/\" +a)\n",
    "print('3--------------------------------------')\n",
    "\n",
    "\n",
    "src = path_folder+\"/114\"\n",
    "dir_folders = os.listdir(src)\n",
    "for dir_name in dir_folders:\n",
    "    #print(dir_name)\n",
    "    a='4_'+dir_name\n",
    "    os.rename(src+ \"/\" +dir_name, src+ \"/\" +a)\n",
    "print('4--------------------------------------')\n",
    "\n",
    "src = path_folder+\"/115\"\n",
    "dir_folders = os.listdir(src)\n",
    "for dir_name in dir_folders:\n",
    "    #print(dir_name)\n",
    "    a='5_'+dir_name\n",
    "    os.rename(src+ \"/\" +dir_name, src+ \"/\" +a)\n",
    "print('5--------------------------------------')\n",
    "\n",
    "src = path_folder+\"/116\"\n",
    "dir_folders = os.listdir(src)\n",
    "for dir_name in dir_folders:\n",
    "    #print(dir_name)\n",
    "    a='6_'+dir_name\n",
    "    os.rename(src+ \"/\" +dir_name, src+ \"/\" +a)\n",
    "print('6--------------------------------------')\n",
    "\n",
    "\n",
    "src = path_folder+\"/117\"\n",
    "dir_folders = os.listdir(src)\n",
    "for dir_name in dir_folders:\n",
    "    #print(dir_name)\n",
    "    a='7_'+dir_name\n",
    "    os.rename(src+ \"/\" +dir_name, src+ \"/\" +a)\n",
    "print('7--------------------------------------')\n",
    "\n",
    "\n",
    "src = path_folder+\"/118\"\n",
    "dir_folders = os.listdir(src)\n",
    "for dir_name in dir_folders:\n",
    "    #print(dir_name)\n",
    "    a='8_'+dir_name\n",
    "    os.rename(src+ \"/\" +dir_name, src+ \"/\" +a)\n",
    "print('8--------------------------------------')\n",
    "\n",
    "\n",
    "src = path_folder+\"/119\"\n",
    "dir_folders = os.listdir(src)\n",
    "for dir_name in dir_folders:\n",
    "    #print(dir_name)\n",
    "    a='9_'+dir_name\n",
    "    os.rename(src+ \"/\" +dir_name, src+ \"/\" +a)\n",
    "print('9--------------------------------------')\n",
    "    "
   ]
  },
  {
   "cell_type": "code",
   "execution_count": 8,
   "metadata": {},
   "outputs": [
    {
     "name": "stdout",
     "output_type": "stream",
     "text": [
      "0--------------------------------------\n",
      "1--------------------------------------\n",
      "2--------------------------------------\n",
      "3--------------------------------------\n",
      "4--------------------------------------\n",
      "5--------------------------------------\n",
      "6--------------------------------------\n",
      "7--------------------------------------\n",
      "8--------------------------------------\n",
      "9--------------------------------------\n"
     ]
    }
   ],
   "source": [
    "#Male digit images of folder 110 to 119 coppied to femaleALL folder\n",
    "\n",
    "import shutil\n",
    "path_folder='E:/CSE/softConputing/Ekush/male'\n",
    "\n",
    "src = path_folder+\"/110\"\n",
    "path = 'E:/CSE/softConputing/Ekush/maleAllRaw'\n",
    "dir_folders = os.listdir(src)\n",
    "for dir_name in dir_folders:\n",
    "    file_name = os.path.join(src, dir_name)\n",
    "    if os.path.isfile(file_name):\n",
    "        shutil.copy(file_name, path)\n",
    "print('0--------------------------------------')\n",
    "\n",
    "\n",
    "src = path_folder+\"/111\"\n",
    "dir_folders = os.listdir(src)\n",
    "for dir_name in dir_folders:\n",
    "    file_name = os.path.join(src, dir_name)\n",
    "    if os.path.isfile(file_name):\n",
    "        shutil.copy(file_name, path)\n",
    "print('1--------------------------------------')\n",
    "\n",
    "\n",
    "\n",
    "src = path_folder+\"/112\"\n",
    "dir_folders = os.listdir(src)\n",
    "for dir_name in dir_folders:\n",
    "    file_name = os.path.join(src, dir_name)\n",
    "    if os.path.isfile(file_name):\n",
    "        shutil.copy(file_name, path)\n",
    "print('2--------------------------------------')\n",
    "\n",
    "src = path_folder+\"/113\"\n",
    "dir_folders = os.listdir(src)\n",
    "for dir_name in dir_folders:\n",
    "    file_name = os.path.join(src, dir_name)\n",
    "    if os.path.isfile(file_name):\n",
    "        shutil.copy(file_name, path)\n",
    "print('3--------------------------------------')\n",
    "\n",
    "src = path_folder+\"/114\"\n",
    "dir_folders = os.listdir(src)\n",
    "for dir_name in dir_folders:\n",
    "    file_name = os.path.join(src, dir_name)\n",
    "    if os.path.isfile(file_name):\n",
    "        shutil.copy(file_name, path)\n",
    "print('4--------------------------------------')\n",
    "\n",
    "src = path_folder+\"/115\"\n",
    "dir_folders = os.listdir(src)\n",
    "for dir_name in dir_folders:\n",
    "    file_name = os.path.join(src, dir_name)\n",
    "    if os.path.isfile(file_name):\n",
    "        shutil.copy(file_name, path)\n",
    "print('5--------------------------------------')\n",
    "\n",
    "src = path_folder+\"/116\"\n",
    "dir_folders = os.listdir(src)\n",
    "for dir_name in dir_folders:\n",
    "    file_name = os.path.join(src, dir_name)\n",
    "    if os.path.isfile(file_name):\n",
    "        shutil.copy(file_name, path)\n",
    "print('6--------------------------------------')\n",
    "\n",
    "src = path_folder+\"/117\"\n",
    "dir_folders = os.listdir(src)\n",
    "for dir_name in dir_folders:\n",
    "    file_name = os.path.join(src, dir_name)\n",
    "    if os.path.isfile(file_name):\n",
    "        shutil.copy(file_name, path)\n",
    "print('7--------------------------------------')\n",
    "\n",
    "src = path_folder+\"/118\"\n",
    "dir_folders = os.listdir(src)\n",
    "for dir_name in dir_folders:\n",
    "    file_name = os.path.join(src, dir_name)\n",
    "    if os.path.isfile(file_name):\n",
    "        shutil.copy(file_name, path)\n",
    "print('8--------------------------------------')\n",
    "\n",
    "src = path_folder+\"/119\"\n",
    "dir_folders = os.listdir(src)\n",
    "for dir_name in dir_folders:\n",
    "    file_name = os.path.join(src, dir_name)\n",
    "    if os.path.isfile(file_name):\n",
    "        shutil.copy(file_name, path)\n",
    "print('9--------------------------------------')"
   ]
  },
  {
   "cell_type": "code",
   "execution_count": 10,
   "metadata": {},
   "outputs": [],
   "source": [
    "#Resizing all male digit images\n",
    "from PIL import Image\n",
    "src = 'E:/CSE/softConputing/Ekush/maleAllRaw'\n",
    "dir_folders = os.listdir(src)\n",
    "for dir_name in dir_folders:\n",
    "    image = Image.open(src+\"/\"+dir_name)\n",
    "    new_image = image.resize((28, 28))\n",
    "    new_image.save('E:/CSE/softConputing/Ekush/maleAll'+\"/\"+dir_name)\n",
    "    #print(dir_name)"
   ]
  },
  {
   "cell_type": "code",
   "execution_count": 11,
   "metadata": {},
   "outputs": [
    {
     "data": {
      "text/plain": [
       "['female',\n",
       " 'femaleAll',\n",
       " 'femaleAllRaw',\n",
       " 'femaleDigits.csv',\n",
       " 'male',\n",
       " 'maleAll',\n",
       " 'maleAllRaw',\n",
       " 'maleDigits.csv']"
      ]
     },
     "execution_count": 11,
     "metadata": {},
     "output_type": "execute_result"
    }
   ],
   "source": [
    "PATH = 'E:/CSE/softConputing/Ekush/'\n",
    "os.listdir(PATH)"
   ]
  },
  {
   "cell_type": "markdown",
   "metadata": {},
   "source": [
    "# TWO seperate CSV file for male and Female"
   ]
  },
  {
   "cell_type": "code",
   "execution_count": null,
   "metadata": {},
   "outputs": [],
   "source": [
    "#CSV For Female\n",
    "import os\n",
    "from os import path\n",
    "import shutil\n",
    "import numpy as np\n",
    "import pandas as pd\n",
    "\n",
    "src = 'E:/CSE/softConputing/Ekush/femaleAll'\n",
    "a = os.listdir(src)\n",
    "print(len(a))\n",
    "\n",
    "import pandas\n",
    "\n",
    "l=[]\n",
    "for i in range(len(a)):\n",
    "    l.append(1)\n",
    "df = pandas.DataFrame(data={\"imageid\": a, \"label\": l})\n",
    "df.to_csv(\"E:/CSE/softConputing/Ekush/femaleDigits.csv\", sep=',',index=False)\n"
   ]
  },
  {
   "cell_type": "code",
   "execution_count": null,
   "metadata": {},
   "outputs": [],
   "source": [
    "#CSV for Male\n",
    "\n",
    "src = 'E:/CSE/softConputing/Ekush/maleAll'\n",
    "a = os.listdir(src)\n",
    "print(len(a))\n",
    "\n",
    "import pandas\n",
    "\n",
    "l=[]\n",
    "for i in range(len(a)):\n",
    "    l.append(0)\n",
    "df = pandas.DataFrame(data={\"imageid\": a, \"label\": l})\n",
    "df.to_csv(\"E:/CSE/softConputing/Ekush/maleDigits.csv\", sep=',',index=False)"
   ]
  },
  {
   "cell_type": "markdown",
   "metadata": {},
   "source": [
    "## Done Image Processing and making CSV"
   ]
  },
  {
   "cell_type": "code",
   "execution_count": null,
   "metadata": {},
   "outputs": [],
   "source": [
    "from google.colab import drive\n",
    "\n",
    "drive.mount('/content/gdrive')"
   ]
  },
  {
   "cell_type": "code",
   "execution_count": 1,
   "metadata": {},
   "outputs": [],
   "source": [
    "import os\n",
    "from os import path\n",
    "import shutil\n",
    "import numpy as np\n",
    "import pandas as pd\n",
    "import torch\n",
    "import torch.nn as nn\n",
    "import torch.nn.functional as F\n",
    "import torch.optim as optim\n",
    "from torch.utils.data import Dataset\n",
    "from torch.utils.data.sampler import SubsetRandomSampler\n",
    "from torchvision import datasets, transforms, models\n",
    "import matplotlib\n",
    "import matplotlib.pyplot as plt\n",
    "from PIL import Image"
   ]
  },
  {
   "cell_type": "markdown",
   "metadata": {},
   "source": [
    "## Showing Samples"
   ]
  },
  {
   "cell_type": "code",
   "execution_count": 2,
   "metadata": {},
   "outputs": [
    {
     "data": {
      "image/png": "[encoded data removed]",
      "text/plain": [
       "<PIL.JpegImagePlugin.JpegImageFile image mode=RGB size=28x28 at 0x2390D005388>"
      ]
     },
     "execution_count": 2,
     "metadata": {},
     "output_type": "execute_result"
    }
   ],
   "source": [
    "from PIL import Image\n",
    "data_dir = 'E:/CSE/softConputing/Ekush/maleAll'\n",
    "name = os.listdir(data_dir)[5000]\n",
    "Image.open(data_dir+\"/\"+name)"
   ]
  },
  {
   "cell_type": "code",
   "execution_count": 3,
   "metadata": {},
   "outputs": [
    {
     "data": {
      "image/png": "[encoded data removed]",
      "text/plain": [
       "<PIL.JpegImagePlugin.JpegImageFile image mode=RGB size=28x28 at 0x2391312B748>"
      ]
     },
     "execution_count": 3,
     "metadata": {},
     "output_type": "execute_result"
    }
   ],
   "source": [
    "from PIL import Image\n",
    "data_dir = 'E:/CSE/softConputing/Ekush/femaleAll'\n",
    "name = os.listdir(data_dir)[5000]\n",
    "Image.open(data_dir+\"/\"+name)"
   ]
  },
  {
   "cell_type": "code",
   "execution_count": 4,
   "metadata": {},
   "outputs": [
    {
     "name": "stdout",
     "output_type": "stream",
     "text": [
      "15620\n"
     ]
    }
   ],
   "source": [
    "src = 'E:/CSE/softConputing/Ekush/femaleAll'\n",
    "a = os.listdir(src)\n",
    "print(len(a))"
   ]
  },
  {
   "cell_type": "code",
   "execution_count": 5,
   "metadata": {},
   "outputs": [
    {
     "data": {
      "text/plain": [
       "Index(['imageid', 'label'], dtype='object')"
      ]
     },
     "execution_count": 5,
     "metadata": {},
     "output_type": "execute_result"
    }
   ],
   "source": [
    "totalF = pd.read_csv('E:/CSE/softConputing/Ekush/femaleDigits.csv')\n",
    "totalF.columns"
   ]
  },
  {
   "cell_type": "code",
   "execution_count": 6,
   "metadata": {},
   "outputs": [
    {
     "data": {
      "text/html": [
       "<div>\n",
       "<style scoped>\n",
       "    .dataframe tbody tr th:only-of-type {\n",
       "        vertical-align: middle;\n",
       "    }\n",
       "\n",
       "    .dataframe tbody tr th {\n",
       "        vertical-align: top;\n",
       "    }\n",
       "\n",
       "    .dataframe thead th {\n",
       "        text-align: right;\n",
       "    }\n",
       "</style>\n",
       "<table border=\"1\" class=\"dataframe\">\n",
       "  <thead>\n",
       "    <tr style=\"text-align: right;\">\n",
       "      <th></th>\n",
       "      <th>imageid</th>\n",
       "      <th>label</th>\n",
       "    </tr>\n",
       "  </thead>\n",
       "  <tbody>\n",
       "    <tr>\n",
       "      <th>0</th>\n",
       "      <td>0_1_14_BOG_1_317.jpg</td>\n",
       "      <td>1</td>\n",
       "    </tr>\n",
       "    <tr>\n",
       "      <th>1</th>\n",
       "      <td>0_1_22_Farid_3_318.jpg</td>\n",
       "      <td>1</td>\n",
       "    </tr>\n",
       "    <tr>\n",
       "      <th>2</th>\n",
       "      <td>0_1_B.BARIA_11_1_319.jpg</td>\n",
       "      <td>1</td>\n",
       "    </tr>\n",
       "    <tr>\n",
       "      <th>3</th>\n",
       "      <td>0_1_B.BARIA_11_1_320.jpg</td>\n",
       "      <td>1</td>\n",
       "    </tr>\n",
       "    <tr>\n",
       "      <th>4</th>\n",
       "      <td>0_1_B.BARIA_11_1_321.jpg</td>\n",
       "      <td>1</td>\n",
       "    </tr>\n",
       "    <tr>\n",
       "      <th>5</th>\n",
       "      <td>0_1_B.BARIA_11_1_322.jpg</td>\n",
       "      <td>1</td>\n",
       "    </tr>\n",
       "    <tr>\n",
       "      <th>6</th>\n",
       "      <td>0_1_B.BARIA_11_1_323.jpg</td>\n",
       "      <td>1</td>\n",
       "    </tr>\n",
       "    <tr>\n",
       "      <th>7</th>\n",
       "      <td>0_1_B.BARIA_11_1_324.jpg</td>\n",
       "      <td>1</td>\n",
       "    </tr>\n",
       "    <tr>\n",
       "      <th>8</th>\n",
       "      <td>0_1_B.BARIA_12_1_325.jpg</td>\n",
       "      <td>1</td>\n",
       "    </tr>\n",
       "    <tr>\n",
       "      <th>9</th>\n",
       "      <td>0_1_B.BARIA_12_1_87.jpg</td>\n",
       "      <td>1</td>\n",
       "    </tr>\n",
       "  </tbody>\n",
       "</table>\n",
       "</div>"
      ],
      "text/plain": [
       "                    imageid  label\n",
       "0      0_1_14_BOG_1_317.jpg      1\n",
       "1    0_1_22_Farid_3_318.jpg      1\n",
       "2  0_1_B.BARIA_11_1_319.jpg      1\n",
       "3  0_1_B.BARIA_11_1_320.jpg      1\n",
       "4  0_1_B.BARIA_11_1_321.jpg      1\n",
       "5  0_1_B.BARIA_11_1_322.jpg      1\n",
       "6  0_1_B.BARIA_11_1_323.jpg      1\n",
       "7  0_1_B.BARIA_11_1_324.jpg      1\n",
       "8  0_1_B.BARIA_12_1_325.jpg      1\n",
       "9   0_1_B.BARIA_12_1_87.jpg      1"
      ]
     },
     "execution_count": 6,
     "metadata": {},
     "output_type": "execute_result"
    }
   ],
   "source": [
    "totalF.iloc[:10, 0:]"
   ]
  },
  {
   "cell_type": "code",
   "execution_count": 7,
   "metadata": {},
   "outputs": [
    {
     "name": "stdout",
     "output_type": "stream",
     "text": [
      "15068\n"
     ]
    }
   ],
   "source": [
    "src = 'E:/CSE/softConputing/Ekush/maleAll'\n",
    "a = os.listdir(src)\n",
    "print(len(a))"
   ]
  },
  {
   "cell_type": "code",
   "execution_count": 8,
   "metadata": {},
   "outputs": [
    {
     "data": {
      "text/plain": [
       "Index(['imageid', 'label'], dtype='object')"
      ]
     },
     "execution_count": 8,
     "metadata": {},
     "output_type": "execute_result"
    }
   ],
   "source": [
    "totalM = pd.read_csv('E:/CSE/softConputing/Ekush/maleDigits.csv')\n",
    "totalM.columns"
   ]
  },
  {
   "cell_type": "code",
   "execution_count": 9,
   "metadata": {},
   "outputs": [
    {
     "data": {
      "text/html": [
       "<div>\n",
       "<style scoped>\n",
       "    .dataframe tbody tr th:only-of-type {\n",
       "        vertical-align: middle;\n",
       "    }\n",
       "\n",
       "    .dataframe tbody tr th {\n",
       "        vertical-align: top;\n",
       "    }\n",
       "\n",
       "    .dataframe thead th {\n",
       "        text-align: right;\n",
       "    }\n",
       "</style>\n",
       "<table border=\"1\" class=\"dataframe\">\n",
       "  <thead>\n",
       "    <tr style=\"text-align: right;\">\n",
       "      <th></th>\n",
       "      <th>imageid</th>\n",
       "      <th>label</th>\n",
       "    </tr>\n",
       "  </thead>\n",
       "  <tbody>\n",
       "    <tr>\n",
       "      <th>0</th>\n",
       "      <td>0_0_18_kis_2_361.jpg</td>\n",
       "      <td>0</td>\n",
       "    </tr>\n",
       "    <tr>\n",
       "      <th>1</th>\n",
       "      <td>0_0_B.BARIA_14_1_362.jpg</td>\n",
       "      <td>0</td>\n",
       "    </tr>\n",
       "    <tr>\n",
       "      <th>2</th>\n",
       "      <td>0_0_B.BARIA_17_2_363.jpg</td>\n",
       "      <td>0</td>\n",
       "    </tr>\n",
       "    <tr>\n",
       "      <th>3</th>\n",
       "      <td>0_0_B.BARIA_20_3_1.jpg</td>\n",
       "      <td>0</td>\n",
       "    </tr>\n",
       "    <tr>\n",
       "      <th>4</th>\n",
       "      <td>0_0_B.BARIA_20_3_364.jpg</td>\n",
       "      <td>0</td>\n",
       "    </tr>\n",
       "    <tr>\n",
       "      <th>5</th>\n",
       "      <td>0_0_B.BARIA_21_3_2.jpg</td>\n",
       "      <td>0</td>\n",
       "    </tr>\n",
       "    <tr>\n",
       "      <th>6</th>\n",
       "      <td>0_0_B.BARIA_22_3_3.jpg</td>\n",
       "      <td>0</td>\n",
       "    </tr>\n",
       "    <tr>\n",
       "      <th>7</th>\n",
       "      <td>0_0_B.BARIA_22_3_4.jpg</td>\n",
       "      <td>0</td>\n",
       "    </tr>\n",
       "    <tr>\n",
       "      <th>8</th>\n",
       "      <td>0_0_B.BARI_10_1_365.jpg</td>\n",
       "      <td>0</td>\n",
       "    </tr>\n",
       "    <tr>\n",
       "      <th>9</th>\n",
       "      <td>0_0_B.BARI_11_1_366.jpg</td>\n",
       "      <td>0</td>\n",
       "    </tr>\n",
       "  </tbody>\n",
       "</table>\n",
       "</div>"
      ],
      "text/plain": [
       "                    imageid  label\n",
       "0      0_0_18_kis_2_361.jpg      0\n",
       "1  0_0_B.BARIA_14_1_362.jpg      0\n",
       "2  0_0_B.BARIA_17_2_363.jpg      0\n",
       "3    0_0_B.BARIA_20_3_1.jpg      0\n",
       "4  0_0_B.BARIA_20_3_364.jpg      0\n",
       "5    0_0_B.BARIA_21_3_2.jpg      0\n",
       "6    0_0_B.BARIA_22_3_3.jpg      0\n",
       "7    0_0_B.BARIA_22_3_4.jpg      0\n",
       "8   0_0_B.BARI_10_1_365.jpg      0\n",
       "9   0_0_B.BARI_11_1_366.jpg      0"
      ]
     },
     "execution_count": 9,
     "metadata": {},
     "output_type": "execute_result"
    }
   ],
   "source": [
    "totalM.iloc[:10, 0:]"
   ]
  },
  {
   "cell_type": "code",
   "execution_count": 10,
   "metadata": {},
   "outputs": [],
   "source": [
    "PATH = 'E:/CSE/softConputing/Ekush/'"
   ]
  },
  {
   "cell_type": "code",
   "execution_count": 11,
   "metadata": {},
   "outputs": [],
   "source": [
    "def showRawTrainingSamples(csv_filename):\n",
    "    df = pd.read_csv(PATH + csv_filename)\n",
    "    print(csv_filename)\n",
    "    print(df.columns)\n",
    "    return df"
   ]
  },
  {
   "cell_type": "code",
   "execution_count": 12,
   "metadata": {},
   "outputs": [
    {
     "name": "stdout",
     "output_type": "stream",
     "text": [
      "maleDigits.csv\n",
      "Index(['imageid', 'label'], dtype='object')\n",
      "femaleDigits.csv\n",
      "Index(['imageid', 'label'], dtype='object')\n"
     ]
    }
   ],
   "source": [
    "m_csv = showRawTrainingSamples('maleDigits.csv')\n",
    "f_csv = showRawTrainingSamples('femaleDigits.csv')"
   ]
  },
  {
   "cell_type": "code",
   "execution_count": 13,
   "metadata": {},
   "outputs": [],
   "source": [
    "def dropColumns(csv_file):\n",
    "    #csv_file = csv_file[['filename', 'digit']]\n",
    "    print(csv_file)\n",
    "    print(csv_file.iloc[:2, :])   #First 5 Rows of the CSV File\n",
    "    print(\"=============================\")\n",
    "    return csv_file"
   ]
  },
  {
   "cell_type": "code",
   "execution_count": 14,
   "metadata": {},
   "outputs": [
    {
     "name": "stdout",
     "output_type": "stream",
     "text": [
      "                        imageid  label\n",
      "0          0_0_18_kis_2_361.jpg      0\n",
      "1      0_0_B.BARIA_14_1_362.jpg      0\n",
      "2      0_0_B.BARIA_17_2_363.jpg      0\n",
      "3        0_0_B.BARIA_20_3_1.jpg      0\n",
      "4      0_0_B.BARIA_20_3_364.jpg      0\n",
      "...                         ...    ...\n",
      "15063     9_0_THAK_20_3_345.jpg      0\n",
      "15064     9_0_THAK_20_3_346.jpg      0\n",
      "15065     9_0_THAK_21_3_347.jpg      0\n",
      "15066     9_0_THAK_21_3_348.jpg      0\n",
      "15067     9_0_THAK_22_3_349.jpg      0\n",
      "\n",
      "[15068 rows x 2 columns]\n",
      "                    imageid  label\n",
      "0      0_0_18_kis_2_361.jpg      0\n",
      "1  0_0_B.BARIA_14_1_362.jpg      0\n",
      "=============================\n",
      "                        imageid  label\n",
      "0          0_1_14_BOG_1_317.jpg      1\n",
      "1        0_1_22_Farid_3_318.jpg      1\n",
      "2      0_1_B.BARIA_11_1_319.jpg      1\n",
      "3      0_1_B.BARIA_11_1_320.jpg      1\n",
      "4      0_1_B.BARIA_11_1_321.jpg      1\n",
      "...                         ...    ...\n",
      "15615      9_1_TAN_1_1_1577.jpg      1\n",
      "15616       9_1_THAK_13_316.jpg      1\n",
      "15617    9_1_Tha_21_3_00032.jpg      1\n",
      "15618    9_1_Tha_22_3_00033.jpg      1\n",
      "15619    9_1_Tha_22_3_00035.jpg      1\n",
      "\n",
      "[15620 rows x 2 columns]\n",
      "                  imageid  label\n",
      "0    0_1_14_BOG_1_317.jpg      1\n",
      "1  0_1_22_Farid_3_318.jpg      1\n",
      "=============================\n"
     ]
    }
   ],
   "source": [
    "m_csv = dropColumns(m_csv)\n",
    "f_csv = dropColumns(f_csv)"
   ]
  },
  {
   "cell_type": "code",
   "execution_count": 15,
   "metadata": {},
   "outputs": [
    {
     "name": "stdout",
     "output_type": "stream",
     "text": [
      "30688\n"
     ]
    }
   ],
   "source": [
    "# concating male and felame CSV\n",
    "total_csv = [m_csv, f_csv]\n",
    "\n",
    "merged_csv = pd.concat(total_csv)\n",
    "print(len(merged_csv))"
   ]
  },
  {
   "cell_type": "code",
   "execution_count": null,
   "metadata": {},
   "outputs": [],
   "source": [
    "##Making train folder\n",
    "TRAIN_PATH = 'E:/CSE/softConputing/Ekush/train'\n",
    "os.mkdir(TRAIN_PATH)"
   ]
  },
  {
   "cell_type": "code",
   "execution_count": 16,
   "metadata": {},
   "outputs": [],
   "source": [
    "TRAIN_PATH = 'E:/CSE/softConputing/Ekush/train'"
   ]
  },
  {
   "cell_type": "code",
   "execution_count": 33,
   "metadata": {},
   "outputs": [],
   "source": [
    "def processImages(folder_name):\n",
    "    src = PATH + folder_name + '/'\n",
    "    dir_folders = os.listdir(src)\n",
    "    for dir_name in dir_folders:\n",
    "        file_name = os.path.join(src, dir_name)\n",
    "        if os.path.isfile(file_name):\n",
    "            shutil.copy(file_name, TRAIN_PATH)"
   ]
  },
  {
   "cell_type": "code",
   "execution_count": 34,
   "metadata": {},
   "outputs": [
    {
     "name": "stdout",
     "output_type": "stream",
     "text": [
      "M Done\n",
      "F Done\n"
     ]
    }
   ],
   "source": [
    "processImages('maleAll')\n",
    "print('M Done')\n",
    "processImages('femaleAll')\n",
    "print('F Done')"
   ]
  },
  {
   "cell_type": "code",
   "execution_count": 17,
   "metadata": {},
   "outputs": [],
   "source": [
    "class Dataset(Dataset):\n",
    "    def __init__(self, df, root, transform=None):\n",
    "        self.data = df\n",
    "        self.root = root\n",
    "        self.transform = transform\n",
    "        \n",
    "    def __len__(self):\n",
    "        return len(self.data)\n",
    "    \n",
    "    def __getitem__(self, index):\n",
    "        item = self.data.iloc[index]\n",
    "        \n",
    "        path = self.root + \"/\" + item[0]\n",
    "        image = Image.open(path).convert('L')\n",
    "        label = item[1]\n",
    "        \n",
    "        if self.transform is not None:\n",
    "            image = self.transform(image)\n",
    "            \n",
    "        return image, label"
   ]
  },
  {
   "cell_type": "code",
   "execution_count": 18,
   "metadata": {},
   "outputs": [
    {
     "name": "stdout",
     "output_type": "stream",
     "text": [
      "Trainig Samples:  30688\n"
     ]
    }
   ],
   "source": [
    "#Normalizing Dataset\n",
    "mean = [0.5,]\n",
    "std = [0.5, ]\n",
    "\n",
    "train_transform = transforms.Compose([\n",
    "    transforms.Resize(28),\n",
    "    transforms.ToTensor(),\n",
    "    transforms.Normalize(mean, std)\n",
    "])\n",
    "\n",
    "test_transform = transforms.Compose([\n",
    "        transforms.Resize(28),\n",
    "        transforms.ToTensor(),\n",
    "        transforms.Normalize(mean, std)\n",
    "])\n",
    "\n",
    "train_data  = Dataset(merged_csv, TRAIN_PATH, train_transform)\n",
    "test_data = Dataset(merged_csv, TRAIN_PATH, test_transform)\n",
    "\n",
    "print(\"Trainig Samples: \",len(train_data))"
   ]
  },
  {
   "cell_type": "code",
   "execution_count": 19,
   "metadata": {},
   "outputs": [
    {
     "data": {
      "text/plain": [
       "<matplotlib.image.AxesImage at 0x23912c81548>"
      ]
     },
     "execution_count": 19,
     "metadata": {},
     "output_type": "execute_result"
    },
    {
     "data": {
      "image/png": "[encoded data removed]",
      "text/plain": [
       "<Figure size 432x288 with 1 Axes>"
      ]
     },
     "metadata": {
      "needs_background": "light"
     },
     "output_type": "display_data"
    }
   ],
   "source": [
    "## Displaying a Ekush Image\n",
    "\n",
    "import matplotlib.pyplot as plt \n",
    "import numpy as np\n",
    "\n",
    "show_img = train_data[5000][0].numpy().reshape(28, 28)\n",
    "plt.imshow(show_img, cmap='gray')"
   ]
  },
  {
   "cell_type": "code",
   "execution_count": 20,
   "metadata": {},
   "outputs": [
    {
     "name": "stdout",
     "output_type": "stream",
     "text": [
      "Label:\n",
      "0\n"
     ]
    },
    {
     "data": {
      "text/plain": [
       "<matplotlib.image.AxesImage at 0x239135da508>"
      ]
     },
     "execution_count": 20,
     "metadata": {},
     "output_type": "execute_result"
    },
    {
     "data": {
      "image/png": "[encoded data removed]",
      "text/plain": [
       "<Figure size 432x288 with 1 Axes>"
      ]
     },
     "metadata": {
      "needs_background": "light"
     },
     "output_type": "display_data"
    }
   ],
   "source": [
    "## Displaying another ekush Image with label\n",
    "\n",
    "print(\"Label:\")\n",
    "print(train_data[2][1])\n",
    "\n",
    "show_img = train_data[2000][0].numpy().reshape(28, 28)\n",
    "plt.imshow(show_img, cmap='gray')"
   ]
  },
  {
   "cell_type": "code",
   "execution_count": 21,
   "metadata": {},
   "outputs": [
    {
     "name": "stdout",
     "output_type": "stream",
     "text": [
      "torch.Size([1, 28, 28])\n",
      "(1, 28, 28)\n",
      "0\n"
     ]
    }
   ],
   "source": [
    "# One Image Size\n",
    "print(train_data[0][0].size())\n",
    "print(train_data[0][0].numpy().shape)\n",
    "# First Image Label\n",
    "print(train_data[59][1])"
   ]
  },
  {
   "cell_type": "markdown",
   "metadata": {},
   "source": [
    "## Designing Neural Network Models"
   ]
  },
  {
   "cell_type": "code",
   "execution_count": null,
   "metadata": {},
   "outputs": [],
   "source": []
  },
  {
   "cell_type": "markdown",
   "metadata": {},
   "source": [
    "# Combination-1:\n",
    "iteration=5000, epoch=14, lr=0.001, batch size=200, optimizer=Adam, num_hidden = 100, Layer=2, activations=ReLU, Loss function=CrossEntropyLoss"
   ]
  },
  {
   "cell_type": "code",
   "execution_count": 22,
   "metadata": {},
   "outputs": [],
   "source": [
    "# Hyperparameters\n",
    "\n",
    "batch_size = 200\n",
    "num_iters = 5000\n",
    "num_hidden = 100\n",
    "input_dim = 28*28 # num_features = 784\n",
    "output_dim = 2\n",
    "save_model = True\n",
    "\n",
    "learning_rate = 0.001\n",
    "\n",
    "\n",
    "# Device\n",
    "device = torch.device(\"cuda:0\" if torch.cuda.is_available() else \"cpu\")"
   ]
  },
  {
   "cell_type": "code",
   "execution_count": 23,
   "metadata": {},
   "outputs": [
    {
     "name": "stdout",
     "output_type": "stream",
     "text": [
      "32\n"
     ]
    }
   ],
   "source": [
    "num_epochs = num_iters / (len(train_data) / batch_size)\n",
    "num_epochs = int(num_epochs)\n",
    "print(num_epochs)"
   ]
  },
  {
   "cell_type": "code",
   "execution_count": 24,
   "metadata": {},
   "outputs": [
    {
     "name": "stdout",
     "output_type": "stream",
     "text": [
      "Train dataloader:139\n",
      "Test dataloader:16\n"
     ]
    }
   ],
   "source": [
    "#batch size\n",
    "#batch_size = 32\n",
    "\n",
    "# split data 20% for testing\n",
    "test_size = 0.1\n",
    "\n",
    "# obtain training indices that will be used for validation\n",
    "num_train = len(train_data)\n",
    "\n",
    "# mix data\n",
    "# index of num of train\n",
    "indices = list(range(num_train))\n",
    "# random the index\n",
    "np.random.shuffle(indices)\n",
    "split = int(np.floor(test_size * num_train))\n",
    "# divied into two part\n",
    "train_idx, test_idx = indices[split:], indices[:split]\n",
    "\n",
    "# define the sampler\n",
    "train_sampler = SubsetRandomSampler(train_idx)\n",
    "test_sampler = SubsetRandomSampler(test_idx)\n",
    "\n",
    "# prepare loaders\n",
    "train_loader = torch.utils.data.DataLoader(\n",
    "    train_data, batch_size=batch_size,\n",
    "    sampler=train_sampler)\n",
    "\n",
    "test_loader = torch.utils.data.DataLoader(\n",
    "    test_data, batch_size=batch_size,\n",
    "    sampler=test_sampler)\n",
    "\n",
    "print(\"Train dataloader:{}\".format(len(train_loader)))\n",
    "print(\"Test dataloader:{}\".format(len(test_loader)))\n"
   ]
  },
  {
   "cell_type": "code",
   "execution_count": 25,
   "metadata": {},
   "outputs": [],
   "source": [
    "class DeepNeuralNetworkModel(nn.Module):\n",
    "    def __init__(self, input_size, num_classes, num_hidden):\n",
    "        super().__init__()\n",
    "        ### 1st hidden layer: 784 --> 100\n",
    "        self.linear_1 = nn.Linear(input_size, num_hidden)\n",
    "        ### Non-linearity in 1st hidden layer\n",
    "        self.relu_1 = nn.ReLU()\n",
    "\n",
    "        ### 2nd hidden layer: 100 --> 100\n",
    "        self.linear_2 = nn.Linear(num_hidden, num_hidden)\n",
    "        ### Non-linearity in 2nd hidden layer\n",
    "        self.relu_2 = nn.ReLU()\n",
    "\n",
    "        ### 3rd hidden layer: 100 --> 100\n",
    "        ###self.linear_3 = nn.Linear(num_hidden, num_hidden)\n",
    "        ### Non-linearity in 3rd hidden layer\n",
    "        ###self.relu_3 = nn.ReLU()\n",
    "\n",
    "        ### Output layer: 100 --> 10\n",
    "        self.linear_out = nn.Linear(num_hidden, num_classes)\n",
    "\n",
    "    def forward(self, x):\n",
    "        ### 1st hidden layer\n",
    "        out  = self.linear_1(x)\n",
    "        ### Non-linearity in 1st hidden layer\n",
    "        out = self.relu_1(out)\n",
    "        \n",
    "        ### 2nd hidden layer\n",
    "        out  = self.linear_2(out)\n",
    "        ### Non-linearity in 2nd hidden layer\n",
    "        out = self.relu_2(out)\n",
    "\n",
    "        ### 3rd hidden layer\n",
    "        ###out  = self.linear_3(out)\n",
    "        ### Non-linearity in 3rd hidden layer\n",
    "        ###out = self.relu_3(out)\n",
    "        \n",
    "        # Linear layer (output)\n",
    "        probas  = self.linear_out(out)\n",
    "        return probas"
   ]
  },
  {
   "cell_type": "code",
   "execution_count": 26,
   "metadata": {},
   "outputs": [
    {
     "data": {
      "text/plain": [
       "DeepNeuralNetworkModel(\n",
       "  (linear_1): Linear(in_features=784, out_features=100, bias=True)\n",
       "  (relu_1): ReLU()\n",
       "  (linear_2): Linear(in_features=100, out_features=100, bias=True)\n",
       "  (relu_2): ReLU()\n",
       "  (linear_out): Linear(in_features=100, out_features=2, bias=True)\n",
       ")"
      ]
     },
     "execution_count": 26,
     "metadata": {},
     "output_type": "execute_result"
    }
   ],
   "source": [
    "# INSTANTIATE MODEL CLASS\n",
    "\n",
    "model = DeepNeuralNetworkModel(input_size = input_dim,\n",
    "                               num_classes = output_dim,\n",
    "                               num_hidden = num_hidden)\n",
    "# To enable GPU\n",
    "model.to(device)"
   ]
  },
  {
   "cell_type": "code",
   "execution_count": 27,
   "metadata": {},
   "outputs": [],
   "source": [
    "# INSTANTIATE LOSS & OPTIMIZER CLASS\n",
    "criterion = nn.CrossEntropyLoss()\n",
    "optimizer = torch.optim.Adam(model.parameters(), lr=learning_rate)\n"
   ]
  },
  {
   "cell_type": "code",
   "execution_count": 28,
   "metadata": {},
   "outputs": [
    {
     "name": "stdout",
     "output_type": "stream",
     "text": [
      "0\n",
      "1\n",
      "2\n",
      "3\n",
      "Iteration: 500. Loss: 0.6466644406318665. Accuracy: 63.26597131681878\n",
      "4\n",
      "5\n",
      "6\n",
      "7\n",
      "Iteration: 1000. Loss: 0.5699825286865234. Accuracy: 62.25554106910039\n",
      "8\n",
      "9\n",
      "10\n",
      "Iteration: 1500. Loss: 0.6033549308776855. Accuracy: 60.95176010430248\n",
      "11\n",
      "12\n",
      "13\n",
      "14\n",
      "Iteration: 2000. Loss: 0.46783164143562317. Accuracy: 61.408083441981745\n",
      "15\n",
      "16\n",
      "17\n",
      "Iteration: 2500. Loss: 0.5231016278266907. Accuracy: 61.08213820078227\n",
      "18\n",
      "19\n",
      "20\n",
      "21\n",
      "Iteration: 3000. Loss: 0.3803236782550812. Accuracy: 59.97392438070404\n",
      "22\n",
      "23\n",
      "24\n",
      "25\n",
      "Iteration: 3500. Loss: 0.33501487970352173. Accuracy: 61.016949152542374\n",
      "26\n",
      "27\n",
      "28\n",
      "Iteration: 4000. Loss: 0.29279202222824097. Accuracy: 59.680573663624514\n",
      "29\n",
      "30\n",
      "31\n"
     ]
    }
   ],
   "source": [
    "'''\n",
    "TRAIN THE MODEL\n",
    "'''\n",
    "iter = 0\n",
    "for epoch in range(num_epochs):\n",
    "    print(epoch)\n",
    "    for i, (images, labels) in enumerate(train_loader):\n",
    "\n",
    "        images = images.view(-1, 28*28).to(device)\n",
    "        labels = labels.to(device)\n",
    "\n",
    "        # Clear gradients w.r.t. parameters\n",
    "        optimizer.zero_grad()\n",
    "\n",
    "        # Forward pass to get output/logits\n",
    "        outputs = model(images) \n",
    "\n",
    "        # Calculate Loss: softmax --> cross entropy loss\n",
    "        loss = criterion(outputs, labels)\n",
    "\n",
    "        # Getting gradients w.r.t. parameters\n",
    "        loss.backward()\n",
    "\n",
    "        # Updating parameters\n",
    "        optimizer.step()\n",
    "\n",
    "        iter += 1\n",
    "\n",
    "        if iter % 500 == 0:\n",
    "            # Calculate Accuracy         \n",
    "            correct = 0\n",
    "            total = 0\n",
    "            # Iterate through test dataset\n",
    "            for images, labels in test_loader:\n",
    "               \n",
    "                images = images.view(-1, 28*28).to(device)\n",
    "\n",
    "                # Forward pass only to get logits/output\n",
    "                outputs = model(images)\n",
    "\n",
    "                # Get predictions from the maximum value\n",
    "                _, predicted = torch.max(outputs, 1)\n",
    "\n",
    "                # Total number of labels\n",
    "                total += labels.size(0)\n",
    "\n",
    "\n",
    "                # Total correct predictions\n",
    "                if torch.cuda.is_available():\n",
    "                    correct += (predicted.cpu() == labels.cpu()).sum() \n",
    "                else:\n",
    "                    correct += (predicted == labels).sum()\n",
    "\n",
    "            accuracy = 100 * correct.item() / total\n",
    "\n",
    "            # Print Loss\n",
    "            print('Iteration: {}. Loss: {}. Accuracy: {}'.format(iter, loss.item(), accuracy))"
   ]
  },
  {
   "cell_type": "code",
   "execution_count": 29,
   "metadata": {},
   "outputs": [],
   "source": [
    "if save_model is True:\n",
    "    # Saves only parameters\n",
    "    # wights & biases\n",
    "    torch.save(model.state_dict(), 'E:/CSE/softConputing/Ekush/ass-2/model/combination1.pkl') "
   ]
  },
  {
   "cell_type": "markdown",
   "metadata": {},
   "source": [
    "# Combination-2:\n",
    "iteration=5000, epoch=14, lr=0.001, batch size=200, optimizer=Adam, num_hidden = 100, Layer=3, activations=ReLU, Loss function=CrossEntropyLoss"
   ]
  },
  {
   "cell_type": "code",
   "execution_count": 30,
   "metadata": {},
   "outputs": [],
   "source": [
    "# Hyperparameters\n",
    "\n",
    "batch_size = 200\n",
    "num_iters = 5000\n",
    "num_hidden = 100\n",
    "input_dim = 28*28 # num_features = 784\n",
    "output_dim = 2\n",
    "save_model = True\n",
    "\n",
    "learning_rate = 0.001\n",
    "\n",
    "\n",
    "# Device\n",
    "device = torch.device(\"cuda:0\" if torch.cuda.is_available() else \"cpu\")"
   ]
  },
  {
   "cell_type": "code",
   "execution_count": 31,
   "metadata": {},
   "outputs": [
    {
     "name": "stdout",
     "output_type": "stream",
     "text": [
      "32\n"
     ]
    }
   ],
   "source": [
    "num_epochs = num_iters / (len(train_data) / batch_size)\n",
    "num_epochs = int(num_epochs)\n",
    "print(num_epochs)"
   ]
  },
  {
   "cell_type": "code",
   "execution_count": 32,
   "metadata": {},
   "outputs": [
    {
     "name": "stdout",
     "output_type": "stream",
     "text": [
      "Train dataloader:139\n",
      "Test dataloader:16\n"
     ]
    }
   ],
   "source": [
    "#batch size\n",
    "#batch_size = 32\n",
    "\n",
    "# split data 20% for testing\n",
    "test_size = 0.1\n",
    "\n",
    "# obtain training indices that will be used for validation\n",
    "num_train = len(train_data)\n",
    "\n",
    "# mix data\n",
    "# index of num of train\n",
    "indices = list(range(num_train))\n",
    "# random the index\n",
    "np.random.shuffle(indices)\n",
    "split = int(np.floor(test_size * num_train))\n",
    "# divied into two part\n",
    "train_idx, test_idx = indices[split:], indices[:split]\n",
    "\n",
    "# define the sampler\n",
    "train_sampler = SubsetRandomSampler(train_idx)\n",
    "test_sampler = SubsetRandomSampler(test_idx)\n",
    "\n",
    "# prepare loaders\n",
    "train_loader = torch.utils.data.DataLoader(\n",
    "    train_data, batch_size=batch_size,\n",
    "    sampler=train_sampler)\n",
    "\n",
    "test_loader = torch.utils.data.DataLoader(\n",
    "    test_data, batch_size=batch_size,\n",
    "    sampler=test_sampler)\n",
    "\n",
    "print(\"Train dataloader:{}\".format(len(train_loader)))\n",
    "print(\"Test dataloader:{}\".format(len(test_loader)))\n"
   ]
  },
  {
   "cell_type": "code",
   "execution_count": 33,
   "metadata": {},
   "outputs": [],
   "source": [
    "class DeepNeuralNetworkModel(nn.Module):\n",
    "    def __init__(self, input_size, num_classes, num_hidden):\n",
    "        super().__init__()\n",
    "        ### 1st hidden layer: 784 --> 100\n",
    "        self.linear_1 = nn.Linear(input_size, num_hidden)\n",
    "        ### Non-linearity in 1st hidden layer\n",
    "        self.relu_1 = nn.ReLU()\n",
    "\n",
    "        ### 2nd hidden layer: 100 --> 100\n",
    "        self.linear_2 = nn.Linear(num_hidden, num_hidden)\n",
    "        ### Non-linearity in 2nd hidden layer\n",
    "        self.relu_2 = nn.ReLU()\n",
    "\n",
    "        ### 3rd hidden layer: 100 --> 100\n",
    "        self.linear_3 = nn.Linear(num_hidden, num_hidden)\n",
    "        ### Non-linearity in 3rd hidden layer\n",
    "        self.relu_3 = nn.ReLU()\n",
    "\n",
    "        ### Output layer: 100 --> 10\n",
    "        self.linear_out = nn.Linear(num_hidden, num_classes)\n",
    "\n",
    "    def forward(self, x):\n",
    "        ### 1st hidden layer\n",
    "        out  = self.linear_1(x)\n",
    "        ### Non-linearity in 1st hidden layer\n",
    "        out = self.relu_1(out)\n",
    "        \n",
    "        ### 2nd hidden layer\n",
    "        out  = self.linear_2(out)\n",
    "        ### Non-linearity in 2nd hidden layer\n",
    "        out = self.relu_2(out)\n",
    "\n",
    "        ### 3rd hidden layer\n",
    "        out  = self.linear_3(out)\n",
    "        ### Non-linearity in 3rd hidden layer\n",
    "        out = self.relu_3(out)\n",
    "        \n",
    "        # Linear layer (output)\n",
    "        probas  = self.linear_out(out)\n",
    "        return probas"
   ]
  },
  {
   "cell_type": "code",
   "execution_count": 34,
   "metadata": {},
   "outputs": [
    {
     "data": {
      "text/plain": [
       "DeepNeuralNetworkModel(\n",
       "  (linear_1): Linear(in_features=784, out_features=100, bias=True)\n",
       "  (relu_1): ReLU()\n",
       "  (linear_2): Linear(in_features=100, out_features=100, bias=True)\n",
       "  (relu_2): ReLU()\n",
       "  (linear_3): Linear(in_features=100, out_features=100, bias=True)\n",
       "  (relu_3): ReLU()\n",
       "  (linear_out): Linear(in_features=100, out_features=2, bias=True)\n",
       ")"
      ]
     },
     "execution_count": 34,
     "metadata": {},
     "output_type": "execute_result"
    }
   ],
   "source": [
    "# INSTANTIATE MODEL CLASS\n",
    "\n",
    "model = DeepNeuralNetworkModel(input_size = input_dim,\n",
    "                               num_classes = output_dim,\n",
    "                               num_hidden = num_hidden)\n",
    "# To enable GPU\n",
    "model.to(device)"
   ]
  },
  {
   "cell_type": "code",
   "execution_count": 35,
   "metadata": {},
   "outputs": [],
   "source": [
    "# INSTANTIATE LOSS & OPTIMIZER CLASS\n",
    "criterion = nn.CrossEntropyLoss()\n",
    "optimizer = torch.optim.Adam(model.parameters(), lr=learning_rate)\n"
   ]
  },
  {
   "cell_type": "code",
   "execution_count": 36,
   "metadata": {},
   "outputs": [
    {
     "name": "stdout",
     "output_type": "stream",
     "text": [
      "0\n",
      "1\n",
      "2\n",
      "3\n",
      "Iteration: 500. Loss: 0.6700134873390198. Accuracy: 61.04954367666232\n",
      "4\n",
      "5\n",
      "6\n",
      "7\n",
      "Iteration: 1000. Loss: 0.6108580231666565. Accuracy: 62.190352020860495\n",
      "8\n",
      "9\n",
      "10\n",
      "Iteration: 1500. Loss: 0.5247443914413452. Accuracy: 61.08213820078227\n",
      "11\n",
      "12\n",
      "13\n",
      "14\n",
      "Iteration: 2000. Loss: 0.4944919943809509. Accuracy: 60.33246414602347\n",
      "15\n",
      "16\n",
      "17\n",
      "Iteration: 2500. Loss: 0.43107855319976807. Accuracy: 61.11473272490222\n",
      "18\n",
      "19\n",
      "20\n",
      "21\n",
      "Iteration: 3000. Loss: 0.3726526200771332. Accuracy: 60.33246414602347\n",
      "22\n",
      "23\n",
      "24\n",
      "25\n",
      "Iteration: 3500. Loss: 0.28857576847076416. Accuracy: 60.234680573663624\n",
      "26\n",
      "27\n",
      "28\n",
      "Iteration: 4000. Loss: 0.2978760898113251. Accuracy: 59.51760104302477\n",
      "29\n",
      "30\n",
      "31\n"
     ]
    }
   ],
   "source": [
    "'''\n",
    "TRAIN THE MODEL\n",
    "'''\n",
    "iter = 0\n",
    "for epoch in range(num_epochs):\n",
    "    print(epoch)\n",
    "    for i, (images, labels) in enumerate(train_loader):\n",
    "\n",
    "        images = images.view(-1, 28*28).to(device)\n",
    "        labels = labels.to(device)\n",
    "\n",
    "        # Clear gradients w.r.t. parameters\n",
    "        optimizer.zero_grad()\n",
    "\n",
    "        # Forward pass to get output/logits\n",
    "        outputs = model(images) \n",
    "\n",
    "        # Calculate Loss: softmax --> cross entropy loss\n",
    "        loss = criterion(outputs, labels)\n",
    "\n",
    "        # Getting gradients w.r.t. parameters\n",
    "        loss.backward()\n",
    "\n",
    "        # Updating parameters\n",
    "        optimizer.step()\n",
    "\n",
    "        iter += 1\n",
    "\n",
    "        if iter % 500 == 0:\n",
    "            # Calculate Accuracy         \n",
    "            correct = 0\n",
    "            total = 0\n",
    "            # Iterate through test dataset\n",
    "            for images, labels in test_loader:\n",
    "               \n",
    "                images = images.view(-1, 28*28).to(device)\n",
    "\n",
    "                # Forward pass only to get logits/output\n",
    "                outputs = model(images)\n",
    "\n",
    "                # Get predictions from the maximum value\n",
    "                _, predicted = torch.max(outputs, 1)\n",
    "\n",
    "                # Total number of labels\n",
    "                total += labels.size(0)\n",
    "\n",
    "\n",
    "                # Total correct predictions\n",
    "                if torch.cuda.is_available():\n",
    "                    correct += (predicted.cpu() == labels.cpu()).sum() \n",
    "                else:\n",
    "                    correct += (predicted == labels).sum()\n",
    "\n",
    "            accuracy = 100 * correct.item() / total\n",
    "\n",
    "            # Print Loss\n",
    "            print('Iteration: {}. Loss: {}. Accuracy: {}'.format(iter, loss.item(), accuracy))"
   ]
  },
  {
   "cell_type": "code",
   "execution_count": 37,
   "metadata": {},
   "outputs": [],
   "source": [
    "if save_model is True:\n",
    "    # Saves only parameters\n",
    "    # wights & biases\n",
    "    torch.save(model.state_dict(), 'E:/CSE/softConputing/Ekush/ass-2/model/combination2.pkl') "
   ]
  },
  {
   "cell_type": "markdown",
   "metadata": {},
   "source": [
    "# Combination-3:\n",
    "iteration=5000, epoch=14, lr=0.001, batch size=200, optimizer=Adam, num_hidden = 150, Layer=3, activations=ReLU, Loss function=CrossEntropyLoss"
   ]
  },
  {
   "cell_type": "code",
   "execution_count": 45,
   "metadata": {},
   "outputs": [],
   "source": [
    "# Hyperparameters\n",
    "\n",
    "batch_size = 200\n",
    "num_iters = 5000\n",
    "num_hidden = 150\n",
    "input_dim = 28*28 # num_features = 784\n",
    "output_dim = 2\n",
    "save_model = True\n",
    "\n",
    "learning_rate = 0.001\n",
    "\n",
    "\n",
    "# Device\n",
    "device = torch.device(\"cuda:0\" if torch.cuda.is_available() else \"cpu\")"
   ]
  },
  {
   "cell_type": "code",
   "execution_count": 46,
   "metadata": {},
   "outputs": [
    {
     "name": "stdout",
     "output_type": "stream",
     "text": [
      "32\n"
     ]
    }
   ],
   "source": [
    "num_epochs = num_iters / (len(train_data) / batch_size)\n",
    "num_epochs = int(num_epochs)\n",
    "print(num_epochs)"
   ]
  },
  {
   "cell_type": "code",
   "execution_count": 47,
   "metadata": {},
   "outputs": [
    {
     "name": "stdout",
     "output_type": "stream",
     "text": [
      "Train dataloader:139\n",
      "Test dataloader:16\n"
     ]
    }
   ],
   "source": [
    "#batch size\n",
    "#batch_size = 32\n",
    "\n",
    "# split data 20% for testing\n",
    "test_size = 0.1\n",
    "\n",
    "# obtain training indices that will be used for validation\n",
    "num_train = len(train_data)\n",
    "\n",
    "# mix data\n",
    "# index of num of train\n",
    "indices = list(range(num_train))\n",
    "# random the index\n",
    "np.random.shuffle(indices)\n",
    "split = int(np.floor(test_size * num_train))\n",
    "# divied into two part\n",
    "train_idx, test_idx = indices[split:], indices[:split]\n",
    "\n",
    "# define the sampler\n",
    "train_sampler = SubsetRandomSampler(train_idx)\n",
    "test_sampler = SubsetRandomSampler(test_idx)\n",
    "\n",
    "# prepare loaders\n",
    "train_loader = torch.utils.data.DataLoader(\n",
    "    train_data, batch_size=batch_size,\n",
    "    sampler=train_sampler)\n",
    "\n",
    "test_loader = torch.utils.data.DataLoader(\n",
    "    test_data, batch_size=batch_size,\n",
    "    sampler=test_sampler)\n",
    "\n",
    "print(\"Train dataloader:{}\".format(len(train_loader)))\n",
    "print(\"Test dataloader:{}\".format(len(test_loader)))\n"
   ]
  },
  {
   "cell_type": "code",
   "execution_count": 48,
   "metadata": {},
   "outputs": [],
   "source": [
    "class DeepNeuralNetworkModel(nn.Module):\n",
    "    def __init__(self, input_size, num_classes, num_hidden):\n",
    "        super().__init__()\n",
    "        ### 1st hidden layer: 784 --> 100\n",
    "        self.linear_1 = nn.Linear(input_size, num_hidden)\n",
    "        ### Non-linearity in 1st hidden layer\n",
    "        self.relu_1 = nn.ReLU()\n",
    "\n",
    "        ### 2nd hidden layer: 100 --> 100\n",
    "        self.linear_2 = nn.Linear(num_hidden, num_hidden)\n",
    "        ### Non-linearity in 2nd hidden layer\n",
    "        self.relu_2 = nn.ReLU()\n",
    "\n",
    "        ### 3rd hidden layer: 100 --> 100\n",
    "        self.linear_3 = nn.Linear(num_hidden, num_hidden)\n",
    "        ### Non-linearity in 3rd hidden layer\n",
    "        self.relu_3 = nn.ReLU()\n",
    "\n",
    "        ### Output layer: 100 --> 10\n",
    "        self.linear_out = nn.Linear(num_hidden, num_classes)\n",
    "\n",
    "    def forward(self, x):\n",
    "        ### 1st hidden layer\n",
    "        out  = self.linear_1(x)\n",
    "        ### Non-linearity in 1st hidden layer\n",
    "        out = self.relu_1(out)\n",
    "        \n",
    "        ### 2nd hidden layer\n",
    "        out  = self.linear_2(out)\n",
    "        ### Non-linearity in 2nd hidden layer\n",
    "        out = self.relu_2(out)\n",
    "\n",
    "        ### 3rd hidden layer\n",
    "        out  = self.linear_3(out)\n",
    "        ### Non-linearity in 3rd hidden layer\n",
    "        out = self.relu_3(out)\n",
    "        \n",
    "        # Linear layer (output)\n",
    "        probas  = self.linear_out(out)\n",
    "        return probas"
   ]
  },
  {
   "cell_type": "code",
   "execution_count": 49,
   "metadata": {},
   "outputs": [
    {
     "data": {
      "text/plain": [
       "DeepNeuralNetworkModel(\n",
       "  (linear_1): Linear(in_features=784, out_features=150, bias=True)\n",
       "  (relu_1): ReLU()\n",
       "  (linear_2): Linear(in_features=150, out_features=150, bias=True)\n",
       "  (relu_2): ReLU()\n",
       "  (linear_3): Linear(in_features=150, out_features=150, bias=True)\n",
       "  (relu_3): ReLU()\n",
       "  (linear_out): Linear(in_features=150, out_features=2, bias=True)\n",
       ")"
      ]
     },
     "execution_count": 49,
     "metadata": {},
     "output_type": "execute_result"
    }
   ],
   "source": [
    "# INSTANTIATE MODEL CLASS\n",
    "\n",
    "model = DeepNeuralNetworkModel(input_size = input_dim,\n",
    "                               num_classes = output_dim,\n",
    "                               num_hidden = num_hidden)\n",
    "# To enable GPU\n",
    "model.to(device)"
   ]
  },
  {
   "cell_type": "code",
   "execution_count": 50,
   "metadata": {},
   "outputs": [],
   "source": [
    "# INSTANTIATE LOSS & OPTIMIZER CLASS\n",
    "criterion = nn.CrossEntropyLoss()\n",
    "optimizer = torch.optim.Adam(model.parameters(), lr=learning_rate)\n"
   ]
  },
  {
   "cell_type": "code",
   "execution_count": 51,
   "metadata": {},
   "outputs": [
    {
     "name": "stdout",
     "output_type": "stream",
     "text": [
      "0\n",
      "1\n",
      "2\n",
      "3\n",
      "Iteration: 500. Loss: 0.5931234359741211. Accuracy: 60.72359843546284\n",
      "4\n",
      "5\n",
      "6\n",
      "7\n",
      "Iteration: 1000. Loss: 0.6014130711555481. Accuracy: 61.73402868318122\n",
      "8\n",
      "9\n",
      "10\n",
      "Iteration: 1500. Loss: 0.5391729474067688. Accuracy: 61.3754889178618\n",
      "11\n",
      "12\n",
      "13\n",
      "14\n",
      "Iteration: 2000. Loss: 0.436341792345047. Accuracy: 60.5606258148631\n",
      "15\n",
      "16\n",
      "17\n",
      "Iteration: 2500. Loss: 0.4568038582801819. Accuracy: 61.11473272490222\n",
      "18\n",
      "19\n",
      "20\n",
      "21\n",
      "Iteration: 3000. Loss: 0.39042720198631287. Accuracy: 59.32203389830509\n",
      "22\n",
      "23\n",
      "24\n",
      "25\n",
      "Iteration: 3500. Loss: 0.2727600932121277. Accuracy: 58.60495436766623\n",
      "26\n",
      "27\n",
      "28\n",
      "Iteration: 4000. Loss: 0.2748830020427704. Accuracy: 59.41981747066493\n",
      "29\n",
      "30\n",
      "31\n"
     ]
    }
   ],
   "source": [
    "'''\n",
    "TRAIN THE MODEL\n",
    "'''\n",
    "iter = 0\n",
    "for epoch in range(num_epochs):\n",
    "    print(epoch)\n",
    "    for i, (images, labels) in enumerate(train_loader):\n",
    "\n",
    "        images = images.view(-1, 28*28).to(device)\n",
    "        labels = labels.to(device)\n",
    "\n",
    "        # Clear gradients w.r.t. parameters\n",
    "        optimizer.zero_grad()\n",
    "\n",
    "        # Forward pass to get output/logits\n",
    "        outputs = model(images) \n",
    "\n",
    "        # Calculate Loss: softmax --> cross entropy loss\n",
    "        loss = criterion(outputs, labels)\n",
    "\n",
    "        # Getting gradients w.r.t. parameters\n",
    "        loss.backward()\n",
    "\n",
    "        # Updating parameters\n",
    "        optimizer.step()\n",
    "\n",
    "        iter += 1\n",
    "\n",
    "        if iter % 500 == 0:\n",
    "            # Calculate Accuracy         \n",
    "            correct = 0\n",
    "            total = 0\n",
    "            # Iterate through test dataset\n",
    "            for images, labels in test_loader:\n",
    "               \n",
    "                images = images.view(-1, 28*28).to(device)\n",
    "\n",
    "                # Forward pass only to get logits/output\n",
    "                outputs = model(images)\n",
    "\n",
    "                # Get predictions from the maximum value\n",
    "                _, predicted = torch.max(outputs, 1)\n",
    "\n",
    "                # Total number of labels\n",
    "                total += labels.size(0)\n",
    "\n",
    "\n",
    "                # Total correct predictions\n",
    "                if torch.cuda.is_available():\n",
    "                    correct += (predicted.cpu() == labels.cpu()).sum() \n",
    "                else:\n",
    "                    correct += (predicted == labels).sum()\n",
    "\n",
    "            accuracy = 100 * correct.item() / total\n",
    "\n",
    "            # Print Loss\n",
    "            print('Iteration: {}. Loss: {}. Accuracy: {}'.format(iter, loss.item(), accuracy))"
   ]
  },
  {
   "cell_type": "code",
   "execution_count": 52,
   "metadata": {},
   "outputs": [],
   "source": [
    "if save_model is True:\n",
    "    # Saves only parameters\n",
    "    # wights & biases\n",
    "    torch.save(model.state_dict(), 'E:/CSE/softConputing/Ekush/ass-2/model/combination3.pkl') "
   ]
  },
  {
   "cell_type": "markdown",
   "metadata": {},
   "source": [
    "# Combination-4:\n",
    "iteration=5000, epoch=14, lr=0.001, batch size=200, optimizer=Adam, num_hidden = 200, Layer=3, activations=ReLU, Loss function=CrossEntropyLoss"
   ]
  },
  {
   "cell_type": "code",
   "execution_count": 86,
   "metadata": {},
   "outputs": [],
   "source": [
    "# Hyperparameters\n",
    "\n",
    "batch_size = 200\n",
    "num_iters = 5000\n",
    "num_hidden = 200\n",
    "input_dim = 28*28 # num_features = 784\n",
    "output_dim = 2\n",
    "save_model = True\n",
    "\n",
    "learning_rate = 0.001\n",
    "\n",
    "\n",
    "# Device\n",
    "device = torch.device(\"cuda:0\" if torch.cuda.is_available() else \"cpu\")"
   ]
  },
  {
   "cell_type": "code",
   "execution_count": 87,
   "metadata": {},
   "outputs": [
    {
     "name": "stdout",
     "output_type": "stream",
     "text": [
      "32\n"
     ]
    }
   ],
   "source": [
    "num_epochs = num_iters / (len(train_data) / batch_size)\n",
    "num_epochs = int(num_epochs)\n",
    "print(num_epochs)"
   ]
  },
  {
   "cell_type": "code",
   "execution_count": 88,
   "metadata": {},
   "outputs": [
    {
     "name": "stdout",
     "output_type": "stream",
     "text": [
      "Train dataloader:139\n",
      "Test dataloader:16\n"
     ]
    }
   ],
   "source": [
    "#batch size\n",
    "#batch_size = 32\n",
    "\n",
    "# split data 20% for testing\n",
    "test_size = 0.1\n",
    "\n",
    "# obtain training indices that will be used for validation\n",
    "num_train = len(train_data)\n",
    "\n",
    "# mix data\n",
    "# index of num of train\n",
    "indices = list(range(num_train))\n",
    "# random the index\n",
    "np.random.shuffle(indices)\n",
    "split = int(np.floor(test_size * num_train))\n",
    "# divied into two part\n",
    "train_idx, test_idx = indices[split:], indices[:split]\n",
    "\n",
    "# define the sampler\n",
    "train_sampler = SubsetRandomSampler(train_idx)\n",
    "test_sampler = SubsetRandomSampler(test_idx)\n",
    "\n",
    "# prepare loaders\n",
    "train_loader = torch.utils.data.DataLoader(\n",
    "    train_data, batch_size=batch_size,\n",
    "    sampler=train_sampler)\n",
    "\n",
    "test_loader = torch.utils.data.DataLoader(\n",
    "    test_data, batch_size=batch_size,\n",
    "    sampler=test_sampler)\n",
    "\n",
    "print(\"Train dataloader:{}\".format(len(train_loader)))\n",
    "print(\"Test dataloader:{}\".format(len(test_loader)))\n"
   ]
  },
  {
   "cell_type": "code",
   "execution_count": 89,
   "metadata": {},
   "outputs": [],
   "source": [
    "class DeepNeuralNetworkModel(nn.Module):\n",
    "    def __init__(self, input_size, num_classes, num_hidden):\n",
    "        super().__init__()\n",
    "        ### 1st hidden layer: 784 --> 100\n",
    "        self.linear_1 = nn.Linear(input_size, num_hidden)\n",
    "        ### Non-linearity in 1st hidden layer\n",
    "        self.relu_1 = nn.ReLU()\n",
    "\n",
    "        ### 2nd hidden layer: 100 --> 100\n",
    "        self.linear_2 = nn.Linear(num_hidden, num_hidden)\n",
    "        ### Non-linearity in 2nd hidden layer\n",
    "        self.relu_2 = nn.ReLU()\n",
    "\n",
    "        ### 3rd hidden layer: 100 --> 100\n",
    "        self.linear_3 = nn.Linear(num_hidden, num_hidden)\n",
    "        ### Non-linearity in 3rd hidden layer\n",
    "        self.relu_3 = nn.ReLU()\n",
    "\n",
    "        ### Output layer: 100 --> 10\n",
    "        self.linear_out = nn.Linear(num_hidden, num_classes)\n",
    "\n",
    "    def forward(self, x):\n",
    "        ### 1st hidden layer\n",
    "        out  = self.linear_1(x)\n",
    "        ### Non-linearity in 1st hidden layer\n",
    "        out = self.relu_1(out)\n",
    "        \n",
    "        ### 2nd hidden layer\n",
    "        out  = self.linear_2(out)\n",
    "        ### Non-linearity in 2nd hidden layer\n",
    "        out = self.relu_2(out)\n",
    "\n",
    "        ### 3rd hidden layer\n",
    "        out  = self.linear_3(out)\n",
    "        ### Non-linearity in 3rd hidden layer\n",
    "        out = self.relu_3(out)\n",
    "        \n",
    "        # Linear layer (output)\n",
    "        probas  = self.linear_out(out)\n",
    "        return probas"
   ]
  },
  {
   "cell_type": "code",
   "execution_count": 90,
   "metadata": {},
   "outputs": [
    {
     "data": {
      "text/plain": [
       "DeepNeuralNetworkModel(\n",
       "  (linear_1): Linear(in_features=784, out_features=200, bias=True)\n",
       "  (relu_1): ReLU()\n",
       "  (linear_2): Linear(in_features=200, out_features=200, bias=True)\n",
       "  (relu_2): ReLU()\n",
       "  (linear_3): Linear(in_features=200, out_features=200, bias=True)\n",
       "  (relu_3): ReLU()\n",
       "  (linear_out): Linear(in_features=200, out_features=2, bias=True)\n",
       ")"
      ]
     },
     "execution_count": 90,
     "metadata": {},
     "output_type": "execute_result"
    }
   ],
   "source": [
    "# INSTANTIATE MODEL CLASS\n",
    "\n",
    "model = DeepNeuralNetworkModel(input_size = input_dim,\n",
    "                               num_classes = output_dim,\n",
    "                               num_hidden = num_hidden)\n",
    "# To enable GPU\n",
    "model.to(device)"
   ]
  },
  {
   "cell_type": "code",
   "execution_count": 91,
   "metadata": {},
   "outputs": [],
   "source": [
    "# INSTANTIATE LOSS & OPTIMIZER CLASS\n",
    "criterion = nn.CrossEntropyLoss()\n",
    "optimizer = torch.optim.Adam(model.parameters(), lr=learning_rate)\n"
   ]
  },
  {
   "cell_type": "code",
   "execution_count": 92,
   "metadata": {},
   "outputs": [
    {
     "name": "stdout",
     "output_type": "stream",
     "text": [
      "0\n",
      "1\n",
      "2\n",
      "3\n",
      "Iteration: 500. Loss: 0.6119794249534607. Accuracy: 59.8109517601043\n",
      "4\n",
      "5\n",
      "6\n",
      "7\n",
      "Iteration: 1000. Loss: 0.5742093920707703. Accuracy: 61.17992177314211\n",
      "8\n",
      "9\n",
      "10\n",
      "Iteration: 1500. Loss: 0.5696818232536316. Accuracy: 60.46284224250326\n",
      "11\n",
      "12\n",
      "13\n",
      "14\n",
      "Iteration: 2000. Loss: 0.4082745313644409. Accuracy: 61.73402868318122\n",
      "15\n",
      "16\n",
      "17\n",
      "Iteration: 2500. Loss: 0.3982463777065277. Accuracy: 61.17992177314211\n",
      "18\n",
      "19\n",
      "20\n",
      "21\n",
      "Iteration: 3000. Loss: 0.2773303687572479. Accuracy: 60.821382007822685\n",
      "22\n",
      "23\n",
      "24\n",
      "25\n",
      "Iteration: 3500. Loss: 0.25303176045417786. Accuracy: 59.84354628422425\n",
      "26\n",
      "27\n",
      "28\n",
      "Iteration: 4000. Loss: 0.19630208611488342. Accuracy: 60.234680573663624\n",
      "29\n",
      "30\n",
      "31\n"
     ]
    }
   ],
   "source": [
    "'''\n",
    "TRAIN THE MODEL\n",
    "'''\n",
    "iter = 0\n",
    "for epoch in range(num_epochs):\n",
    "    print(epoch)\n",
    "    for i, (images, labels) in enumerate(train_loader):\n",
    "\n",
    "        images = images.view(-1, 28*28).to(device)\n",
    "        labels = labels.to(device)\n",
    "\n",
    "        # Clear gradients w.r.t. parameters\n",
    "        optimizer.zero_grad()\n",
    "\n",
    "        # Forward pass to get output/logits\n",
    "        outputs = model(images) \n",
    "\n",
    "        # Calculate Loss: softmax --> cross entropy loss\n",
    "        loss = criterion(outputs, labels)\n",
    "\n",
    "        # Getting gradients w.r.t. parameters\n",
    "        loss.backward()\n",
    "\n",
    "        # Updating parameters\n",
    "        optimizer.step()\n",
    "\n",
    "        iter += 1\n",
    "\n",
    "        if iter % 500 == 0:\n",
    "            # Calculate Accuracy         \n",
    "            correct = 0\n",
    "            total = 0\n",
    "            # Iterate through test dataset\n",
    "            for images, labels in test_loader:\n",
    "               \n",
    "                images = images.view(-1, 28*28).to(device)\n",
    "\n",
    "                # Forward pass only to get logits/output\n",
    "                outputs = model(images)\n",
    "\n",
    "                # Get predictions from the maximum value\n",
    "                _, predicted = torch.max(outputs, 1)\n",
    "\n",
    "                # Total number of labels\n",
    "                total += labels.size(0)\n",
    "\n",
    "\n",
    "                # Total correct predictions\n",
    "                if torch.cuda.is_available():\n",
    "                    correct += (predicted.cpu() == labels.cpu()).sum() \n",
    "                else:\n",
    "                    correct += (predicted == labels).sum()\n",
    "\n",
    "            accuracy = 100 * correct.item() / total\n",
    "\n",
    "            # Print Loss\n",
    "            print('Iteration: {}. Loss: {}. Accuracy: {}'.format(iter, loss.item(), accuracy))"
   ]
  },
  {
   "cell_type": "code",
   "execution_count": 93,
   "metadata": {},
   "outputs": [],
   "source": [
    "if save_model is True:\n",
    "    # Saves only parameters\n",
    "    # wights & biases\n",
    "    torch.save(model.state_dict(), 'E:/CSE/softConputing/Ekush/ass-2/model/combination4.pkl') "
   ]
  },
  {
   "cell_type": "markdown",
   "metadata": {},
   "source": [
    "# Combination-5:\n",
    "iteration=5000, epoch=14, lr=0.001, batch size=200, optimizer=Adam, num_hidden = 200, Layer=3, activations=SELU, Loss function=CrossEntropyLoss"
   ]
  },
  {
   "cell_type": "code",
   "execution_count": 78,
   "metadata": {},
   "outputs": [],
   "source": [
    "# Hyperparameters\n",
    "\n",
    "batch_size = 200\n",
    "num_iters = 5000\n",
    "num_hidden = 200\n",
    "input_dim = 28*28 # num_features = 784\n",
    "output_dim = 2\n",
    "save_model = True\n",
    "\n",
    "learning_rate = 0.001\n",
    "\n",
    "\n",
    "# Device\n",
    "device = torch.device(\"cuda:0\" if torch.cuda.is_available() else \"cpu\")"
   ]
  },
  {
   "cell_type": "code",
   "execution_count": 79,
   "metadata": {},
   "outputs": [
    {
     "name": "stdout",
     "output_type": "stream",
     "text": [
      "32\n"
     ]
    }
   ],
   "source": [
    "num_epochs = num_iters / (len(train_data) / batch_size)\n",
    "num_epochs = int(num_epochs)\n",
    "print(num_epochs)"
   ]
  },
  {
   "cell_type": "code",
   "execution_count": 80,
   "metadata": {},
   "outputs": [
    {
     "name": "stdout",
     "output_type": "stream",
     "text": [
      "Train dataloader:139\n",
      "Test dataloader:16\n"
     ]
    }
   ],
   "source": [
    "#batch size\n",
    "#batch_size = 32\n",
    "\n",
    "# split data 20% for testing\n",
    "test_size = 0.1\n",
    "\n",
    "# obtain training indices that will be used for validation\n",
    "num_train = len(train_data)\n",
    "\n",
    "# mix data\n",
    "# index of num of train\n",
    "indices = list(range(num_train))\n",
    "# random the index\n",
    "np.random.shuffle(indices)\n",
    "split = int(np.floor(test_size * num_train))\n",
    "# divied into two part\n",
    "train_idx, test_idx = indices[split:], indices[:split]\n",
    "\n",
    "# define the sampler\n",
    "train_sampler = SubsetRandomSampler(train_idx)\n",
    "test_sampler = SubsetRandomSampler(test_idx)\n",
    "\n",
    "# prepare loaders\n",
    "train_loader = torch.utils.data.DataLoader(\n",
    "    train_data, batch_size=batch_size,\n",
    "    sampler=train_sampler)\n",
    "\n",
    "test_loader = torch.utils.data.DataLoader(\n",
    "    test_data, batch_size=batch_size,\n",
    "    sampler=test_sampler)\n",
    "\n",
    "print(\"Train dataloader:{}\".format(len(train_loader)))\n",
    "print(\"Test dataloader:{}\".format(len(test_loader)))\n"
   ]
  },
  {
   "cell_type": "code",
   "execution_count": 81,
   "metadata": {},
   "outputs": [],
   "source": [
    "class DeepNeuralNetworkModel(nn.Module):\n",
    "    def __init__(self, input_size, num_classes, num_hidden):\n",
    "        super().__init__()\n",
    "        ### 1st hidden layer: 784 --> 100\n",
    "        self.linear_1 = nn.Linear(input_size, num_hidden)\n",
    "        ### Non-linearity in 1st hidden layer\n",
    "        self.relu_1 = nn.SELU()\n",
    "\n",
    "        ### 2nd hidden layer: 100 --> 100\n",
    "        self.linear_2 = nn.Linear(num_hidden, num_hidden)\n",
    "        ### Non-linearity in 2nd hidden layer\n",
    "        self.relu_2 = nn.SELU()\n",
    "\n",
    "        ### 3rd hidden layer: 100 --> 100\n",
    "        self.linear_3 = nn.Linear(num_hidden, num_hidden)\n",
    "        ### Non-linearity in 3rd hidden layer\n",
    "        self.relu_3 = nn.SELU()\n",
    "\n",
    "        ### Output layer: 100 --> 10\n",
    "        self.linear_out = nn.Linear(num_hidden, num_classes)\n",
    "\n",
    "    def forward(self, x):\n",
    "        ### 1st hidden layer\n",
    "        out  = self.linear_1(x)\n",
    "        ### Non-linearity in 1st hidden layer\n",
    "        out = self.relu_1(out)\n",
    "        \n",
    "        ### 2nd hidden layer\n",
    "        out  = self.linear_2(out)\n",
    "        ### Non-linearity in 2nd hidden layer\n",
    "        out = self.relu_2(out)\n",
    "\n",
    "        ### 3rd hidden layer\n",
    "        out  = self.linear_3(out)\n",
    "        ### Non-linearity in 3rd hidden layer\n",
    "        out = self.relu_3(out)\n",
    "        \n",
    "        # Linear layer (output)\n",
    "        probas  = self.linear_out(out)\n",
    "        return probas"
   ]
  },
  {
   "cell_type": "code",
   "execution_count": 82,
   "metadata": {},
   "outputs": [
    {
     "data": {
      "text/plain": [
       "DeepNeuralNetworkModel(\n",
       "  (linear_1): Linear(in_features=784, out_features=200, bias=True)\n",
       "  (relu_1): SELU()\n",
       "  (linear_2): Linear(in_features=200, out_features=200, bias=True)\n",
       "  (relu_2): SELU()\n",
       "  (linear_3): Linear(in_features=200, out_features=200, bias=True)\n",
       "  (relu_3): SELU()\n",
       "  (linear_out): Linear(in_features=200, out_features=2, bias=True)\n",
       ")"
      ]
     },
     "execution_count": 82,
     "metadata": {},
     "output_type": "execute_result"
    }
   ],
   "source": [
    "# INSTANTIATE MODEL CLASS\n",
    "\n",
    "model = DeepNeuralNetworkModel(input_size = input_dim,\n",
    "                               num_classes = output_dim,\n",
    "                               num_hidden = num_hidden)\n",
    "# To enable GPU\n",
    "model.to(device)"
   ]
  },
  {
   "cell_type": "code",
   "execution_count": 83,
   "metadata": {},
   "outputs": [],
   "source": [
    "# INSTANTIATE LOSS & OPTIMIZER CLASS\n",
    "criterion = nn.CrossEntropyLoss()\n",
    "optimizer = torch.optim.Adam(model.parameters(), lr=learning_rate)\n"
   ]
  },
  {
   "cell_type": "code",
   "execution_count": 84,
   "metadata": {},
   "outputs": [
    {
     "name": "stdout",
     "output_type": "stream",
     "text": [
      "0\n",
      "1\n",
      "2\n",
      "3\n",
      "Iteration: 500. Loss: 0.6808386445045471. Accuracy: 60.658409387222946\n",
      "4\n",
      "5\n",
      "6\n",
      "7\n",
      "Iteration: 1000. Loss: 0.6340527534484863. Accuracy: 63.005215123859195\n",
      "8\n",
      "9\n",
      "10\n",
      "Iteration: 1500. Loss: 0.6265541911125183. Accuracy: 61.83181225554107\n",
      "11\n",
      "12\n",
      "13\n",
      "14\n",
      "Iteration: 2000. Loss: 0.5520623922348022. Accuracy: 61.473272490221646\n",
      "15\n",
      "16\n",
      "17\n",
      "Iteration: 2500. Loss: 0.540344774723053. Accuracy: 61.04954367666232\n",
      "18\n",
      "19\n",
      "20\n",
      "21\n",
      "Iteration: 3000. Loss: 0.5025638341903687. Accuracy: 58.3767926988266\n",
      "22\n",
      "23\n",
      "24\n",
      "25\n",
      "Iteration: 3500. Loss: 0.439458429813385. Accuracy: 58.93089960886571\n",
      "26\n",
      "27\n",
      "28\n",
      "Iteration: 4000. Loss: 0.36621078848838806. Accuracy: 57.98565840938722\n",
      "29\n",
      "30\n",
      "31\n"
     ]
    }
   ],
   "source": [
    "'''\n",
    "TRAIN THE MODEL\n",
    "'''\n",
    "iter = 0\n",
    "for epoch in range(num_epochs):\n",
    "    print(epoch)\n",
    "    for i, (images, labels) in enumerate(train_loader):\n",
    "\n",
    "        images = images.view(-1, 28*28).to(device)\n",
    "        labels = labels.to(device)\n",
    "\n",
    "        # Clear gradients w.r.t. parameters\n",
    "        optimizer.zero_grad()\n",
    "\n",
    "        # Forward pass to get output/logits\n",
    "        outputs = model(images) \n",
    "\n",
    "        # Calculate Loss: softmax --> cross entropy loss\n",
    "        loss = criterion(outputs, labels)\n",
    "\n",
    "        # Getting gradients w.r.t. parameters\n",
    "        loss.backward()\n",
    "\n",
    "        # Updating parameters\n",
    "        optimizer.step()\n",
    "\n",
    "        iter += 1\n",
    "\n",
    "        if iter % 500 == 0:\n",
    "            # Calculate Accuracy         \n",
    "            correct = 0\n",
    "            total = 0\n",
    "            # Iterate through test dataset\n",
    "            for images, labels in test_loader:\n",
    "               \n",
    "                images = images.view(-1, 28*28).to(device)\n",
    "\n",
    "                # Forward pass only to get logits/output\n",
    "                outputs = model(images)\n",
    "\n",
    "                # Get predictions from the maximum value\n",
    "                _, predicted = torch.max(outputs, 1)\n",
    "\n",
    "                # Total number of labels\n",
    "                total += labels.size(0)\n",
    "\n",
    "\n",
    "                # Total correct predictions\n",
    "                if torch.cuda.is_available():\n",
    "                    correct += (predicted.cpu() == labels.cpu()).sum() \n",
    "                else:\n",
    "                    correct += (predicted == labels).sum()\n",
    "\n",
    "            accuracy = 100 * correct.item() / total\n",
    "\n",
    "            # Print Loss\n",
    "            print('Iteration: {}. Loss: {}. Accuracy: {}'.format(iter, loss.item(), accuracy))"
   ]
  },
  {
   "cell_type": "code",
   "execution_count": 85,
   "metadata": {},
   "outputs": [],
   "source": [
    "if save_model is True:\n",
    "    # Saves only parameters\n",
    "    # wights & biases\n",
    "    torch.save(model.state_dict(), 'E:/CSE/softConputing/Ekush/ass-2/model/combination5.pkl') "
   ]
  },
  {
   "cell_type": "markdown",
   "metadata": {},
   "source": [
    "# Combination-6:\n",
    "iteration=5000, epoch=14, lr=0.001, batch size=200, optimizer=Adam, num_hidden = 200, Layer=3, activations=RReLU, Loss function=CrossEntropyLoss"
   ]
  },
  {
   "cell_type": "code",
   "execution_count": 70,
   "metadata": {},
   "outputs": [],
   "source": [
    "# Hyperparameters\n",
    "\n",
    "batch_size = 200\n",
    "num_iters = 5000\n",
    "num_hidden = 200\n",
    "input_dim = 28*28 # num_features = 784\n",
    "output_dim = 2\n",
    "save_model = True\n",
    "\n",
    "learning_rate = 0.001\n",
    "\n",
    "\n",
    "# Device\n",
    "device = torch.device(\"cuda:0\" if torch.cuda.is_available() else \"cpu\")"
   ]
  },
  {
   "cell_type": "code",
   "execution_count": 71,
   "metadata": {},
   "outputs": [
    {
     "name": "stdout",
     "output_type": "stream",
     "text": [
      "32\n"
     ]
    }
   ],
   "source": [
    "num_epochs = num_iters / (len(train_data) / batch_size)\n",
    "num_epochs = int(num_epochs)\n",
    "print(num_epochs)"
   ]
  },
  {
   "cell_type": "code",
   "execution_count": 72,
   "metadata": {},
   "outputs": [
    {
     "name": "stdout",
     "output_type": "stream",
     "text": [
      "Train dataloader:139\n",
      "Test dataloader:16\n"
     ]
    }
   ],
   "source": [
    "#batch size\n",
    "#batch_size = 32\n",
    "\n",
    "# split data 20% for testing\n",
    "test_size = 0.1\n",
    "\n",
    "# obtain training indices that will be used for validation\n",
    "num_train = len(train_data)\n",
    "\n",
    "# mix data\n",
    "# index of num of train\n",
    "indices = list(range(num_train))\n",
    "# random the index\n",
    "np.random.shuffle(indices)\n",
    "split = int(np.floor(test_size * num_train))\n",
    "# divied into two part\n",
    "train_idx, test_idx = indices[split:], indices[:split]\n",
    "\n",
    "# define the sampler\n",
    "train_sampler = SubsetRandomSampler(train_idx)\n",
    "test_sampler = SubsetRandomSampler(test_idx)\n",
    "\n",
    "# prepare loaders\n",
    "train_loader = torch.utils.data.DataLoader(\n",
    "    train_data, batch_size=batch_size,\n",
    "    sampler=train_sampler)\n",
    "\n",
    "test_loader = torch.utils.data.DataLoader(\n",
    "    test_data, batch_size=batch_size,\n",
    "    sampler=test_sampler)\n",
    "\n",
    "print(\"Train dataloader:{}\".format(len(train_loader)))\n",
    "print(\"Test dataloader:{}\".format(len(test_loader)))\n"
   ]
  },
  {
   "cell_type": "code",
   "execution_count": 73,
   "metadata": {},
   "outputs": [],
   "source": [
    "class DeepNeuralNetworkModel(nn.Module):\n",
    "    def __init__(self, input_size, num_classes, num_hidden):\n",
    "        super().__init__()\n",
    "        ### 1st hidden layer: 784 --> 100\n",
    "        self.linear_1 = nn.Linear(input_size, num_hidden)\n",
    "        ### Non-linearity in 1st hidden layer\n",
    "        self.relu_1 = nn.RReLU()\n",
    "\n",
    "        ### 2nd hidden layer: 100 --> 100\n",
    "        self.linear_2 = nn.Linear(num_hidden, num_hidden)\n",
    "        ### Non-linearity in 2nd hidden layer\n",
    "        self.relu_2 = nn.RReLU()\n",
    "\n",
    "        ### 3rd hidden layer: 100 --> 100\n",
    "        self.linear_3 = nn.Linear(num_hidden, num_hidden)\n",
    "        ### Non-linearity in 3rd hidden layer\n",
    "        self.relu_3 = nn.RReLU()\n",
    "\n",
    "        ### Output layer: 100 --> 10\n",
    "        self.linear_out = nn.Linear(num_hidden, num_classes)\n",
    "\n",
    "    def forward(self, x):\n",
    "        ### 1st hidden layer\n",
    "        out  = self.linear_1(x)\n",
    "        ### Non-linearity in 1st hidden layer\n",
    "        out = self.relu_1(out)\n",
    "        \n",
    "        ### 2nd hidden layer\n",
    "        out  = self.linear_2(out)\n",
    "        ### Non-linearity in 2nd hidden layer\n",
    "        out = self.relu_2(out)\n",
    "\n",
    "        ### 3rd hidden layer\n",
    "        out  = self.linear_3(out)\n",
    "        ### Non-linearity in 3rd hidden layer\n",
    "        out = self.relu_3(out)\n",
    "        \n",
    "        # Linear layer (output)\n",
    "        probas  = self.linear_out(out)\n",
    "        return probas"
   ]
  },
  {
   "cell_type": "code",
   "execution_count": 74,
   "metadata": {},
   "outputs": [
    {
     "data": {
      "text/plain": [
       "DeepNeuralNetworkModel(\n",
       "  (linear_1): Linear(in_features=784, out_features=200, bias=True)\n",
       "  (relu_1): RReLU(lower=0.125, upper=0.3333333333333333)\n",
       "  (linear_2): Linear(in_features=200, out_features=200, bias=True)\n",
       "  (relu_2): RReLU(lower=0.125, upper=0.3333333333333333)\n",
       "  (linear_3): Linear(in_features=200, out_features=200, bias=True)\n",
       "  (relu_3): RReLU(lower=0.125, upper=0.3333333333333333)\n",
       "  (linear_out): Linear(in_features=200, out_features=2, bias=True)\n",
       ")"
      ]
     },
     "execution_count": 74,
     "metadata": {},
     "output_type": "execute_result"
    }
   ],
   "source": [
    "# INSTANTIATE MODEL CLASS\n",
    "\n",
    "model = DeepNeuralNetworkModel(input_size = input_dim,\n",
    "                               num_classes = output_dim,\n",
    "                               num_hidden = num_hidden)\n",
    "# To enable GPU\n",
    "model.to(device)"
   ]
  },
  {
   "cell_type": "code",
   "execution_count": 75,
   "metadata": {},
   "outputs": [],
   "source": [
    "# INSTANTIATE LOSS & OPTIMIZER CLASS\n",
    "criterion = nn.CrossEntropyLoss()\n",
    "optimizer = torch.optim.Adam(model.parameters(), lr=learning_rate)\n"
   ]
  },
  {
   "cell_type": "code",
   "execution_count": 76,
   "metadata": {},
   "outputs": [
    {
     "name": "stdout",
     "output_type": "stream",
     "text": [
      "0\n",
      "1\n",
      "2\n",
      "3\n",
      "Iteration: 500. Loss: 0.6574615240097046. Accuracy: 61.73402868318122\n",
      "4\n",
      "5\n",
      "6\n",
      "7\n",
      "Iteration: 1000. Loss: 0.6288185119628906. Accuracy: 62.54889178617992\n",
      "8\n",
      "9\n",
      "10\n",
      "Iteration: 1500. Loss: 0.6098566651344299. Accuracy: 62.222946544980445\n",
      "11\n",
      "12\n",
      "13\n",
      "14\n",
      "Iteration: 2000. Loss: 0.566916823387146. Accuracy: 60.95176010430248\n",
      "15\n",
      "16\n",
      "17\n",
      "Iteration: 2500. Loss: 0.5785497426986694. Accuracy: 60.33246414602347\n",
      "18\n",
      "19\n",
      "20\n",
      "21\n",
      "Iteration: 3000. Loss: 0.4859604239463806. Accuracy: 62.15775749674055\n",
      "22\n",
      "23\n",
      "24\n",
      "25\n",
      "Iteration: 3500. Loss: 0.4512924253940582. Accuracy: 61.86440677966102\n",
      "26\n",
      "27\n",
      "28\n",
      "Iteration: 4000. Loss: 0.34036263823509216. Accuracy: 60.49543676662321\n",
      "29\n",
      "30\n",
      "31\n"
     ]
    }
   ],
   "source": [
    "'''\n",
    "TRAIN THE MODEL\n",
    "'''\n",
    "iter = 0\n",
    "for epoch in range(num_epochs):\n",
    "    print(epoch)\n",
    "    for i, (images, labels) in enumerate(train_loader):\n",
    "\n",
    "        images = images.view(-1, 28*28).to(device)\n",
    "        labels = labels.to(device)\n",
    "\n",
    "        # Clear gradients w.r.t. parameters\n",
    "        optimizer.zero_grad()\n",
    "\n",
    "        # Forward pass to get output/logits\n",
    "        outputs = model(images) \n",
    "\n",
    "        # Calculate Loss: softmax --> cross entropy loss\n",
    "        loss = criterion(outputs, labels)\n",
    "\n",
    "        # Getting gradients w.r.t. parameters\n",
    "        loss.backward()\n",
    "\n",
    "        # Updating parameters\n",
    "        optimizer.step()\n",
    "\n",
    "        iter += 1\n",
    "\n",
    "        if iter % 500 == 0:\n",
    "            # Calculate Accuracy         \n",
    "            correct = 0\n",
    "            total = 0\n",
    "            # Iterate through test dataset\n",
    "            for images, labels in test_loader:\n",
    "               \n",
    "                images = images.view(-1, 28*28).to(device)\n",
    "\n",
    "                # Forward pass only to get logits/output\n",
    "                outputs = model(images)\n",
    "\n",
    "                # Get predictions from the maximum value\n",
    "                _, predicted = torch.max(outputs, 1)\n",
    "\n",
    "                # Total number of labels\n",
    "                total += labels.size(0)\n",
    "\n",
    "\n",
    "                # Total correct predictions\n",
    "                if torch.cuda.is_available():\n",
    "                    correct += (predicted.cpu() == labels.cpu()).sum() \n",
    "                else:\n",
    "                    correct += (predicted == labels).sum()\n",
    "\n",
    "            accuracy = 100 * correct.item() / total\n",
    "\n",
    "            # Print Loss\n",
    "            print('Iteration: {}. Loss: {}. Accuracy: {}'.format(iter, loss.item(), accuracy))"
   ]
  },
  {
   "cell_type": "code",
   "execution_count": 77,
   "metadata": {},
   "outputs": [],
   "source": [
    "if save_model is True:\n",
    "    # Saves only parameters\n",
    "    # wights & biases\n",
    "    torch.save(model.state_dict(), 'E:/CSE/softConputing/Ekush/ass-2/model/combination6.pkl') "
   ]
  },
  {
   "cell_type": "markdown",
   "metadata": {},
   "source": [
    "# Combination-7:\n",
    "iteration=5000, epoch=14, lr=0.001, batch size=200, optimizer=Adam, num_hidden = 200, Layer=3, activations=Sigmoid, Loss function=CrossEntropyLoss"
   ]
  },
  {
   "cell_type": "code",
   "execution_count": 99,
   "metadata": {},
   "outputs": [],
   "source": [
    "# Hyperparameters\n",
    "\n",
    "batch_size = 200\n",
    "num_iters = 5000\n",
    "num_hidden = 200\n",
    "input_dim = 28*28 # num_features = 784\n",
    "output_dim = 2\n",
    "save_model = True\n",
    "\n",
    "learning_rate = 0.001\n",
    "\n",
    "\n",
    "# Device\n",
    "device = torch.device(\"cuda:0\" if torch.cuda.is_available() else \"cpu\")"
   ]
  },
  {
   "cell_type": "code",
   "execution_count": 100,
   "metadata": {},
   "outputs": [
    {
     "name": "stdout",
     "output_type": "stream",
     "text": [
      "32\n"
     ]
    }
   ],
   "source": [
    "num_epochs = num_iters / (len(train_data) / batch_size)\n",
    "num_epochs = int(num_epochs)\n",
    "print(num_epochs)"
   ]
  },
  {
   "cell_type": "code",
   "execution_count": 101,
   "metadata": {},
   "outputs": [
    {
     "name": "stdout",
     "output_type": "stream",
     "text": [
      "Train dataloader:139\n",
      "Test dataloader:16\n"
     ]
    }
   ],
   "source": [
    "#batch size\n",
    "#batch_size = 32\n",
    "\n",
    "# split data 20% for testing\n",
    "test_size = 0.1\n",
    "\n",
    "# obtain training indices that will be used for validation\n",
    "num_train = len(train_data)\n",
    "\n",
    "# mix data\n",
    "# index of num of train\n",
    "indices = list(range(num_train))\n",
    "# random the index\n",
    "np.random.shuffle(indices)\n",
    "split = int(np.floor(test_size * num_train))\n",
    "# divied into two part\n",
    "train_idx, test_idx = indices[split:], indices[:split]\n",
    "\n",
    "# define the sampler\n",
    "train_sampler = SubsetRandomSampler(train_idx)\n",
    "test_sampler = SubsetRandomSampler(test_idx)\n",
    "\n",
    "# prepare loaders\n",
    "train_loader = torch.utils.data.DataLoader(\n",
    "    train_data, batch_size=batch_size,\n",
    "    sampler=train_sampler)\n",
    "\n",
    "test_loader = torch.utils.data.DataLoader(\n",
    "    test_data, batch_size=batch_size,\n",
    "    sampler=test_sampler)\n",
    "\n",
    "print(\"Train dataloader:{}\".format(len(train_loader)))\n",
    "print(\"Test dataloader:{}\".format(len(test_loader)))\n"
   ]
  },
  {
   "cell_type": "code",
   "execution_count": 102,
   "metadata": {},
   "outputs": [],
   "source": [
    "class DeepNeuralNetworkModel(nn.Module):\n",
    "    def __init__(self, input_size, num_classes, num_hidden):\n",
    "        super().__init__()\n",
    "        ### 1st hidden layer: 784 --> 100\n",
    "        self.linear_1 = nn.Linear(input_size, num_hidden)\n",
    "        ### Non-linearity in 1st hidden layer\n",
    "        self.relu_1 = nn.Sigmoid()\n",
    "\n",
    "        ### 2nd hidden layer: 100 --> 100\n",
    "        self.linear_2 = nn.Linear(num_hidden, num_hidden)\n",
    "        ### Non-linearity in 2nd hidden layer\n",
    "        self.relu_2 = nn.Sigmoid()\n",
    "\n",
    "        ### 3rd hidden layer: 100 --> 100\n",
    "        self.linear_3 = nn.Linear(num_hidden, num_hidden)\n",
    "        ### Non-linearity in 3rd hidden layer\n",
    "        self.relu_3 = nn.Sigmoid()\n",
    "\n",
    "        ### Output layer: 100 --> 10\n",
    "        self.linear_out = nn.Linear(num_hidden, num_classes)\n",
    "\n",
    "    def forward(self, x):\n",
    "        ### 1st hidden layer\n",
    "        out  = self.linear_1(x)\n",
    "        ### Non-linearity in 1st hidden layer\n",
    "        out = self.relu_1(out)\n",
    "        \n",
    "        ### 2nd hidden layer\n",
    "        out  = self.linear_2(out)\n",
    "        ### Non-linearity in 2nd hidden layer\n",
    "        out = self.relu_2(out)\n",
    "\n",
    "        ### 3rd hidden layer\n",
    "        out  = self.linear_3(out)\n",
    "        ### Non-linearity in 3rd hidden layer\n",
    "        out = self.relu_3(out)\n",
    "        \n",
    "        # Linear layer (output)\n",
    "        probas  = self.linear_out(out)\n",
    "        return probas"
   ]
  },
  {
   "cell_type": "code",
   "execution_count": 103,
   "metadata": {},
   "outputs": [
    {
     "data": {
      "text/plain": [
       "DeepNeuralNetworkModel(\n",
       "  (linear_1): Linear(in_features=784, out_features=200, bias=True)\n",
       "  (relu_1): Sigmoid()\n",
       "  (linear_2): Linear(in_features=200, out_features=200, bias=True)\n",
       "  (relu_2): Sigmoid()\n",
       "  (linear_3): Linear(in_features=200, out_features=200, bias=True)\n",
       "  (relu_3): Sigmoid()\n",
       "  (linear_out): Linear(in_features=200, out_features=2, bias=True)\n",
       ")"
      ]
     },
     "execution_count": 103,
     "metadata": {},
     "output_type": "execute_result"
    }
   ],
   "source": [
    "# INSTANTIATE MODEL CLASS\n",
    "\n",
    "model = DeepNeuralNetworkModel(input_size = input_dim,\n",
    "                               num_classes = output_dim,\n",
    "                               num_hidden = num_hidden)\n",
    "# To enable GPU\n",
    "model.to(device)"
   ]
  },
  {
   "cell_type": "code",
   "execution_count": 104,
   "metadata": {},
   "outputs": [],
   "source": [
    "# INSTANTIATE LOSS & OPTIMIZER CLASS\n",
    "criterion = nn.CrossEntropyLoss()\n",
    "optimizer = torch.optim.Adam(model.parameters(), lr=learning_rate)\n"
   ]
  },
  {
   "cell_type": "code",
   "execution_count": 105,
   "metadata": {},
   "outputs": [
    {
     "name": "stdout",
     "output_type": "stream",
     "text": [
      "0\n",
      "1\n",
      "2\n",
      "3\n",
      "Iteration: 500. Loss: 0.6430050134658813. Accuracy: 60.267275097783575\n",
      "4\n",
      "5\n",
      "6\n",
      "7\n",
      "Iteration: 1000. Loss: 0.6395496726036072. Accuracy: 62.48370273794003\n",
      "8\n",
      "9\n",
      "10\n",
      "Iteration: 1500. Loss: 0.5720251798629761. Accuracy: 63.46153846153846\n",
      "11\n",
      "12\n",
      "13\n",
      "14\n",
      "Iteration: 2000. Loss: 0.5299933552742004. Accuracy: 61.76662320730117\n",
      "15\n",
      "16\n",
      "17\n",
      "Iteration: 2500. Loss: 0.49344882369041443. Accuracy: 61.08213820078227\n",
      "18\n",
      "19\n",
      "20\n",
      "21\n",
      "Iteration: 3000. Loss: 0.3312402665615082. Accuracy: 60.75619295958279\n",
      "22\n",
      "23\n",
      "24\n",
      "25\n",
      "Iteration: 3500. Loss: 0.2854247987270355. Accuracy: 61.3102998696219\n",
      "26\n",
      "27\n",
      "28\n",
      "Iteration: 4000. Loss: 0.19341878592967987. Accuracy: 60.43024771838331\n",
      "29\n",
      "30\n",
      "31\n"
     ]
    }
   ],
   "source": [
    "'''\n",
    "TRAIN THE MODEL\n",
    "'''\n",
    "iter = 0\n",
    "for epoch in range(num_epochs):\n",
    "    print(epoch)\n",
    "    for i, (images, labels) in enumerate(train_loader):\n",
    "\n",
    "        images = images.view(-1, 28*28).to(device)\n",
    "        labels = labels.to(device)\n",
    "\n",
    "        # Clear gradients w.r.t. parameters\n",
    "        optimizer.zero_grad()\n",
    "\n",
    "        # Forward pass to get output/logits\n",
    "        outputs = model(images) \n",
    "\n",
    "        # Calculate Loss: softmax --> cross entropy loss\n",
    "        loss = criterion(outputs, labels)\n",
    "\n",
    "        # Getting gradients w.r.t. parameters\n",
    "        loss.backward()\n",
    "\n",
    "        # Updating parameters\n",
    "        optimizer.step()\n",
    "\n",
    "        iter += 1\n",
    "\n",
    "        if iter % 500 == 0:\n",
    "            # Calculate Accuracy         \n",
    "            correct = 0\n",
    "            total = 0\n",
    "            # Iterate through test dataset\n",
    "            for images, labels in test_loader:\n",
    "               \n",
    "                images = images.view(-1, 28*28).to(device)\n",
    "\n",
    "                # Forward pass only to get logits/output\n",
    "                outputs = model(images)\n",
    "\n",
    "                # Get predictions from the maximum value\n",
    "                _, predicted = torch.max(outputs, 1)\n",
    "\n",
    "                # Total number of labels\n",
    "                total += labels.size(0)\n",
    "\n",
    "\n",
    "                # Total correct predictions\n",
    "                if torch.cuda.is_available():\n",
    "                    correct += (predicted.cpu() == labels.cpu()).sum() \n",
    "                else:\n",
    "                    correct += (predicted == labels).sum()\n",
    "\n",
    "            accuracy = 100 * correct.item() / total\n",
    "\n",
    "            # Print Loss\n",
    "            print('Iteration: {}. Loss: {}. Accuracy: {}'.format(iter, loss.item(), accuracy))"
   ]
  },
  {
   "cell_type": "code",
   "execution_count": 106,
   "metadata": {},
   "outputs": [],
   "source": [
    "if save_model is True:\n",
    "    # Saves only parameters\n",
    "    # wights & biases\n",
    "    torch.save(model.state_dict(), 'E:/CSE/softConputing/Ekush/ass-2/model/combination7.pkl') "
   ]
  },
  {
   "cell_type": "markdown",
   "metadata": {},
   "source": [
    "# Combination-8:\n",
    "iteration=5000, epoch=14, lr=0.001, batch size=200, optimizer=Adam, num_hidden = 200, Layer=3, activations=GELU, Loss function=CrossEntropyLoss"
   ]
  },
  {
   "cell_type": "code",
   "execution_count": 107,
   "metadata": {},
   "outputs": [],
   "source": [
    "# Hyperparameters\n",
    "\n",
    "batch_size = 200\n",
    "num_iters = 5000\n",
    "num_hidden = 200\n",
    "input_dim = 28*28 # num_features = 784\n",
    "output_dim = 2\n",
    "save_model = True\n",
    "\n",
    "learning_rate = 0.001\n",
    "\n",
    "\n",
    "# Device\n",
    "device = torch.device(\"cuda:0\" if torch.cuda.is_available() else \"cpu\")"
   ]
  },
  {
   "cell_type": "code",
   "execution_count": 108,
   "metadata": {},
   "outputs": [
    {
     "name": "stdout",
     "output_type": "stream",
     "text": [
      "32\n"
     ]
    }
   ],
   "source": [
    "num_epochs = num_iters / (len(train_data) / batch_size)\n",
    "num_epochs = int(num_epochs)\n",
    "print(num_epochs)"
   ]
  },
  {
   "cell_type": "code",
   "execution_count": 109,
   "metadata": {},
   "outputs": [
    {
     "name": "stdout",
     "output_type": "stream",
     "text": [
      "Train dataloader:139\n",
      "Test dataloader:16\n"
     ]
    }
   ],
   "source": [
    "#batch size\n",
    "#batch_size = 32\n",
    "\n",
    "# split data 20% for testing\n",
    "test_size = 0.1\n",
    "\n",
    "# obtain training indices that will be used for validation\n",
    "num_train = len(train_data)\n",
    "\n",
    "# mix data\n",
    "# index of num of train\n",
    "indices = list(range(num_train))\n",
    "# random the index\n",
    "np.random.shuffle(indices)\n",
    "split = int(np.floor(test_size * num_train))\n",
    "# divied into two part\n",
    "train_idx, test_idx = indices[split:], indices[:split]\n",
    "\n",
    "# define the sampler\n",
    "train_sampler = SubsetRandomSampler(train_idx)\n",
    "test_sampler = SubsetRandomSampler(test_idx)\n",
    "\n",
    "# prepare loaders\n",
    "train_loader = torch.utils.data.DataLoader(\n",
    "    train_data, batch_size=batch_size,\n",
    "    sampler=train_sampler)\n",
    "\n",
    "test_loader = torch.utils.data.DataLoader(\n",
    "    test_data, batch_size=batch_size,\n",
    "    sampler=test_sampler)\n",
    "\n",
    "print(\"Train dataloader:{}\".format(len(train_loader)))\n",
    "print(\"Test dataloader:{}\".format(len(test_loader)))\n"
   ]
  },
  {
   "cell_type": "code",
   "execution_count": 110,
   "metadata": {},
   "outputs": [],
   "source": [
    "class DeepNeuralNetworkModel(nn.Module):\n",
    "    def __init__(self, input_size, num_classes, num_hidden):\n",
    "        super().__init__()\n",
    "        ### 1st hidden layer: 784 --> 100\n",
    "        self.linear_1 = nn.Linear(input_size, num_hidden)\n",
    "        ### Non-linearity in 1st hidden layer\n",
    "        self.relu_1 = nn.GELU()\n",
    "\n",
    "        ### 2nd hidden layer: 100 --> 100\n",
    "        self.linear_2 = nn.Linear(num_hidden, num_hidden)\n",
    "        ### Non-linearity in 2nd hidden layer\n",
    "        self.relu_2 = nn.GELU()\n",
    "\n",
    "        ### 3rd hidden layer: 100 --> 100\n",
    "        self.linear_3 = nn.Linear(num_hidden, num_hidden)\n",
    "        ### Non-linearity in 3rd hidden layer\n",
    "        self.relu_3 = nn.GELU()\n",
    "\n",
    "        ### Output layer: 100 --> 10\n",
    "        self.linear_out = nn.Linear(num_hidden, num_classes)\n",
    "\n",
    "    def forward(self, x):\n",
    "        ### 1st hidden layer\n",
    "        out  = self.linear_1(x)\n",
    "        ### Non-linearity in 1st hidden layer\n",
    "        out = self.relu_1(out)\n",
    "        \n",
    "        ### 2nd hidden layer\n",
    "        out  = self.linear_2(out)\n",
    "        ### Non-linearity in 2nd hidden layer\n",
    "        out = self.relu_2(out)\n",
    "\n",
    "        ### 3rd hidden layer\n",
    "        out  = self.linear_3(out)\n",
    "        ### Non-linearity in 3rd hidden layer\n",
    "        out = self.relu_3(out)\n",
    "        \n",
    "        # Linear layer (output)\n",
    "        probas  = self.linear_out(out)\n",
    "        return probas"
   ]
  },
  {
   "cell_type": "code",
   "execution_count": 111,
   "metadata": {},
   "outputs": [
    {
     "data": {
      "text/plain": [
       "DeepNeuralNetworkModel(\n",
       "  (linear_1): Linear(in_features=784, out_features=200, bias=True)\n",
       "  (relu_1): GELU()\n",
       "  (linear_2): Linear(in_features=200, out_features=200, bias=True)\n",
       "  (relu_2): GELU()\n",
       "  (linear_3): Linear(in_features=200, out_features=200, bias=True)\n",
       "  (relu_3): GELU()\n",
       "  (linear_out): Linear(in_features=200, out_features=2, bias=True)\n",
       ")"
      ]
     },
     "execution_count": 111,
     "metadata": {},
     "output_type": "execute_result"
    }
   ],
   "source": [
    "# INSTANTIATE MODEL CLASS\n",
    "\n",
    "model = DeepNeuralNetworkModel(input_size = input_dim,\n",
    "                               num_classes = output_dim,\n",
    "                               num_hidden = num_hidden)\n",
    "# To enable GPU\n",
    "model.to(device)"
   ]
  },
  {
   "cell_type": "code",
   "execution_count": 112,
   "metadata": {},
   "outputs": [],
   "source": [
    "# INSTANTIATE LOSS & OPTIMIZER CLASS\n",
    "criterion = nn.CrossEntropyLoss()\n",
    "optimizer = torch.optim.Adam(model.parameters(), lr=learning_rate)\n"
   ]
  },
  {
   "cell_type": "code",
   "execution_count": 113,
   "metadata": {},
   "outputs": [
    {
     "name": "stdout",
     "output_type": "stream",
     "text": [
      "0\n",
      "1\n",
      "2\n",
      "3\n",
      "Iteration: 500. Loss: 0.6185833811759949. Accuracy: 61.73402868318122\n",
      "4\n",
      "5\n",
      "6\n",
      "7\n",
      "Iteration: 1000. Loss: 0.6002343893051147. Accuracy: 61.17992177314211\n",
      "8\n",
      "9\n",
      "10\n",
      "Iteration: 1500. Loss: 0.5852234363555908. Accuracy: 61.21251629726206\n",
      "11\n",
      "12\n",
      "13\n",
      "14\n",
      "Iteration: 2000. Loss: 0.41584208607673645. Accuracy: 61.08213820078227\n",
      "15\n",
      "16\n",
      "17\n",
      "Iteration: 2500. Loss: 0.36505958437919617. Accuracy: 60.202086049543674\n",
      "18\n",
      "19\n",
      "20\n",
      "21\n",
      "Iteration: 3000. Loss: 0.30104655027389526. Accuracy: 61.636245110821385\n",
      "22\n",
      "23\n",
      "24\n",
      "25\n",
      "Iteration: 3500. Loss: 0.1895689219236374. Accuracy: 61.994784876140805\n",
      "26\n",
      "27\n",
      "28\n",
      "Iteration: 4000. Loss: 0.1508558839559555. Accuracy: 61.70143415906128\n",
      "29\n",
      "30\n",
      "31\n"
     ]
    }
   ],
   "source": [
    "'''\n",
    "TRAIN THE MODEL\n",
    "'''\n",
    "iter = 0\n",
    "for epoch in range(num_epochs):\n",
    "    print(epoch)\n",
    "    for i, (images, labels) in enumerate(train_loader):\n",
    "\n",
    "        images = images.view(-1, 28*28).to(device)\n",
    "        labels = labels.to(device)\n",
    "\n",
    "        # Clear gradients w.r.t. parameters\n",
    "        optimizer.zero_grad()\n",
    "\n",
    "        # Forward pass to get output/logits\n",
    "        outputs = model(images) \n",
    "\n",
    "        # Calculate Loss: softmax --> cross entropy loss\n",
    "        loss = criterion(outputs, labels)\n",
    "\n",
    "        # Getting gradients w.r.t. parameters\n",
    "        loss.backward()\n",
    "\n",
    "        # Updating parameters\n",
    "        optimizer.step()\n",
    "\n",
    "        iter += 1\n",
    "\n",
    "        if iter % 500 == 0:\n",
    "            # Calculate Accuracy         \n",
    "            correct = 0\n",
    "            total = 0\n",
    "            # Iterate through test dataset\n",
    "            for images, labels in test_loader:\n",
    "               \n",
    "                images = images.view(-1, 28*28).to(device)\n",
    "\n",
    "                # Forward pass only to get logits/output\n",
    "                outputs = model(images)\n",
    "\n",
    "                # Get predictions from the maximum value\n",
    "                _, predicted = torch.max(outputs, 1)\n",
    "\n",
    "                # Total number of labels\n",
    "                total += labels.size(0)\n",
    "\n",
    "\n",
    "                # Total correct predictions\n",
    "                if torch.cuda.is_available():\n",
    "                    correct += (predicted.cpu() == labels.cpu()).sum() \n",
    "                else:\n",
    "                    correct += (predicted == labels).sum()\n",
    "\n",
    "            accuracy = 100 * correct.item() / total\n",
    "\n",
    "            # Print Loss\n",
    "            print('Iteration: {}. Loss: {}. Accuracy: {}'.format(iter, loss.item(), accuracy))"
   ]
  },
  {
   "cell_type": "code",
   "execution_count": 114,
   "metadata": {},
   "outputs": [],
   "source": [
    "if save_model is True:\n",
    "    # Saves only parameters\n",
    "    # wights & biases\n",
    "    torch.save(model.state_dict(), 'E:/CSE/softConputing/Ekush/ass-2/model/combination8.pkl') "
   ]
  },
  {
   "cell_type": "markdown",
   "metadata": {},
   "source": [
    "# Combination-9:\n",
    "iteration=5000, epoch=14, lr=0.001, batch size=200, optimizer=Adam, num_hidden = 200, Layer=4, activations=RReLU, Loss function=CrossEntropyLoss"
   ]
  },
  {
   "cell_type": "code",
   "execution_count": 30,
   "metadata": {},
   "outputs": [],
   "source": [
    "# Hyperparameters\n",
    "\n",
    "batch_size = 200\n",
    "num_iters = 5000\n",
    "num_hidden = 200\n",
    "input_dim = 28*28 # num_features = 784\n",
    "output_dim = 2\n",
    "save_model = True\n",
    "\n",
    "learning_rate = 0.001\n",
    "\n",
    "\n",
    "# Device\n",
    "device = torch.device(\"cuda:0\" if torch.cuda.is_available() else \"cpu\")"
   ]
  },
  {
   "cell_type": "code",
   "execution_count": 31,
   "metadata": {},
   "outputs": [
    {
     "name": "stdout",
     "output_type": "stream",
     "text": [
      "32\n"
     ]
    }
   ],
   "source": [
    "num_epochs = num_iters / (len(train_data) / batch_size)\n",
    "num_epochs = int(num_epochs)\n",
    "print(num_epochs)"
   ]
  },
  {
   "cell_type": "code",
   "execution_count": 32,
   "metadata": {},
   "outputs": [
    {
     "name": "stdout",
     "output_type": "stream",
     "text": [
      "Train dataloader:139\n",
      "Test dataloader:16\n"
     ]
    }
   ],
   "source": [
    "#batch size\n",
    "#batch_size = 32\n",
    "\n",
    "# split data 20% for testing\n",
    "test_size = 0.1\n",
    "\n",
    "# obtain training indices that will be used for validation\n",
    "num_train = len(train_data)\n",
    "\n",
    "# mix data\n",
    "# index of num of train\n",
    "indices = list(range(num_train))\n",
    "# random the index\n",
    "np.random.shuffle(indices)\n",
    "split = int(np.floor(test_size * num_train))\n",
    "# divied into two part\n",
    "train_idx, test_idx = indices[split:], indices[:split]\n",
    "\n",
    "# define the sampler\n",
    "train_sampler = SubsetRandomSampler(train_idx)\n",
    "test_sampler = SubsetRandomSampler(test_idx)\n",
    "\n",
    "# prepare loaders\n",
    "train_loader = torch.utils.data.DataLoader(\n",
    "    train_data, batch_size=batch_size,\n",
    "    sampler=train_sampler)\n",
    "\n",
    "test_loader = torch.utils.data.DataLoader(\n",
    "    test_data, batch_size=batch_size,\n",
    "    sampler=test_sampler)\n",
    "\n",
    "print(\"Train dataloader:{}\".format(len(train_loader)))\n",
    "print(\"Test dataloader:{}\".format(len(test_loader)))\n"
   ]
  },
  {
   "cell_type": "code",
   "execution_count": 33,
   "metadata": {},
   "outputs": [],
   "source": [
    "class DeepNeuralNetworkModel(nn.Module):\n",
    "    def __init__(self, input_size, num_classes, num_hidden):\n",
    "        super().__init__()\n",
    "        ### 1st hidden layer: 784 --> 100\n",
    "        self.linear_1 = nn.Linear(input_size, num_hidden)\n",
    "        ### Non-linearity in 1st hidden layer\n",
    "        self.relu_1 = nn.RReLU()\n",
    "\n",
    "        ### 2nd hidden layer: 100 --> 100\n",
    "        self.linear_2 = nn.Linear(num_hidden, num_hidden)\n",
    "        ### Non-linearity in 2nd hidden layer\n",
    "        self.relu_2 = nn.RReLU()\n",
    "\n",
    "        ### 3rd hidden layer: 100 --> 100\n",
    "        self.linear_3 = nn.Linear(num_hidden, num_hidden)\n",
    "        ### Non-linearity in 3rd hidden layer\n",
    "        self.relu_3 = nn.RReLU()\n",
    "        \n",
    "        ### 4th hidden layer: 100 --> 100\n",
    "        self.linear_4 = nn.Linear(num_hidden, num_hidden)\n",
    "        ### Non-linearity in 4th hidden layer\n",
    "        self.relu_4 = nn.RReLU()\n",
    "\n",
    "\n",
    "        ### Output layer: 100 --> 10\n",
    "        self.linear_out = nn.Linear(num_hidden, num_classes)\n",
    "\n",
    "    def forward(self, x):\n",
    "        ### 1st hidden layer\n",
    "        out  = self.linear_1(x)\n",
    "        ### Non-linearity in 1st hidden layer\n",
    "        out = self.relu_1(out)\n",
    "        \n",
    "        ### 2nd hidden layer\n",
    "        out  = self.linear_2(out)\n",
    "        ### Non-linearity in 2nd hidden layer\n",
    "        out = self.relu_2(out)\n",
    "\n",
    "        ### 3rd hidden layer\n",
    "        out  = self.linear_3(out)\n",
    "        ### Non-linearity in 3rd hidden layer\n",
    "        out = self.relu_3(out)\n",
    "        \n",
    "         ### 4th hidden layer\n",
    "        out  = self.linear_4(out)\n",
    "        ### Non-linearity in 4th hidden layer\n",
    "        out = self.relu_4(out)\n",
    "        \n",
    "        # Linear layer (output)\n",
    "        probas  = self.linear_out(out)\n",
    "        return probas"
   ]
  },
  {
   "cell_type": "code",
   "execution_count": 34,
   "metadata": {},
   "outputs": [
    {
     "data": {
      "text/plain": [
       "DeepNeuralNetworkModel(\n",
       "  (linear_1): Linear(in_features=784, out_features=200, bias=True)\n",
       "  (relu_1): RReLU(lower=0.125, upper=0.3333333333333333)\n",
       "  (linear_2): Linear(in_features=200, out_features=200, bias=True)\n",
       "  (relu_2): RReLU(lower=0.125, upper=0.3333333333333333)\n",
       "  (linear_3): Linear(in_features=200, out_features=200, bias=True)\n",
       "  (relu_3): RReLU(lower=0.125, upper=0.3333333333333333)\n",
       "  (linear_4): Linear(in_features=200, out_features=200, bias=True)\n",
       "  (relu_4): RReLU(lower=0.125, upper=0.3333333333333333)\n",
       "  (linear_out): Linear(in_features=200, out_features=2, bias=True)\n",
       ")"
      ]
     },
     "execution_count": 34,
     "metadata": {},
     "output_type": "execute_result"
    }
   ],
   "source": [
    "# INSTANTIATE MODEL CLASS\n",
    "\n",
    "model = DeepNeuralNetworkModel(input_size = input_dim,\n",
    "                               num_classes = output_dim,\n",
    "                               num_hidden = num_hidden)\n",
    "# To enable GPU\n",
    "model.to(device)"
   ]
  },
  {
   "cell_type": "code",
   "execution_count": 35,
   "metadata": {},
   "outputs": [],
   "source": [
    "# INSTANTIATE LOSS & OPTIMIZER CLASS\n",
    "criterion = nn.CrossEntropyLoss()\n",
    "optimizer = torch.optim.Adam(model.parameters(), lr=learning_rate)\n"
   ]
  },
  {
   "cell_type": "code",
   "execution_count": 121,
   "metadata": {},
   "outputs": [
    {
     "name": "stdout",
     "output_type": "stream",
     "text": [
      "0\n",
      "1\n",
      "2\n",
      "3\n",
      "Iteration: 500. Loss: 0.6428923606872559. Accuracy: 60.59322033898305\n",
      "4\n",
      "5\n",
      "6\n",
      "7\n",
      "Iteration: 1000. Loss: 0.6178381443023682. Accuracy: 62.41851368970013\n",
      "8\n",
      "9\n",
      "10\n",
      "Iteration: 1500. Loss: 0.64544677734375. Accuracy: 61.86440677966102\n",
      "11\n",
      "12\n",
      "13\n",
      "14\n",
      "Iteration: 2000. Loss: 0.5416417121887207. Accuracy: 61.53846153846154\n",
      "15\n",
      "16\n",
      "17\n",
      "Iteration: 2500. Loss: 0.5808335542678833. Accuracy: 62.05997392438071\n",
      "18\n",
      "19\n",
      "20\n",
      "21\n",
      "Iteration: 3000. Loss: 0.41756656765937805. Accuracy: 60.071707953063886\n",
      "22\n",
      "23\n",
      "24\n",
      "25\n",
      "Iteration: 3500. Loss: 0.4976995885372162. Accuracy: 62.64667535853977\n",
      "26\n",
      "27\n",
      "28\n",
      "Iteration: 4000. Loss: 0.46871358156204224. Accuracy: 62.51629726205997\n",
      "29\n",
      "30\n",
      "31\n"
     ]
    }
   ],
   "source": [
    "'''\n",
    "TRAIN THE MODEL\n",
    "'''\n",
    "iter = 0\n",
    "for epoch in range(num_epochs):\n",
    "    print(epoch)\n",
    "    for i, (images, labels) in enumerate(train_loader):\n",
    "\n",
    "        images = images.view(-1, 28*28).to(device)\n",
    "        labels = labels.to(device)\n",
    "\n",
    "        # Clear gradients w.r.t. parameters\n",
    "        optimizer.zero_grad()\n",
    "\n",
    "        # Forward pass to get output/logits\n",
    "        outputs = model(images) \n",
    "\n",
    "        # Calculate Loss: softmax --> cross entropy loss\n",
    "        loss = criterion(outputs, labels)\n",
    "\n",
    "        # Getting gradients w.r.t. parameters\n",
    "        loss.backward()\n",
    "\n",
    "        # Updating parameters\n",
    "        optimizer.step()\n",
    "\n",
    "        iter += 1\n",
    "\n",
    "        if iter % 500 == 0:\n",
    "            # Calculate Accuracy         \n",
    "            correct = 0\n",
    "            total = 0\n",
    "            # Iterate through test dataset\n",
    "            for images, labels in test_loader:\n",
    "               \n",
    "                images = images.view(-1, 28*28).to(device)\n",
    "\n",
    "                # Forward pass only to get logits/output\n",
    "                outputs = model(images)\n",
    "\n",
    "                # Get predictions from the maximum value\n",
    "                _, predicted = torch.max(outputs, 1)\n",
    "\n",
    "                # Total number of labels\n",
    "                total += labels.size(0)\n",
    "\n",
    "\n",
    "                # Total correct predictions\n",
    "                if torch.cuda.is_available():\n",
    "                    correct += (predicted.cpu() == labels.cpu()).sum() \n",
    "                else:\n",
    "                    correct += (predicted == labels).sum()\n",
    "\n",
    "            accuracy = 100 * correct.item() / total\n",
    "\n",
    "            # Print Loss\n",
    "            print('Iteration: {}. Loss: {}. Accuracy: {}'.format(iter, loss.item(), accuracy))"
   ]
  },
  {
   "cell_type": "code",
   "execution_count": 122,
   "metadata": {},
   "outputs": [],
   "source": [
    "if save_model is True:\n",
    "    # Saves only parameters\n",
    "    # wights & biases\n",
    "    torch.save(model.state_dict(), 'E:/CSE/softConputing/Ekush/ass-2/model/combination9.pkl') "
   ]
  },
  {
   "cell_type": "markdown",
   "metadata": {},
   "source": [
    "# Combination-10:\n",
    "iteration=5000, epoch=14, lr=0.001, batch size=200, optimizer=Adam, num_hidden = 250, Layer=4, activations=RReLU, Loss function=CrossEntropyLoss"
   ]
  },
  {
   "cell_type": "code",
   "execution_count": 123,
   "metadata": {},
   "outputs": [],
   "source": [
    "# Hyperparameters\n",
    "\n",
    "batch_size = 200\n",
    "num_iters = 5000\n",
    "num_hidden = 250\n",
    "input_dim = 28*28 # num_features = 784\n",
    "output_dim = 2\n",
    "save_model = True\n",
    "\n",
    "learning_rate = 0.001\n",
    "\n",
    "\n",
    "# Device\n",
    "device = torch.device(\"cuda:0\" if torch.cuda.is_available() else \"cpu\")"
   ]
  },
  {
   "cell_type": "code",
   "execution_count": 124,
   "metadata": {},
   "outputs": [
    {
     "name": "stdout",
     "output_type": "stream",
     "text": [
      "32\n"
     ]
    }
   ],
   "source": [
    "num_epochs = num_iters / (len(train_data) / batch_size)\n",
    "num_epochs = int(num_epochs)\n",
    "print(num_epochs)"
   ]
  },
  {
   "cell_type": "code",
   "execution_count": 125,
   "metadata": {},
   "outputs": [
    {
     "name": "stdout",
     "output_type": "stream",
     "text": [
      "Train dataloader:139\n",
      "Test dataloader:16\n"
     ]
    }
   ],
   "source": [
    "#batch size\n",
    "#batch_size = 32\n",
    "\n",
    "# split data 20% for testing\n",
    "test_size = 0.1\n",
    "\n",
    "# obtain training indices that will be used for validation\n",
    "num_train = len(train_data)\n",
    "\n",
    "# mix data\n",
    "# index of num of train\n",
    "indices = list(range(num_train))\n",
    "# random the index\n",
    "np.random.shuffle(indices)\n",
    "split = int(np.floor(test_size * num_train))\n",
    "# divied into two part\n",
    "train_idx, test_idx = indices[split:], indices[:split]\n",
    "\n",
    "# define the sampler\n",
    "train_sampler = SubsetRandomSampler(train_idx)\n",
    "test_sampler = SubsetRandomSampler(test_idx)\n",
    "\n",
    "# prepare loaders\n",
    "train_loader = torch.utils.data.DataLoader(\n",
    "    train_data, batch_size=batch_size,\n",
    "    sampler=train_sampler)\n",
    "\n",
    "test_loader = torch.utils.data.DataLoader(\n",
    "    test_data, batch_size=batch_size,\n",
    "    sampler=test_sampler)\n",
    "\n",
    "print(\"Train dataloader:{}\".format(len(train_loader)))\n",
    "print(\"Test dataloader:{}\".format(len(test_loader)))\n"
   ]
  },
  {
   "cell_type": "code",
   "execution_count": 126,
   "metadata": {},
   "outputs": [],
   "source": [
    "class DeepNeuralNetworkModel(nn.Module):\n",
    "    def __init__(self, input_size, num_classes, num_hidden):\n",
    "        super().__init__()\n",
    "        ### 1st hidden layer: 784 --> 100\n",
    "        self.linear_1 = nn.Linear(input_size, num_hidden)\n",
    "        ### Non-linearity in 1st hidden layer\n",
    "        self.relu_1 = nn.RReLU()\n",
    "\n",
    "        ### 2nd hidden layer: 100 --> 100\n",
    "        self.linear_2 = nn.Linear(num_hidden, num_hidden)\n",
    "        ### Non-linearity in 2nd hidden layer\n",
    "        self.relu_2 = nn.RReLU()\n",
    "\n",
    "        ### 3rd hidden layer: 100 --> 100\n",
    "        self.linear_3 = nn.Linear(num_hidden, num_hidden)\n",
    "        ### Non-linearity in 3rd hidden layer\n",
    "        self.relu_3 = nn.RReLU()\n",
    "        \n",
    "        ### 4th hidden layer: 100 --> 100\n",
    "        self.linear_4 = nn.Linear(num_hidden, num_hidden)\n",
    "        ### Non-linearity in 4th hidden layer\n",
    "        self.relu_4 = nn.RReLU()\n",
    "\n",
    "\n",
    "        ### Output layer: 100 --> 10\n",
    "        self.linear_out = nn.Linear(num_hidden, num_classes)\n",
    "\n",
    "    def forward(self, x):\n",
    "        ### 1st hidden layer\n",
    "        out  = self.linear_1(x)\n",
    "        ### Non-linearity in 1st hidden layer\n",
    "        out = self.relu_1(out)\n",
    "        \n",
    "        ### 2nd hidden layer\n",
    "        out  = self.linear_2(out)\n",
    "        ### Non-linearity in 2nd hidden layer\n",
    "        out = self.relu_2(out)\n",
    "\n",
    "        ### 3rd hidden layer\n",
    "        out  = self.linear_3(out)\n",
    "        ### Non-linearity in 3rd hidden layer\n",
    "        out = self.relu_3(out)\n",
    "        \n",
    "         ### 4th hidden layer\n",
    "        out  = self.linear_4(out)\n",
    "        ### Non-linearity in 4th hidden layer\n",
    "        out = self.relu_4(out)\n",
    "        \n",
    "        # Linear layer (output)\n",
    "        probas  = self.linear_out(out)\n",
    "        return probas"
   ]
  },
  {
   "cell_type": "code",
   "execution_count": 127,
   "metadata": {},
   "outputs": [
    {
     "data": {
      "text/plain": [
       "DeepNeuralNetworkModel(\n",
       "  (linear_1): Linear(in_features=784, out_features=250, bias=True)\n",
       "  (relu_1): RReLU(lower=0.125, upper=0.3333333333333333)\n",
       "  (linear_2): Linear(in_features=250, out_features=250, bias=True)\n",
       "  (relu_2): RReLU(lower=0.125, upper=0.3333333333333333)\n",
       "  (linear_3): Linear(in_features=250, out_features=250, bias=True)\n",
       "  (relu_3): RReLU(lower=0.125, upper=0.3333333333333333)\n",
       "  (linear_4): Linear(in_features=250, out_features=250, bias=True)\n",
       "  (relu_4): RReLU(lower=0.125, upper=0.3333333333333333)\n",
       "  (linear_out): Linear(in_features=250, out_features=2, bias=True)\n",
       ")"
      ]
     },
     "execution_count": 127,
     "metadata": {},
     "output_type": "execute_result"
    }
   ],
   "source": [
    "# INSTANTIATE MODEL CLASS\n",
    "\n",
    "model = DeepNeuralNetworkModel(input_size = input_dim,\n",
    "                               num_classes = output_dim,\n",
    "                               num_hidden = num_hidden)\n",
    "# To enable GPU\n",
    "model.to(device)"
   ]
  },
  {
   "cell_type": "code",
   "execution_count": 128,
   "metadata": {},
   "outputs": [],
   "source": [
    "# INSTANTIATE LOSS & OPTIMIZER CLASS\n",
    "criterion = nn.CrossEntropyLoss()\n",
    "optimizer = torch.optim.Adam(model.parameters(), lr=learning_rate)\n"
   ]
  },
  {
   "cell_type": "code",
   "execution_count": 129,
   "metadata": {},
   "outputs": [
    {
     "name": "stdout",
     "output_type": "stream",
     "text": [
      "0\n",
      "1\n",
      "2\n",
      "3\n",
      "Iteration: 500. Loss: 0.6583731174468994. Accuracy: 59.55019556714472\n",
      "4\n",
      "5\n",
      "6\n",
      "7\n",
      "Iteration: 1000. Loss: 0.655173659324646. Accuracy: 59.61538461538461\n",
      "8\n",
      "9\n",
      "10\n",
      "Iteration: 1500. Loss: 0.5829250812530518. Accuracy: 60.72359843546284\n",
      "11\n",
      "12\n",
      "13\n",
      "14\n",
      "Iteration: 2000. Loss: 0.6130525469779968. Accuracy: 62.35332464146023\n",
      "15\n",
      "16\n",
      "17\n",
      "Iteration: 2500. Loss: 0.5475453734397888. Accuracy: 61.04954367666232\n",
      "18\n",
      "19\n",
      "20\n",
      "21\n",
      "Iteration: 3000. Loss: 0.43134403228759766. Accuracy: 59.55019556714472\n",
      "22\n",
      "23\n",
      "24\n",
      "25\n",
      "Iteration: 3500. Loss: 0.5224820375442505. Accuracy: 59.58279009126467\n",
      "26\n",
      "27\n",
      "28\n",
      "Iteration: 4000. Loss: 0.3538530766963959. Accuracy: 60.43024771838331\n",
      "29\n",
      "30\n",
      "31\n"
     ]
    }
   ],
   "source": [
    "'''\n",
    "TRAIN THE MODEL\n",
    "'''\n",
    "iter = 0\n",
    "for epoch in range(num_epochs):\n",
    "    print(epoch)\n",
    "    for i, (images, labels) in enumerate(train_loader):\n",
    "\n",
    "        images = images.view(-1, 28*28).to(device)\n",
    "        labels = labels.to(device)\n",
    "\n",
    "        # Clear gradients w.r.t. parameters\n",
    "        optimizer.zero_grad()\n",
    "\n",
    "        # Forward pass to get output/logits\n",
    "        outputs = model(images) \n",
    "\n",
    "        # Calculate Loss: softmax --> cross entropy loss\n",
    "        loss = criterion(outputs, labels)\n",
    "\n",
    "        # Getting gradients w.r.t. parameters\n",
    "        loss.backward()\n",
    "\n",
    "        # Updating parameters\n",
    "        optimizer.step()\n",
    "\n",
    "        iter += 1\n",
    "\n",
    "        if iter % 500 == 0:\n",
    "            # Calculate Accuracy         \n",
    "            correct = 0\n",
    "            total = 0\n",
    "            # Iterate through test dataset\n",
    "            for images, labels in test_loader:\n",
    "               \n",
    "                images = images.view(-1, 28*28).to(device)\n",
    "\n",
    "                # Forward pass only to get logits/output\n",
    "                outputs = model(images)\n",
    "\n",
    "                # Get predictions from the maximum value\n",
    "                _, predicted = torch.max(outputs, 1)\n",
    "\n",
    "                # Total number of labels\n",
    "                total += labels.size(0)\n",
    "\n",
    "\n",
    "                # Total correct predictions\n",
    "                if torch.cuda.is_available():\n",
    "                    correct += (predicted.cpu() == labels.cpu()).sum() \n",
    "                else:\n",
    "                    correct += (predicted == labels).sum()\n",
    "\n",
    "            accuracy = 100 * correct.item() / total\n",
    "\n",
    "            # Print Loss\n",
    "            print('Iteration: {}. Loss: {}. Accuracy: {}'.format(iter, loss.item(), accuracy))"
   ]
  },
  {
   "cell_type": "code",
   "execution_count": 130,
   "metadata": {},
   "outputs": [],
   "source": [
    "if save_model is True:\n",
    "    # Saves only parameters\n",
    "    # wights & biases\n",
    "    torch.save(model.state_dict(), 'E:/CSE/softConputing/Ekush/ass-2/model/combination10.pkl') "
   ]
  },
  {
   "cell_type": "markdown",
   "metadata": {},
   "source": [
    "# Combination-11:\n",
    "iteration=5000, epoch=14, lr=0.001, batch size=200, optimizer=Adam, num_hidden = 250, Layer=4, activations=GELU, Loss function=CrossEntropyLoss"
   ]
  },
  {
   "cell_type": "code",
   "execution_count": 22,
   "metadata": {},
   "outputs": [],
   "source": [
    "# Hyperparameters\n",
    "\n",
    "batch_size = 200\n",
    "num_iters = 5000\n",
    "num_hidden = 200\n",
    "input_dim = 28*28 # num_features = 784\n",
    "output_dim = 2\n",
    "save_model = True\n",
    "\n",
    "learning_rate = 0.001\n",
    "\n",
    "\n",
    "# Device\n",
    "device = torch.device(\"cuda:0\" if torch.cuda.is_available() else \"cpu\")"
   ]
  },
  {
   "cell_type": "code",
   "execution_count": 23,
   "metadata": {},
   "outputs": [
    {
     "name": "stdout",
     "output_type": "stream",
     "text": [
      "32\n"
     ]
    }
   ],
   "source": [
    "num_epochs = num_iters / (len(train_data) / batch_size)\n",
    "num_epochs = int(num_epochs)\n",
    "print(num_epochs)"
   ]
  },
  {
   "cell_type": "code",
   "execution_count": 24,
   "metadata": {},
   "outputs": [
    {
     "name": "stdout",
     "output_type": "stream",
     "text": [
      "Train dataloader:139\n",
      "Test dataloader:16\n"
     ]
    }
   ],
   "source": [
    "#batch size\n",
    "#batch_size = 32\n",
    "\n",
    "# split data 20% for testing\n",
    "test_size = 0.1\n",
    "\n",
    "# obtain training indices that will be used for validation\n",
    "num_train = len(train_data)\n",
    "\n",
    "# mix data\n",
    "# index of num of train\n",
    "indices = list(range(num_train))\n",
    "# random the index\n",
    "np.random.shuffle(indices)\n",
    "split = int(np.floor(test_size * num_train))\n",
    "# divied into two part\n",
    "train_idx, test_idx = indices[split:], indices[:split]\n",
    "\n",
    "# define the sampler\n",
    "train_sampler = SubsetRandomSampler(train_idx)\n",
    "test_sampler = SubsetRandomSampler(test_idx)\n",
    "\n",
    "# prepare loaders\n",
    "train_loader = torch.utils.data.DataLoader(\n",
    "    train_data, batch_size=batch_size,\n",
    "    sampler=train_sampler)\n",
    "\n",
    "test_loader = torch.utils.data.DataLoader(\n",
    "    test_data, batch_size=batch_size,\n",
    "    sampler=test_sampler)\n",
    "\n",
    "print(\"Train dataloader:{}\".format(len(train_loader)))\n",
    "print(\"Test dataloader:{}\".format(len(test_loader)))\n"
   ]
  },
  {
   "cell_type": "code",
   "execution_count": 25,
   "metadata": {},
   "outputs": [],
   "source": [
    "class DeepNeuralNetworkModel(nn.Module):\n",
    "    def __init__(self, input_size, num_classes, num_hidden):\n",
    "        super().__init__()\n",
    "        ### 1st hidden layer: 784 --> 100\n",
    "        self.linear_1 = nn.Linear(input_size, num_hidden)\n",
    "        ### Non-linearity in 1st hidden layer\n",
    "        self.relu_1 = nn.GELU()\n",
    "\n",
    "        ### 2nd hidden layer: 100 --> 100\n",
    "        self.linear_2 = nn.Linear(num_hidden, num_hidden)\n",
    "        ### Non-linearity in 2nd hidden layer\n",
    "        self.relu_2 = nn.GELU()\n",
    "\n",
    "        ### 3rd hidden layer: 100 --> 100\n",
    "        self.linear_3 = nn.Linear(num_hidden, num_hidden)\n",
    "        ### Non-linearity in 3rd hidden layer\n",
    "        self.relu_3 = nn.GELU()\n",
    "        \n",
    "        ### 3rd hidden layer: 100 --> 100\n",
    "        self.linear_4 = nn.Linear(num_hidden, num_hidden)\n",
    "        ### Non-linearity in 3rd hidden layer\n",
    "        self.relu_4 = nn.GELU()\n",
    "\n",
    "        ### Output layer: 100 --> 10\n",
    "        self.linear_out = nn.Linear(num_hidden, num_classes)\n",
    "\n",
    "    def forward(self, x):\n",
    "        ### 1st hidden layer\n",
    "        out  = self.linear_1(x)\n",
    "        ### Non-linearity in 1st hidden layer\n",
    "        out = self.relu_1(out)\n",
    "        \n",
    "        ### 2nd hidden layer\n",
    "        out  = self.linear_2(out)\n",
    "        ### Non-linearity in 2nd hidden layer\n",
    "        out = self.relu_2(out)\n",
    "\n",
    "        ### 3rd hidden layer\n",
    "        out  = self.linear_3(out)\n",
    "        ### Non-linearity in 3rd hidden layer\n",
    "        out = self.relu_3(out)\n",
    "        \n",
    "        ### 3rd hidden layer\n",
    "        out  = self.linear_4(out)\n",
    "        ### Non-linearity in 3rd hidden layer\n",
    "        out = self.relu_4(out)\n",
    "        \n",
    "        # Linear layer (output)\n",
    "        probas  = self.linear_out(out)\n",
    "        return probas"
   ]
  },
  {
   "cell_type": "code",
   "execution_count": 26,
   "metadata": {},
   "outputs": [
    {
     "data": {
      "text/plain": [
       "DeepNeuralNetworkModel(\n",
       "  (linear_1): Linear(in_features=784, out_features=200, bias=True)\n",
       "  (relu_1): GELU()\n",
       "  (linear_2): Linear(in_features=200, out_features=200, bias=True)\n",
       "  (relu_2): GELU()\n",
       "  (linear_3): Linear(in_features=200, out_features=200, bias=True)\n",
       "  (relu_3): GELU()\n",
       "  (linear_4): Linear(in_features=200, out_features=200, bias=True)\n",
       "  (relu_4): GELU()\n",
       "  (linear_out): Linear(in_features=200, out_features=2, bias=True)\n",
       ")"
      ]
     },
     "execution_count": 26,
     "metadata": {},
     "output_type": "execute_result"
    }
   ],
   "source": [
    "# INSTANTIATE MODEL CLASS\n",
    "\n",
    "model = DeepNeuralNetworkModel(input_size = input_dim,\n",
    "                               num_classes = output_dim,\n",
    "                               num_hidden = num_hidden)\n",
    "# To enable GPU\n",
    "model.to(device)"
   ]
  },
  {
   "cell_type": "code",
   "execution_count": 27,
   "metadata": {},
   "outputs": [],
   "source": [
    "# INSTANTIATE LOSS & OPTIMIZER CLASS\n",
    "criterion = nn.CrossEntropyLoss()\n",
    "optimizer = torch.optim.Adam(model.parameters(), lr=learning_rate)\n"
   ]
  },
  {
   "cell_type": "code",
   "execution_count": 28,
   "metadata": {},
   "outputs": [
    {
     "name": "stdout",
     "output_type": "stream",
     "text": [
      "0\n",
      "1\n",
      "2\n",
      "3\n",
      "Iteration: 500. Loss: 0.6140651106834412. Accuracy: 61.3102998696219\n",
      "4\n",
      "5\n",
      "6\n",
      "7\n",
      "Iteration: 1000. Loss: 0.5220586657524109. Accuracy: 61.92959582790091\n",
      "8\n",
      "9\n",
      "10\n",
      "Iteration: 1500. Loss: 0.5599929690361023. Accuracy: 61.08213820078227\n",
      "11\n",
      "12\n",
      "13\n",
      "14\n",
      "Iteration: 2000. Loss: 0.45066502690315247. Accuracy: 60.5606258148631\n",
      "15\n",
      "16\n",
      "17\n",
      "Iteration: 2500. Loss: 0.33738404512405396. Accuracy: 60.98435462842242\n",
      "18\n",
      "19\n",
      "20\n",
      "21\n",
      "Iteration: 3000. Loss: 0.26570093631744385. Accuracy: 61.53846153846154\n",
      "22\n",
      "23\n",
      "24\n",
      "25\n",
      "Iteration: 3500. Loss: 0.22036413848400116. Accuracy: 60.625814863102995\n",
      "26\n",
      "27\n",
      "28\n",
      "Iteration: 4000. Loss: 0.20406502485275269. Accuracy: 60.49543676662321\n",
      "29\n",
      "30\n",
      "31\n"
     ]
    }
   ],
   "source": [
    "'''\n",
    "TRAIN THE MODEL\n",
    "'''\n",
    "iter = 0\n",
    "for epoch in range(num_epochs):\n",
    "    print(epoch)\n",
    "    for i, (images, labels) in enumerate(train_loader):\n",
    "\n",
    "        images = images.view(-1, 28*28).to(device)\n",
    "        labels = labels.to(device)\n",
    "\n",
    "        # Clear gradients w.r.t. parameters\n",
    "        optimizer.zero_grad()\n",
    "\n",
    "        # Forward pass to get output/logits\n",
    "        outputs = model(images) \n",
    "\n",
    "        # Calculate Loss: softmax --> cross entropy loss\n",
    "        loss = criterion(outputs, labels)\n",
    "\n",
    "        # Getting gradients w.r.t. parameters\n",
    "        loss.backward()\n",
    "\n",
    "        # Updating parameters\n",
    "        optimizer.step()\n",
    "\n",
    "        iter += 1\n",
    "\n",
    "        if iter % 500 == 0:\n",
    "            # Calculate Accuracy         \n",
    "            correct = 0\n",
    "            total = 0\n",
    "            # Iterate through test dataset\n",
    "            for images, labels in test_loader:\n",
    "               \n",
    "                images = images.view(-1, 28*28).to(device)\n",
    "\n",
    "                # Forward pass only to get logits/output\n",
    "                outputs = model(images)\n",
    "\n",
    "                # Get predictions from the maximum value\n",
    "                _, predicted = torch.max(outputs, 1)\n",
    "\n",
    "                # Total number of labels\n",
    "                total += labels.size(0)\n",
    "\n",
    "\n",
    "                # Total correct predictions\n",
    "                if torch.cuda.is_available():\n",
    "                    correct += (predicted.cpu() == labels.cpu()).sum() \n",
    "                else:\n",
    "                    correct += (predicted == labels).sum()\n",
    "\n",
    "            accuracy = 100 * correct.item() / total\n",
    "\n",
    "            # Print Loss\n",
    "            print('Iteration: {}. Loss: {}. Accuracy: {}'.format(iter, loss.item(), accuracy))"
   ]
  },
  {
   "cell_type": "code",
   "execution_count": 29,
   "metadata": {},
   "outputs": [],
   "source": [
    "if save_model is True:\n",
    "    # Saves only parameters\n",
    "    # wights & biases\n",
    "    torch.save(model.state_dict(), 'E:/CSE/softConputing/Ekush/ass-2/model/combination11.pkl') "
   ]
  },
  {
   "cell_type": "code",
   "execution_count": null,
   "metadata": {},
   "outputs": [],
   "source": []
  },
  {
   "cell_type": "code",
   "execution_count": null,
   "metadata": {},
   "outputs": [],
   "source": []
  },
  {
   "cell_type": "markdown",
   "metadata": {},
   "source": [
    "# Testing Best Model\n",
    "Best Model: Combination-6"
   ]
  },
  {
   "cell_type": "code",
   "execution_count": 36,
   "metadata": {},
   "outputs": [
    {
     "name": "stdout",
     "output_type": "stream",
     "text": [
      "Trained Model Loaded\n"
     ]
    }
   ],
   "source": [
    "load_model = True\n",
    "\n",
    "if load_model is True:\n",
    "    model.load_state_dict(torch.load('E:/CSE/softConputing/Ekush/ass-2/model/combination9.pkl'))\n",
    "    print('Trained Model Loaded')"
   ]
  },
  {
   "cell_type": "code",
   "execution_count": 39,
   "metadata": {},
   "outputs": [
    {
     "data": {
      "image/png": "[encoded data removed]",
      "text/plain": [
       "<Figure size 432x288 with 5 Axes>"
      ]
     },
     "metadata": {
      "needs_background": "light"
     },
     "output_type": "display_data"
    }
   ],
   "source": [
    "for images, labels in test_loader:\n",
    "    break\n",
    "    \n",
    "fig, ax = plt.subplots(1, 5)\n",
    "for i in range(5):\n",
    "    ax[i].imshow(images[i].view(28, 28), cmap=matplotlib.cm.binary)\n",
    "\n",
    "plt.show()"
   ]
  },
  {
   "cell_type": "code",
   "execution_count": 40,
   "metadata": {},
   "outputs": [
    {
     "name": "stdout",
     "output_type": "stream",
     "text": [
      "Predicted labels [0 0 1 1 1]\n"
     ]
    }
   ],
   "source": [
    "predictions = model.forward(images[:5].view(-1, 28*28).to(device))\n",
    "predictions = torch.argmax(predictions, dim=1)\n",
    "print('Predicted labels', predictions.cpu().numpy())"
   ]
  },
  {
   "cell_type": "code",
   "execution_count": null,
   "metadata": {},
   "outputs": [],
   "source": []
  },
  {
   "cell_type": "markdown",
   "metadata": {},
   "source": [
    "### Accuracies obtained for different Hyperparameters\n",
    "\n",
    "- for all combinations iteration=5000, learning rate=0.001, Optimizer=Adam, batch size=200, epoch=32 and Loss function=CrossEntropyLoss    \n",
    "Other hyperpatameters are shown in the table below along with Accuracy and Loss \n",
    "\n",
    "Combination|hidden layer| num_hidden | Activations  | Accuracy | Loss |\n",
    "-----------|------------|------------|--------------|----------|------|\n",
    "    1      |      2     |     100    |     ReLU     |59.680    |0.292 |\n",
    "    2      |      3     |     100    |     ReLU     |59.517    |0.297 |\n",
    "    3      |      3     |     150    |     ReLU     |59.419    |0.274 |\n",
    "    4      |      3     |     200    |     ReLU     |60.234    |0.196 |\n",
    "    5      |      3     |     200    |     SELU     |57.985    |0.366 |\n",
    "    6      |      3     |     200    |     RReLU    |60.495    |0.340 |\n",
    "    7      |      3     |     200    |    Sigmoid   |60.430    |0.193 |\n",
    "    8      |      3     |     200    |     GELU     |61.701    |0.150 |\n",
    "    9      |      4     |     200    |     RReLU    |***62.516***    |0.468 |\n",
    "    10     |      4     |     250    |     RReLU    |60.430    |0.353 |\n",
    "    11     |      4     |     250    |     GELU     |60.495    |0.204 |\n",
    "   \n",
    " \n",
    "  \n",
    "\n",
    "- **How hyperparameters were chosen**\n",
    "    - Firstly, layer size 2 and 3 were take along with 3 different num_hidden 100, 150 and 200. It was seen that 3 layered model with 200 num_ hidden performed best.\n",
    "    - Secondly, for the three layerd model and 200 num_hidden 4 diffenent activations SELU, RReLU, Sigmoid, GELU were tested. It could be seen that RReLU and GELU performed better than others.\n",
    "    - Thirdly, hidden layer size was increased from 3 to 4 for model with activation RReLU and GELU, num_hidden 200 and it could be seen that this model with RReLU activation gave highest accuracy.\n",
    "    - Finally, for the model in combination 9 num_hidden were incresed to 250 but the accuracy of this model was less than that of model 9.\n",
    "\n",
    "### *** Combination-9 performed the best ***\n"
   ]
  },
  {
   "cell_type": "code",
   "execution_count": null,
   "metadata": {},
   "outputs": [],
   "source": []
  }
 ],
 "metadata": {
  "kernelspec": {
   "display_name": "Python 3",
   "language": "python",
   "name": "python3"
  },
  "language_info": {
   "codemirror_mode": {
    "name": "ipython",
    "version": 3
   },
   "file_extension": ".py",
   "mimetype": "text/x-python",
   "name": "python",
   "nbconvert_exporter": "python",
   "pygments_lexer": "ipython3",
   "version": "3.7.6"
  }
 },
 "nbformat": 4,
 "nbformat_minor": 4
}
