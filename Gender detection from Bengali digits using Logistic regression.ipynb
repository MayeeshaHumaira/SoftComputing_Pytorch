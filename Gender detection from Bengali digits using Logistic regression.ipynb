{
 "cells": [
  {
   "cell_type": "markdown",
   "metadata": {},
   "source": [
    "# Assignment-1\n",
    "- **Problem-2**\n",
    "- **ID=160204008**\n",
    "\n"
   ]
  },
  {
   "cell_type": "markdown",
   "metadata": {},
   "source": [
    "- **Logistic Regression**\n",
    "    - Output: probability [0, 1] given input belonging to a class\n",
    "\n",
    "\n",
    "\n",
    "**Logistic Regression Example:**\n",
    "\n",
    "*   Apply only **logistic regression** for the **Ekush** dataset and build a binary classification model that can predict  **male/female** from Bengali handwritten digits with different hyperparameter settings.  \n",
    "\n",
    "**Problem Portion Dataset Link:** https://shahariarrabby.github.io/ekush/#download\n",
    "\n",
    "\n",
    "\n",
    "**Input:** Hangwritten Bengali Digit images fron 0-9\n",
    "\n",
    "**Output:** Probability of the digit written by **male** or **female**\n",
    "\n",
    "- Input: handwritten bengali digit image\n",
    "- Output: probability of the digit written by male or female\n"
   ]
  },
  {
   "cell_type": "markdown",
   "metadata": {},
   "source": [
    "# Image processin and CSV file making was done on Laptop using Jupyter NoteBook "
   ]
  },
  {
   "cell_type": "markdown",
   "metadata": {},
   "source": [
    "# *Image Processing*\n",
    "Ekush dataset has two image folders Male and Female in both this folders folder 110 to 119 consist of digit images. I copied all the male digit images in a maleAll folder and all the female digit images in femaleALL folder. "
   ]
  },
  {
   "cell_type": "code",
   "execution_count": 2,
   "metadata": {},
   "outputs": [
    {
     "name": "stdout",
     "output_type": "stream",
     "text": [
      "0--------------------------------------\n",
      "1--------------------------------------\n",
      "2--------------------------------------\n",
      "3--------------------------------------\n",
      "4--------------------------------------\n",
      "5--------------------------------------\n",
      "6--------------------------------------\n",
      "7--------------------------------------\n",
      "8--------------------------------------\n",
      "9--------------------------------------\n"
     ]
    }
   ],
   "source": [
    "#Female Renaming images\n",
    "\n",
    "import shutil\n",
    "import os\n",
    "path_folder='E:/CSE/softConputing/Ekush/female'\n",
    "\n",
    "src = path_folder+\"/110\"\n",
    "dir_folders = os.listdir(src)\n",
    "for dir_name in dir_folders:\n",
    "    #print(dir_name)\n",
    "    a='0_'+dir_name\n",
    "    os.rename(src+ \"/\" +dir_name, src+ \"/\" +a)\n",
    "print('0--------------------------------------')\n",
    "\n",
    "src = path_folder+\"/111\"\n",
    "dir_folders = os.listdir(src)\n",
    "for dir_name in dir_folders:\n",
    "    #print(dir_name)\n",
    "    a='1_'+dir_name\n",
    "    os.rename(src+ \"/\" +dir_name, src+ \"/\" +a)\n",
    "    \n",
    "print('1--------------------------------------')\n",
    "\n",
    "src = path_folder+\"/112\"\n",
    "dir_folders = os.listdir(src)\n",
    "for dir_name in dir_folders:\n",
    "    #print(dir_name)\n",
    "    a='2_'+dir_name\n",
    "    os.rename(src+ \"/\" +dir_name, src+ \"/\" +a)\n",
    "print('2--------------------------------------')\n",
    "\n",
    "\n",
    "src = path_folder+\"/113\"\n",
    "dir_folders = os.listdir(src)\n",
    "for dir_name in dir_folders:\n",
    "    #print(dir_name)\n",
    "    a='3_'+dir_name\n",
    "    os.rename(src+ \"/\" +dir_name, src+ \"/\" +a)\n",
    "print('3--------------------------------------')\n",
    "\n",
    "\n",
    "src = path_folder+\"/114\"\n",
    "dir_folders = os.listdir(src)\n",
    "for dir_name in dir_folders:\n",
    "    #print(dir_name)\n",
    "    a='4_'+dir_name\n",
    "    os.rename(src+ \"/\" +dir_name, src+ \"/\" +a)\n",
    "print('4--------------------------------------')\n",
    "\n",
    "src = path_folder+\"/115\"\n",
    "dir_folders = os.listdir(src)\n",
    "for dir_name in dir_folders:\n",
    "    #print(dir_name)\n",
    "    a='5_'+dir_name\n",
    "    os.rename(src+ \"/\" +dir_name, src+ \"/\" +a)\n",
    "print('5--------------------------------------')\n",
    "\n",
    "src = path_folder+\"/116\"\n",
    "dir_folders = os.listdir(src)\n",
    "for dir_name in dir_folders:\n",
    "    #print(dir_name)\n",
    "    a='6_'+dir_name\n",
    "    os.rename(src+ \"/\" +dir_name, src+ \"/\" +a)\n",
    "print('6--------------------------------------')\n",
    "\n",
    "\n",
    "src = path_folder+\"/117\"\n",
    "dir_folders = os.listdir(src)\n",
    "for dir_name in dir_folders:\n",
    "    #print(dir_name)\n",
    "    a='7_'+dir_name\n",
    "    os.rename(src+ \"/\" +dir_name, src+ \"/\" +a)\n",
    "print('7--------------------------------------')\n",
    "\n",
    "\n",
    "src = path_folder+\"/118\"\n",
    "dir_folders = os.listdir(src)\n",
    "for dir_name in dir_folders:\n",
    "    #print(dir_name)\n",
    "    a='8_'+dir_name\n",
    "    os.rename(src+ \"/\" +dir_name, src+ \"/\" +a)\n",
    "print('8--------------------------------------')\n",
    "\n",
    "\n",
    "src = path_folder+\"/119\"\n",
    "dir_folders = os.listdir(src)\n",
    "for dir_name in dir_folders:\n",
    "    #print(dir_name)\n",
    "    a='9_'+dir_name\n",
    "    os.rename(src+ \"/\" +dir_name, src+ \"/\" +a)\n",
    "print('9--------------------------------------')\n",
    "    "
   ]
  },
  {
   "cell_type": "code",
   "execution_count": 3,
   "metadata": {},
   "outputs": [
    {
     "name": "stdout",
     "output_type": "stream",
     "text": [
      "0--------------------------------------\n",
      "1--------------------------------------\n",
      "2--------------------------------------\n",
      "3--------------------------------------\n",
      "4--------------------------------------\n",
      "5--------------------------------------\n",
      "6--------------------------------------\n",
      "7--------------------------------------\n",
      "8--------------------------------------\n",
      "9--------------------------------------\n"
     ]
    }
   ],
   "source": [
    "#Female digit images of folder 110 to 119 coppied to femaleALL folder\n",
    "\n",
    "import shutil\n",
    "import os\n",
    "path_folder='E:/CSE/softConputing/Ekush/female'\n",
    "\n",
    "src = path_folder+\"/110\"\n",
    "path = 'E:/CSE/softConputing/Ekush/femaleAllRaw'\n",
    "dir_folders = os.listdir(src)\n",
    "for dir_name in dir_folders:\n",
    "    file_name = os.path.join(src, dir_name)\n",
    "    if os.path.isfile(file_name):\n",
    "        shutil.copy(file_name, path)\n",
    "print('0--------------------------------------')\n",
    "\n",
    "\n",
    "src = path_folder+\"/111\"\n",
    "dir_folders = os.listdir(src)\n",
    "for dir_name in dir_folders:\n",
    "    file_name = os.path.join(src, dir_name)\n",
    "    if os.path.isfile(file_name):\n",
    "        shutil.copy(file_name, path)\n",
    "print('1--------------------------------------')\n",
    "\n",
    "\n",
    "\n",
    "src = path_folder+\"/112\"\n",
    "dir_folders = os.listdir(src)\n",
    "for dir_name in dir_folders:\n",
    "    file_name = os.path.join(src, dir_name)\n",
    "    if os.path.isfile(file_name):\n",
    "        shutil.copy(file_name, path)\n",
    "print('2--------------------------------------')\n",
    "\n",
    "src = path_folder+\"/113\"\n",
    "dir_folders = os.listdir(src)\n",
    "for dir_name in dir_folders:\n",
    "    file_name = os.path.join(src, dir_name)\n",
    "    if os.path.isfile(file_name):\n",
    "        shutil.copy(file_name, path)\n",
    "print('3--------------------------------------')\n",
    "\n",
    "src = path_folder+\"/114\"\n",
    "dir_folders = os.listdir(src)\n",
    "for dir_name in dir_folders:\n",
    "    file_name = os.path.join(src, dir_name)\n",
    "    if os.path.isfile(file_name):\n",
    "        shutil.copy(file_name, path)\n",
    "print('4--------------------------------------')\n",
    "\n",
    "src = path_folder+\"/115\"\n",
    "dir_folders = os.listdir(src)\n",
    "for dir_name in dir_folders:\n",
    "    file_name = os.path.join(src, dir_name)\n",
    "    if os.path.isfile(file_name):\n",
    "        shutil.copy(file_name, path)\n",
    "print('5--------------------------------------')\n",
    "\n",
    "src = path_folder+\"/116\"\n",
    "dir_folders = os.listdir(src)\n",
    "for dir_name in dir_folders:\n",
    "    file_name = os.path.join(src, dir_name)\n",
    "    if os.path.isfile(file_name):\n",
    "        shutil.copy(file_name, path)\n",
    "print('6--------------------------------------')\n",
    "\n",
    "src = path_folder+\"/117\"\n",
    "dir_folders = os.listdir(src)\n",
    "for dir_name in dir_folders:\n",
    "    file_name = os.path.join(src, dir_name)\n",
    "    if os.path.isfile(file_name):\n",
    "        shutil.copy(file_name, path)\n",
    "print('7--------------------------------------')\n",
    "\n",
    "src = path_folder+\"/118\"\n",
    "dir_folders = os.listdir(src)\n",
    "for dir_name in dir_folders:\n",
    "    file_name = os.path.join(src, dir_name)\n",
    "    if os.path.isfile(file_name):\n",
    "        shutil.copy(file_name, path)\n",
    "print('8--------------------------------------')\n",
    "\n",
    "src = path_folder+\"/119\"\n",
    "dir_folders = os.listdir(src)\n",
    "for dir_name in dir_folders:\n",
    "    file_name = os.path.join(src, dir_name)\n",
    "    if os.path.isfile(file_name):\n",
    "        shutil.copy(file_name, path)\n",
    "print('9--------------------------------------')"
   ]
  },
  {
   "cell_type": "code",
   "execution_count": 7,
   "metadata": {},
   "outputs": [],
   "source": [
    "#Resizing all female digit images\n",
    "from PIL import Image\n",
    "src = 'E:/CSE/softConputing/Ekush/femaleAllRaw'\n",
    "dir_folders = os.listdir(src)\n",
    "for dir_name in dir_folders:\n",
    "    image = Image.open(src+\"/\"+dir_name)\n",
    "    new_image = image.resize((28, 28))\n",
    "    new_image.save('E:/CSE/softConputing/Ekush/femaleAll'+\"/\"+dir_name)\n",
    "    #print(dir_name)"
   ]
  },
  {
   "cell_type": "code",
   "execution_count": null,
   "metadata": {},
   "outputs": [],
   "source": [
    "#Male Renaming images\n",
    "\n",
    "import shutil\n",
    "import os\n",
    "path_folder='E:/CSE/softConputing/Ekush/male'\n",
    "\n",
    "src = path_folder+\"/110\"\n",
    "dir_folders = os.listdir(src)\n",
    "for dir_name in dir_folders:\n",
    "    #print(dir_name)\n",
    "    a='0_'+dir_name\n",
    "    os.rename(src+ \"/\" +dir_name, src+ \"/\" +a)\n",
    "print('0--------------------------------------')\n",
    "\n",
    "src = path_folder+\"/111\"\n",
    "dir_folders = os.listdir(src)\n",
    "for dir_name in dir_folders:\n",
    "    #print(dir_name)\n",
    "    a='1_'+dir_name\n",
    "    os.rename(src+ \"/\" +dir_name, src+ \"/\" +a)\n",
    "    \n",
    "print('1--------------------------------------')\n",
    "\n",
    "src = path_folder+\"/112\"\n",
    "dir_folders = os.listdir(src)\n",
    "for dir_name in dir_folders:\n",
    "    #print(dir_name)\n",
    "    a='2_'+dir_name\n",
    "    os.rename(src+ \"/\" +dir_name, src+ \"/\" +a)\n",
    "print('2--------------------------------------')\n",
    "\n",
    "\n",
    "src = path_folder+\"/113\"\n",
    "dir_folders = os.listdir(src)\n",
    "for dir_name in dir_folders:\n",
    "    #print(dir_name)\n",
    "    a='3_'+dir_name\n",
    "    os.rename(src+ \"/\" +dir_name, src+ \"/\" +a)\n",
    "print('3--------------------------------------')\n",
    "\n",
    "\n",
    "src = path_folder+\"/114\"\n",
    "dir_folders = os.listdir(src)\n",
    "for dir_name in dir_folders:\n",
    "    #print(dir_name)\n",
    "    a='4_'+dir_name\n",
    "    os.rename(src+ \"/\" +dir_name, src+ \"/\" +a)\n",
    "print('4--------------------------------------')\n",
    "\n",
    "src = path_folder+\"/115\"\n",
    "dir_folders = os.listdir(src)\n",
    "for dir_name in dir_folders:\n",
    "    #print(dir_name)\n",
    "    a='5_'+dir_name\n",
    "    os.rename(src+ \"/\" +dir_name, src+ \"/\" +a)\n",
    "print('5--------------------------------------')\n",
    "\n",
    "src = path_folder+\"/116\"\n",
    "dir_folders = os.listdir(src)\n",
    "for dir_name in dir_folders:\n",
    "    #print(dir_name)\n",
    "    a='6_'+dir_name\n",
    "    os.rename(src+ \"/\" +dir_name, src+ \"/\" +a)\n",
    "print('6--------------------------------------')\n",
    "\n",
    "\n",
    "src = path_folder+\"/117\"\n",
    "dir_folders = os.listdir(src)\n",
    "for dir_name in dir_folders:\n",
    "    #print(dir_name)\n",
    "    a='7_'+dir_name\n",
    "    os.rename(src+ \"/\" +dir_name, src+ \"/\" +a)\n",
    "print('7--------------------------------------')\n",
    "\n",
    "\n",
    "src = path_folder+\"/118\"\n",
    "dir_folders = os.listdir(src)\n",
    "for dir_name in dir_folders:\n",
    "    #print(dir_name)\n",
    "    a='8_'+dir_name\n",
    "    os.rename(src+ \"/\" +dir_name, src+ \"/\" +a)\n",
    "print('8--------------------------------------')\n",
    "\n",
    "\n",
    "src = path_folder+\"/119\"\n",
    "dir_folders = os.listdir(src)\n",
    "for dir_name in dir_folders:\n",
    "    #print(dir_name)\n",
    "    a='9_'+dir_name\n",
    "    os.rename(src+ \"/\" +dir_name, src+ \"/\" +a)\n",
    "print('9--------------------------------------')\n",
    "    "
   ]
  },
  {
   "cell_type": "code",
   "execution_count": 8,
   "metadata": {},
   "outputs": [
    {
     "name": "stdout",
     "output_type": "stream",
     "text": [
      "0--------------------------------------\n",
      "1--------------------------------------\n",
      "2--------------------------------------\n",
      "3--------------------------------------\n",
      "4--------------------------------------\n",
      "5--------------------------------------\n",
      "6--------------------------------------\n",
      "7--------------------------------------\n",
      "8--------------------------------------\n",
      "9--------------------------------------\n"
     ]
    }
   ],
   "source": [
    "#Male digit images of folder 110 to 119 coppied to femaleALL folder\n",
    "\n",
    "import shutil\n",
    "path_folder='E:/CSE/softConputing/Ekush/male'\n",
    "\n",
    "src = path_folder+\"/110\"\n",
    "path = 'E:/CSE/softConputing/Ekush/maleAllRaw'\n",
    "dir_folders = os.listdir(src)\n",
    "for dir_name in dir_folders:\n",
    "    file_name = os.path.join(src, dir_name)\n",
    "    if os.path.isfile(file_name):\n",
    "        shutil.copy(file_name, path)\n",
    "print('0--------------------------------------')\n",
    "\n",
    "\n",
    "src = path_folder+\"/111\"\n",
    "dir_folders = os.listdir(src)\n",
    "for dir_name in dir_folders:\n",
    "    file_name = os.path.join(src, dir_name)\n",
    "    if os.path.isfile(file_name):\n",
    "        shutil.copy(file_name, path)\n",
    "print('1--------------------------------------')\n",
    "\n",
    "\n",
    "\n",
    "src = path_folder+\"/112\"\n",
    "dir_folders = os.listdir(src)\n",
    "for dir_name in dir_folders:\n",
    "    file_name = os.path.join(src, dir_name)\n",
    "    if os.path.isfile(file_name):\n",
    "        shutil.copy(file_name, path)\n",
    "print('2--------------------------------------')\n",
    "\n",
    "src = path_folder+\"/113\"\n",
    "dir_folders = os.listdir(src)\n",
    "for dir_name in dir_folders:\n",
    "    file_name = os.path.join(src, dir_name)\n",
    "    if os.path.isfile(file_name):\n",
    "        shutil.copy(file_name, path)\n",
    "print('3--------------------------------------')\n",
    "\n",
    "src = path_folder+\"/114\"\n",
    "dir_folders = os.listdir(src)\n",
    "for dir_name in dir_folders:\n",
    "    file_name = os.path.join(src, dir_name)\n",
    "    if os.path.isfile(file_name):\n",
    "        shutil.copy(file_name, path)\n",
    "print('4--------------------------------------')\n",
    "\n",
    "src = path_folder+\"/115\"\n",
    "dir_folders = os.listdir(src)\n",
    "for dir_name in dir_folders:\n",
    "    file_name = os.path.join(src, dir_name)\n",
    "    if os.path.isfile(file_name):\n",
    "        shutil.copy(file_name, path)\n",
    "print('5--------------------------------------')\n",
    "\n",
    "src = path_folder+\"/116\"\n",
    "dir_folders = os.listdir(src)\n",
    "for dir_name in dir_folders:\n",
    "    file_name = os.path.join(src, dir_name)\n",
    "    if os.path.isfile(file_name):\n",
    "        shutil.copy(file_name, path)\n",
    "print('6--------------------------------------')\n",
    "\n",
    "src = path_folder+\"/117\"\n",
    "dir_folders = os.listdir(src)\n",
    "for dir_name in dir_folders:\n",
    "    file_name = os.path.join(src, dir_name)\n",
    "    if os.path.isfile(file_name):\n",
    "        shutil.copy(file_name, path)\n",
    "print('7--------------------------------------')\n",
    "\n",
    "src = path_folder+\"/118\"\n",
    "dir_folders = os.listdir(src)\n",
    "for dir_name in dir_folders:\n",
    "    file_name = os.path.join(src, dir_name)\n",
    "    if os.path.isfile(file_name):\n",
    "        shutil.copy(file_name, path)\n",
    "print('8--------------------------------------')\n",
    "\n",
    "src = path_folder+\"/119\"\n",
    "dir_folders = os.listdir(src)\n",
    "for dir_name in dir_folders:\n",
    "    file_name = os.path.join(src, dir_name)\n",
    "    if os.path.isfile(file_name):\n",
    "        shutil.copy(file_name, path)\n",
    "print('9--------------------------------------')"
   ]
  },
  {
   "cell_type": "code",
   "execution_count": 10,
   "metadata": {},
   "outputs": [],
   "source": [
    "#Resizing all male digit images\n",
    "from PIL import Image\n",
    "src = 'E:/CSE/softConputing/Ekush/maleAllRaw'\n",
    "dir_folders = os.listdir(src)\n",
    "for dir_name in dir_folders:\n",
    "    image = Image.open(src+\"/\"+dir_name)\n",
    "    new_image = image.resize((28, 28))\n",
    "    new_image.save('E:/CSE/softConputing/Ekush/maleAll'+\"/\"+dir_name)\n",
    "    #print(dir_name)"
   ]
  },
  {
   "cell_type": "code",
   "execution_count": 11,
   "metadata": {},
   "outputs": [
    {
     "data": {
      "text/plain": [
       "['female',\n",
       " 'femaleAll',\n",
       " 'femaleAllRaw',\n",
       " 'femaleDigits.csv',\n",
       " 'male',\n",
       " 'maleAll',\n",
       " 'maleAllRaw',\n",
       " 'maleDigits.csv']"
      ]
     },
     "execution_count": 11,
     "metadata": {},
     "output_type": "execute_result"
    }
   ],
   "source": [
    "PATH = 'E:/CSE/softConputing/Ekush/'\n",
    "os.listdir(PATH)"
   ]
  },
  {
   "cell_type": "markdown",
   "metadata": {},
   "source": [
    "# TWO seperate CSV file for male and Female"
   ]
  },
  {
   "cell_type": "code",
   "execution_count": null,
   "metadata": {},
   "outputs": [],
   "source": [
    "#CSV For Female\n",
    "import os\n",
    "from os import path\n",
    "import shutil\n",
    "import numpy as np\n",
    "import pandas as pd\n",
    "\n",
    "src = 'E:/CSE/softConputing/Ekush/femaleAll'\n",
    "a = os.listdir(src)\n",
    "print(len(a))\n",
    "\n",
    "import pandas\n",
    "\n",
    "l=[]\n",
    "for i in range(len(a)):\n",
    "    l.append(1)\n",
    "df = pandas.DataFrame(data={\"imageid\": a, \"label\": l})\n",
    "df.to_csv(\"E:/CSE/softConputing/Ekush/femaleDigits.csv\", sep=',',index=False)\n"
   ]
  },
  {
   "cell_type": "code",
   "execution_count": null,
   "metadata": {},
   "outputs": [],
   "source": [
    "#CSV for Male\n",
    "\n",
    "src = 'E:/CSE/softConputing/Ekush/maleAll'\n",
    "a = os.listdir(src)\n",
    "print(len(a))\n",
    "\n",
    "import pandas\n",
    "\n",
    "l=[]\n",
    "for i in range(len(a)):\n",
    "    l.append(0)\n",
    "df = pandas.DataFrame(data={\"imageid\": a, \"label\": l})\n",
    "df.to_csv(\"E:/CSE/softConputing/Ekush/maleDigits.csv\", sep=',',index=False)"
   ]
  },
  {
   "cell_type": "markdown",
   "metadata": {},
   "source": [
    "## Done Image Processing and making CSV"
   ]
  },
  {
   "cell_type": "code",
   "execution_count": null,
   "metadata": {},
   "outputs": [],
   "source": [
    "from google.colab import drive\n",
    "\n",
    "drive.mount('/content/gdrive')"
   ]
  },
  {
   "cell_type": "code",
   "execution_count": 1,
   "metadata": {},
   "outputs": [],
   "source": [
    "import os\n",
    "from os import path\n",
    "import shutil\n",
    "import numpy as np\n",
    "import pandas as pd\n",
    "import torch\n",
    "import torch.nn as nn\n",
    "import torch.nn.functional as F\n",
    "import torch.optim as optim\n",
    "from torch.utils.data import Dataset\n",
    "from torch.utils.data.sampler import SubsetRandomSampler\n",
    "from torchvision import datasets, transforms, models\n",
    "import matplotlib\n",
    "import matplotlib.pyplot as plt\n",
    "from PIL import Image"
   ]
  },
  {
   "cell_type": "markdown",
   "metadata": {},
   "source": [
    "## Showing Samples"
   ]
  },
  {
   "cell_type": "code",
   "execution_count": 2,
   "metadata": {},
   "outputs": [
    {
     "data": {
      "image/png": "[encoded data removed]",
      "text/plain": [
       "<PIL.JpegImagePlugin.JpegImageFile image mode=RGB size=28x28 at 0x21523184BC8>"
      ]
     },
     "execution_count": 2,
     "metadata": {},
     "output_type": "execute_result"
    }
   ],
   "source": [
    "from PIL import Image\n",
    "data_dir = 'E:/CSE/softConputing/Ekush/maleAll'\n",
    "name = os.listdir(data_dir)[5000]\n",
    "Image.open(data_dir+\"/\"+name)"
   ]
  },
  {
   "cell_type": "code",
   "execution_count": 3,
   "metadata": {},
   "outputs": [
    {
     "data": {
      "image/png": "[encoded data removed]",
      "text/plain": [
       "<PIL.JpegImagePlugin.JpegImageFile image mode=RGB size=28x28 at 0x215292C6E88>"
      ]
     },
     "execution_count": 3,
     "metadata": {},
     "output_type": "execute_result"
    }
   ],
   "source": [
    "from PIL import Image\n",
    "data_dir = 'E:/CSE/softConputing/Ekush/femaleAll'\n",
    "name = os.listdir(data_dir)[5000]\n",
    "Image.open(data_dir+\"/\"+name)"
   ]
  },
  {
   "cell_type": "code",
   "execution_count": 4,
   "metadata": {},
   "outputs": [
    {
     "name": "stdout",
     "output_type": "stream",
     "text": [
      "15620\n"
     ]
    }
   ],
   "source": [
    "src = 'E:/CSE/softConputing/Ekush/femaleAll'\n",
    "a = os.listdir(src)\n",
    "print(len(a))"
   ]
  },
  {
   "cell_type": "code",
   "execution_count": 5,
   "metadata": {},
   "outputs": [
    {
     "data": {
      "text/plain": [
       "Index(['imageid', 'label'], dtype='object')"
      ]
     },
     "execution_count": 5,
     "metadata": {},
     "output_type": "execute_result"
    }
   ],
   "source": [
    "totalF = pd.read_csv('E:/CSE/softConputing/Ekush/femaleDigits.csv')\n",
    "totalF.columns"
   ]
  },
  {
   "cell_type": "code",
   "execution_count": 6,
   "metadata": {},
   "outputs": [
    {
     "data": {
      "text/html": [
       "<div>\n",
       "<style scoped>\n",
       "    .dataframe tbody tr th:only-of-type {\n",
       "        vertical-align: middle;\n",
       "    }\n",
       "\n",
       "    .dataframe tbody tr th {\n",
       "        vertical-align: top;\n",
       "    }\n",
       "\n",
       "    .dataframe thead th {\n",
       "        text-align: right;\n",
       "    }\n",
       "</style>\n",
       "<table border=\"1\" class=\"dataframe\">\n",
       "  <thead>\n",
       "    <tr style=\"text-align: right;\">\n",
       "      <th></th>\n",
       "      <th>imageid</th>\n",
       "      <th>label</th>\n",
       "    </tr>\n",
       "  </thead>\n",
       "  <tbody>\n",
       "    <tr>\n",
       "      <th>0</th>\n",
       "      <td>0_1_14_BOG_1_317.jpg</td>\n",
       "      <td>1</td>\n",
       "    </tr>\n",
       "    <tr>\n",
       "      <th>1</th>\n",
       "      <td>0_1_22_Farid_3_318.jpg</td>\n",
       "      <td>1</td>\n",
       "    </tr>\n",
       "    <tr>\n",
       "      <th>2</th>\n",
       "      <td>0_1_B.BARIA_11_1_319.jpg</td>\n",
       "      <td>1</td>\n",
       "    </tr>\n",
       "    <tr>\n",
       "      <th>3</th>\n",
       "      <td>0_1_B.BARIA_11_1_320.jpg</td>\n",
       "      <td>1</td>\n",
       "    </tr>\n",
       "    <tr>\n",
       "      <th>4</th>\n",
       "      <td>0_1_B.BARIA_11_1_321.jpg</td>\n",
       "      <td>1</td>\n",
       "    </tr>\n",
       "    <tr>\n",
       "      <th>5</th>\n",
       "      <td>0_1_B.BARIA_11_1_322.jpg</td>\n",
       "      <td>1</td>\n",
       "    </tr>\n",
       "    <tr>\n",
       "      <th>6</th>\n",
       "      <td>0_1_B.BARIA_11_1_323.jpg</td>\n",
       "      <td>1</td>\n",
       "    </tr>\n",
       "    <tr>\n",
       "      <th>7</th>\n",
       "      <td>0_1_B.BARIA_11_1_324.jpg</td>\n",
       "      <td>1</td>\n",
       "    </tr>\n",
       "    <tr>\n",
       "      <th>8</th>\n",
       "      <td>0_1_B.BARIA_12_1_325.jpg</td>\n",
       "      <td>1</td>\n",
       "    </tr>\n",
       "    <tr>\n",
       "      <th>9</th>\n",
       "      <td>0_1_B.BARIA_12_1_87.jpg</td>\n",
       "      <td>1</td>\n",
       "    </tr>\n",
       "  </tbody>\n",
       "</table>\n",
       "</div>"
      ],
      "text/plain": [
       "                    imageid  label\n",
       "0      0_1_14_BOG_1_317.jpg      1\n",
       "1    0_1_22_Farid_3_318.jpg      1\n",
       "2  0_1_B.BARIA_11_1_319.jpg      1\n",
       "3  0_1_B.BARIA_11_1_320.jpg      1\n",
       "4  0_1_B.BARIA_11_1_321.jpg      1\n",
       "5  0_1_B.BARIA_11_1_322.jpg      1\n",
       "6  0_1_B.BARIA_11_1_323.jpg      1\n",
       "7  0_1_B.BARIA_11_1_324.jpg      1\n",
       "8  0_1_B.BARIA_12_1_325.jpg      1\n",
       "9   0_1_B.BARIA_12_1_87.jpg      1"
      ]
     },
     "execution_count": 6,
     "metadata": {},
     "output_type": "execute_result"
    }
   ],
   "source": [
    "totalF.iloc[:10, 0:]"
   ]
  },
  {
   "cell_type": "code",
   "execution_count": 7,
   "metadata": {},
   "outputs": [
    {
     "name": "stdout",
     "output_type": "stream",
     "text": [
      "15068\n"
     ]
    }
   ],
   "source": [
    "src = 'E:/CSE/softConputing/Ekush/maleAll'\n",
    "a = os.listdir(src)\n",
    "print(len(a))"
   ]
  },
  {
   "cell_type": "code",
   "execution_count": 8,
   "metadata": {},
   "outputs": [
    {
     "data": {
      "text/plain": [
       "Index(['imageid', 'label'], dtype='object')"
      ]
     },
     "execution_count": 8,
     "metadata": {},
     "output_type": "execute_result"
    }
   ],
   "source": [
    "totalM = pd.read_csv('E:/CSE/softConputing/Ekush/maleDigits.csv')\n",
    "totalM.columns"
   ]
  },
  {
   "cell_type": "code",
   "execution_count": 9,
   "metadata": {},
   "outputs": [
    {
     "data": {
      "text/html": [
       "<div>\n",
       "<style scoped>\n",
       "    .dataframe tbody tr th:only-of-type {\n",
       "        vertical-align: middle;\n",
       "    }\n",
       "\n",
       "    .dataframe tbody tr th {\n",
       "        vertical-align: top;\n",
       "    }\n",
       "\n",
       "    .dataframe thead th {\n",
       "        text-align: right;\n",
       "    }\n",
       "</style>\n",
       "<table border=\"1\" class=\"dataframe\">\n",
       "  <thead>\n",
       "    <tr style=\"text-align: right;\">\n",
       "      <th></th>\n",
       "      <th>imageid</th>\n",
       "      <th>label</th>\n",
       "    </tr>\n",
       "  </thead>\n",
       "  <tbody>\n",
       "    <tr>\n",
       "      <th>0</th>\n",
       "      <td>0_0_18_kis_2_361.jpg</td>\n",
       "      <td>0</td>\n",
       "    </tr>\n",
       "    <tr>\n",
       "      <th>1</th>\n",
       "      <td>0_0_B.BARIA_14_1_362.jpg</td>\n",
       "      <td>0</td>\n",
       "    </tr>\n",
       "    <tr>\n",
       "      <th>2</th>\n",
       "      <td>0_0_B.BARIA_17_2_363.jpg</td>\n",
       "      <td>0</td>\n",
       "    </tr>\n",
       "    <tr>\n",
       "      <th>3</th>\n",
       "      <td>0_0_B.BARIA_20_3_1.jpg</td>\n",
       "      <td>0</td>\n",
       "    </tr>\n",
       "    <tr>\n",
       "      <th>4</th>\n",
       "      <td>0_0_B.BARIA_20_3_364.jpg</td>\n",
       "      <td>0</td>\n",
       "    </tr>\n",
       "    <tr>\n",
       "      <th>5</th>\n",
       "      <td>0_0_B.BARIA_21_3_2.jpg</td>\n",
       "      <td>0</td>\n",
       "    </tr>\n",
       "    <tr>\n",
       "      <th>6</th>\n",
       "      <td>0_0_B.BARIA_22_3_3.jpg</td>\n",
       "      <td>0</td>\n",
       "    </tr>\n",
       "    <tr>\n",
       "      <th>7</th>\n",
       "      <td>0_0_B.BARIA_22_3_4.jpg</td>\n",
       "      <td>0</td>\n",
       "    </tr>\n",
       "    <tr>\n",
       "      <th>8</th>\n",
       "      <td>0_0_B.BARI_10_1_365.jpg</td>\n",
       "      <td>0</td>\n",
       "    </tr>\n",
       "    <tr>\n",
       "      <th>9</th>\n",
       "      <td>0_0_B.BARI_11_1_366.jpg</td>\n",
       "      <td>0</td>\n",
       "    </tr>\n",
       "  </tbody>\n",
       "</table>\n",
       "</div>"
      ],
      "text/plain": [
       "                    imageid  label\n",
       "0      0_0_18_kis_2_361.jpg      0\n",
       "1  0_0_B.BARIA_14_1_362.jpg      0\n",
       "2  0_0_B.BARIA_17_2_363.jpg      0\n",
       "3    0_0_B.BARIA_20_3_1.jpg      0\n",
       "4  0_0_B.BARIA_20_3_364.jpg      0\n",
       "5    0_0_B.BARIA_21_3_2.jpg      0\n",
       "6    0_0_B.BARIA_22_3_3.jpg      0\n",
       "7    0_0_B.BARIA_22_3_4.jpg      0\n",
       "8   0_0_B.BARI_10_1_365.jpg      0\n",
       "9   0_0_B.BARI_11_1_366.jpg      0"
      ]
     },
     "execution_count": 9,
     "metadata": {},
     "output_type": "execute_result"
    }
   ],
   "source": [
    "totalM.iloc[:10, 0:]"
   ]
  },
  {
   "cell_type": "code",
   "execution_count": 10,
   "metadata": {},
   "outputs": [],
   "source": [
    "PATH = 'E:/CSE/softConputing/Ekush/'"
   ]
  },
  {
   "cell_type": "code",
   "execution_count": 11,
   "metadata": {},
   "outputs": [],
   "source": [
    "def showRawTrainingSamples(csv_filename):\n",
    "    df = pd.read_csv(PATH + csv_filename)\n",
    "    print(csv_filename)\n",
    "    print(df.columns)\n",
    "    return df"
   ]
  },
  {
   "cell_type": "code",
   "execution_count": 12,
   "metadata": {},
   "outputs": [
    {
     "name": "stdout",
     "output_type": "stream",
     "text": [
      "maleDigits.csv\n",
      "Index(['imageid', 'label'], dtype='object')\n",
      "femaleDigits.csv\n",
      "Index(['imageid', 'label'], dtype='object')\n"
     ]
    }
   ],
   "source": [
    "m_csv = showRawTrainingSamples('maleDigits.csv')\n",
    "f_csv = showRawTrainingSamples('femaleDigits.csv')"
   ]
  },
  {
   "cell_type": "code",
   "execution_count": 13,
   "metadata": {},
   "outputs": [],
   "source": [
    "def dropColumns(csv_file):\n",
    "    #csv_file = csv_file[['filename', 'digit']]\n",
    "    print(csv_file)\n",
    "    print(csv_file.iloc[:2, :])   #First 5 Rows of the CSV File\n",
    "    print(\"=============================\")\n",
    "    return csv_file"
   ]
  },
  {
   "cell_type": "code",
   "execution_count": 14,
   "metadata": {},
   "outputs": [
    {
     "name": "stdout",
     "output_type": "stream",
     "text": [
      "                        imageid  label\n",
      "0          0_0_18_kis_2_361.jpg      0\n",
      "1      0_0_B.BARIA_14_1_362.jpg      0\n",
      "2      0_0_B.BARIA_17_2_363.jpg      0\n",
      "3        0_0_B.BARIA_20_3_1.jpg      0\n",
      "4      0_0_B.BARIA_20_3_364.jpg      0\n",
      "...                         ...    ...\n",
      "15063     9_0_THAK_20_3_345.jpg      0\n",
      "15064     9_0_THAK_20_3_346.jpg      0\n",
      "15065     9_0_THAK_21_3_347.jpg      0\n",
      "15066     9_0_THAK_21_3_348.jpg      0\n",
      "15067     9_0_THAK_22_3_349.jpg      0\n",
      "\n",
      "[15068 rows x 2 columns]\n",
      "                    imageid  label\n",
      "0      0_0_18_kis_2_361.jpg      0\n",
      "1  0_0_B.BARIA_14_1_362.jpg      0\n",
      "=============================\n",
      "                        imageid  label\n",
      "0          0_1_14_BOG_1_317.jpg      1\n",
      "1        0_1_22_Farid_3_318.jpg      1\n",
      "2      0_1_B.BARIA_11_1_319.jpg      1\n",
      "3      0_1_B.BARIA_11_1_320.jpg      1\n",
      "4      0_1_B.BARIA_11_1_321.jpg      1\n",
      "...                         ...    ...\n",
      "15615      9_1_TAN_1_1_1577.jpg      1\n",
      "15616       9_1_THAK_13_316.jpg      1\n",
      "15617    9_1_Tha_21_3_00032.jpg      1\n",
      "15618    9_1_Tha_22_3_00033.jpg      1\n",
      "15619    9_1_Tha_22_3_00035.jpg      1\n",
      "\n",
      "[15620 rows x 2 columns]\n",
      "                  imageid  label\n",
      "0    0_1_14_BOG_1_317.jpg      1\n",
      "1  0_1_22_Farid_3_318.jpg      1\n",
      "=============================\n"
     ]
    }
   ],
   "source": [
    "m_csv = dropColumns(m_csv)\n",
    "f_csv = dropColumns(f_csv)"
   ]
  },
  {
   "cell_type": "code",
   "execution_count": 15,
   "metadata": {},
   "outputs": [
    {
     "name": "stdout",
     "output_type": "stream",
     "text": [
      "30688\n"
     ]
    }
   ],
   "source": [
    "# concating male and felame CSV\n",
    "total_csv = [m_csv, f_csv]\n",
    "\n",
    "merged_csv = pd.concat(total_csv)\n",
    "print(len(merged_csv))"
   ]
  },
  {
   "cell_type": "code",
   "execution_count": 31,
   "metadata": {},
   "outputs": [],
   "source": [
    "##Making train folder\n",
    "TRAIN_PATH = 'E:/CSE/softConputing/Ekush/train'\n",
    "os.mkdir(TRAIN_PATH)"
   ]
  },
  {
   "cell_type": "code",
   "execution_count": 16,
   "metadata": {},
   "outputs": [],
   "source": [
    "TRAIN_PATH = 'E:/CSE/softConputing/Ekush/train'"
   ]
  },
  {
   "cell_type": "code",
   "execution_count": 33,
   "metadata": {},
   "outputs": [],
   "source": [
    "def processImages(folder_name):\n",
    "    src = PATH + folder_name + '/'\n",
    "    dir_folders = os.listdir(src)\n",
    "    for dir_name in dir_folders:\n",
    "        file_name = os.path.join(src, dir_name)\n",
    "        if os.path.isfile(file_name):\n",
    "            shutil.copy(file_name, TRAIN_PATH)"
   ]
  },
  {
   "cell_type": "code",
   "execution_count": 34,
   "metadata": {},
   "outputs": [
    {
     "name": "stdout",
     "output_type": "stream",
     "text": [
      "M Done\n",
      "F Done\n"
     ]
    }
   ],
   "source": [
    "processImages('maleAll')\n",
    "print('M Done')\n",
    "processImages('femaleAll')\n",
    "print('F Done')"
   ]
  },
  {
   "cell_type": "code",
   "execution_count": 17,
   "metadata": {},
   "outputs": [],
   "source": [
    "class Dataset(Dataset):\n",
    "    def __init__(self, df, root, transform=None):\n",
    "        self.data = df\n",
    "        self.root = root\n",
    "        self.transform = transform\n",
    "        \n",
    "    def __len__(self):\n",
    "        return len(self.data)\n",
    "    \n",
    "    def __getitem__(self, index):\n",
    "        item = self.data.iloc[index]\n",
    "        \n",
    "        path = self.root + \"/\" + item[0]\n",
    "        image = Image.open(path).convert('L')\n",
    "        label = item[1]\n",
    "        \n",
    "        if self.transform is not None:\n",
    "            image = self.transform(image)\n",
    "            \n",
    "        return image, label"
   ]
  },
  {
   "cell_type": "code",
   "execution_count": 18,
   "metadata": {},
   "outputs": [
    {
     "name": "stdout",
     "output_type": "stream",
     "text": [
      "Trainig Samples:  30688\n"
     ]
    }
   ],
   "source": [
    "#Normalizing Dataset\n",
    "mean = [0.5,]\n",
    "std = [0.5, ]\n",
    "\n",
    "train_transform = transforms.Compose([\n",
    "    transforms.Resize(28),\n",
    "    transforms.ToTensor(),\n",
    "    transforms.Normalize(mean, std)\n",
    "])\n",
    "\n",
    "test_transform = transforms.Compose([\n",
    "        transforms.Resize(28),\n",
    "        transforms.ToTensor(),\n",
    "        transforms.Normalize(mean, std)\n",
    "])\n",
    "\n",
    "train_data  = Dataset(merged_csv, TRAIN_PATH, train_transform)\n",
    "test_data = Dataset(merged_csv, TRAIN_PATH, test_transform)\n",
    "\n",
    "print(\"Trainig Samples: \",len(train_data))"
   ]
  },
  {
   "cell_type": "code",
   "execution_count": 19,
   "metadata": {},
   "outputs": [
    {
     "data": {
      "text/plain": [
       "<matplotlib.image.AxesImage at 0x2152921eec8>"
      ]
     },
     "execution_count": 19,
     "metadata": {},
     "output_type": "execute_result"
    },
    {
     "data": {
      "image/png": "[encoded data removed]",
      "text/plain": [
       "<Figure size 432x288 with 1 Axes>"
      ]
     },
     "metadata": {
      "needs_background": "light"
     },
     "output_type": "display_data"
    }
   ],
   "source": [
    "## Displaying a Ekush Image\n",
    "\n",
    "import matplotlib.pyplot as plt \n",
    "import numpy as np\n",
    "\n",
    "show_img = train_data[5000][0].numpy().reshape(28, 28)\n",
    "plt.imshow(show_img, cmap='gray')"
   ]
  },
  {
   "cell_type": "code",
   "execution_count": 20,
   "metadata": {},
   "outputs": [
    {
     "name": "stdout",
     "output_type": "stream",
     "text": [
      "Label:\n",
      "0\n"
     ]
    },
    {
     "data": {
      "text/plain": [
       "<matplotlib.image.AxesImage at 0x215297bed48>"
      ]
     },
     "execution_count": 20,
     "metadata": {},
     "output_type": "execute_result"
    },
    {
     "data": {
      "image/png": "[encoded data removed]",
      "text/plain": [
       "<Figure size 432x288 with 1 Axes>"
      ]
     },
     "metadata": {
      "needs_background": "light"
     },
     "output_type": "display_data"
    }
   ],
   "source": [
    "## Displaying another ekush Image with label\n",
    "\n",
    "print(\"Label:\")\n",
    "print(train_data[2][1])\n",
    "\n",
    "show_img = train_data[2000][0].numpy().reshape(28, 28)\n",
    "plt.imshow(show_img, cmap='gray')"
   ]
  },
  {
   "cell_type": "code",
   "execution_count": 21,
   "metadata": {},
   "outputs": [
    {
     "name": "stdout",
     "output_type": "stream",
     "text": [
      "torch.Size([1, 28, 28])\n",
      "(1, 28, 28)\n",
      "0\n"
     ]
    }
   ],
   "source": [
    "# One Image Size\n",
    "print(train_data[0][0].size())\n",
    "print(train_data[0][0].numpy().shape)\n",
    "# First Image Label\n",
    "print(train_data[59][1])"
   ]
  },
  {
   "cell_type": "markdown",
   "metadata": {},
   "source": [
    "## Designing Logistic Regression Model"
   ]
  },
  {
   "cell_type": "code",
   "execution_count": 22,
   "metadata": {},
   "outputs": [],
   "source": [
    "class LogisticRegressionModel(nn.Module):\n",
    "    def __init__(self, input_size, num_classes):\n",
    "        super().__init__()\n",
    "        self.linear = nn.Linear(input_size, num_classes)\n",
    "\n",
    "    def forward(self, x):\n",
    "        logits  = self.linear(x)\n",
    "        probas = torch.sigmoid(logits)\n",
    "        return logits, probas\n",
    "        #return logits"
   ]
  },
  {
   "cell_type": "code",
   "execution_count": null,
   "metadata": {},
   "outputs": [],
   "source": []
  },
  {
   "cell_type": "code",
   "execution_count": null,
   "metadata": {},
   "outputs": [],
   "source": []
  },
  {
   "cell_type": "markdown",
   "metadata": {},
   "source": [
    "# Combination-1:\n",
    "## iteration=3000 epoch=5, lr=0.001, batch size=55, optimizer=SGD"
   ]
  },
  {
   "cell_type": "code",
   "execution_count": 26,
   "metadata": {},
   "outputs": [],
   "source": [
    "#hyperparameter settings 1\n",
    "num_iters = 3000\n",
    "input_dim = 28*28 # num_features = 784\n",
    "output_dim = 2\n",
    "batch_size = 55\n",
    "\n",
    "learning_rate = 0.001\n",
    "\n",
    "# Device\n",
    "device = torch.device(\"cuda:0\" if torch.cuda.is_available() else \"cpu\")"
   ]
  },
  {
   "cell_type": "code",
   "execution_count": 27,
   "metadata": {},
   "outputs": [
    {
     "name": "stdout",
     "output_type": "stream",
     "text": [
      "5\n"
     ]
    }
   ],
   "source": [
    "num_epochs = num_iters / (len(train_data) / batch_size)\n",
    "num_epochs = int(num_epochs)\n",
    "print(num_epochs)"
   ]
  },
  {
   "cell_type": "code",
   "execution_count": 28,
   "metadata": {},
   "outputs": [
    {
     "data": {
      "text/plain": [
       "LogisticRegressionModel(\n",
       "  (linear): Linear(in_features=784, out_features=2, bias=True)\n",
       ")"
      ]
     },
     "execution_count": 28,
     "metadata": {},
     "output_type": "execute_result"
    }
   ],
   "source": [
    "'''\n",
    "INSTANTIATE MODEL CLASS\n",
    "'''\n",
    "model = LogisticRegressionModel(input_size=input_dim,\n",
    "                                num_classes=output_dim)\n",
    "\n",
    "# To enable GPU\n",
    "model.to(device)"
   ]
  },
  {
   "cell_type": "code",
   "execution_count": 29,
   "metadata": {},
   "outputs": [],
   "source": [
    "# INSTANTIATE OPTIMIZER CLASS\n",
    "optimizer = torch.optim.SGD(model.parameters(), lr=learning_rate)\n"
   ]
  },
  {
   "cell_type": "code",
   "execution_count": 30,
   "metadata": {},
   "outputs": [
    {
     "name": "stdout",
     "output_type": "stream",
     "text": [
      "3068\n",
      "Train dataloader:503\n",
      "Test dataloader:56\n"
     ]
    }
   ],
   "source": [
    "#batch size\n",
    "#batch_size = 200\n",
    "\n",
    "\n",
    "# split data 10% for testing\n",
    "test_size = 0.1\n",
    "\n",
    "# obtain training indices that will be used for validation\n",
    "num_train = len(train_data)\n",
    "\n",
    "# mix data\n",
    "# index of num of train\n",
    "indices = list(range(num_train))\n",
    "# random the index\n",
    "np.random.shuffle(indices)\n",
    "split = int(np.floor(test_size * num_train))\n",
    "print(split)\n",
    "# divied into two part\n",
    "train_idx, test_idx = indices[split:], indices[:split]\n",
    "\n",
    "# define the sampler\n",
    "train_sampler = SubsetRandomSampler(train_idx)\n",
    "test_sampler = SubsetRandomSampler(test_idx)\n",
    "\n",
    "# prepare loaders\n",
    "train_loader = torch.utils.data.DataLoader(\n",
    "    train_data, batch_size=batch_size,\n",
    "    sampler=train_sampler)\n",
    "\n",
    "test_loader = torch.utils.data.DataLoader(\n",
    "    test_data, batch_size=batch_size,\n",
    "    sampler=test_sampler)\n",
    "\n",
    "print(\"Train dataloader:{}\".format(len(train_loader)))\n",
    "print(\"Test dataloader:{}\".format(len(test_loader)))"
   ]
  },
  {
   "cell_type": "code",
   "execution_count": 31,
   "metadata": {},
   "outputs": [
    {
     "name": "stdout",
     "output_type": "stream",
     "text": [
      "0\n",
      "Iteration: 500. Loss: 0.7376183867454529. Accuracy: 56.64928292046936\n",
      "1\n",
      "Iteration: 1000. Loss: 0.7385877966880798. Accuracy: 58.279009126466754\n",
      "2\n",
      "Iteration: 1500. Loss: 0.7154095768928528. Accuracy: 57.920469361147326\n",
      "3\n",
      "Iteration: 2000. Loss: 0.6332993507385254. Accuracy: 58.14863102998696\n",
      "4\n",
      "Iteration: 2500. Loss: 0.6298362612724304. Accuracy: 58.279009126466754\n"
     ]
    }
   ],
   "source": [
    "'''\n",
    "TRAIN THE MODEL\n",
    "'''\n",
    "iteration_loss = []\n",
    "iter = 0\n",
    "for epoch in range(num_epochs):\n",
    "    print(epoch)\n",
    "    for i, (images, labels) in enumerate(train_loader):\n",
    "\n",
    "        images = images.view(-1, 28*28).to(device)\n",
    "        labels = labels.to(device)\n",
    "\n",
    "        # Clear gradients w.r.t. parameters\n",
    "        optimizer.zero_grad()\n",
    "\n",
    "        # Forward pass to get output/logits\n",
    "        logits, probas = model(images) \n",
    "\n",
    "        # Calculate Loss: PyTorch implementation of CrossEntropyLoss works with logits, not probabilities\n",
    "        loss = F.cross_entropy(logits, labels)\n",
    "\n",
    "        # Getting gradients w.r.t. parameters\n",
    "        loss.backward()\n",
    "\n",
    "        # Updating parameters\n",
    "        optimizer.step()\n",
    "\n",
    "        iter += 1\n",
    "\n",
    "        if iter % 500 == 0:\n",
    "            # Calculate Accuracy         \n",
    "            correct = 0\n",
    "            total = 0\n",
    "            # Iterate through test dataset\n",
    "            for images, labels in test_loader:\n",
    "               \n",
    "                images = images.view(-1, 28*28).to(device)\n",
    "\n",
    "                # Forward pass only to get logits/output\n",
    "                logits, probas = model(images)\n",
    "\n",
    "                # Get predictions from the maximum value\n",
    "                _, predicted = torch.max(probas, 1)\n",
    "\n",
    "                # Total number of labels\n",
    "                total += labels.size(0)\n",
    "\n",
    "\n",
    "                # Total correct predictions\n",
    "                if torch.cuda.is_available():\n",
    "                    correct += (predicted.cpu() == labels.cpu()).sum() \n",
    "                else:\n",
    "                    correct += (predicted == labels).sum()\n",
    "\n",
    "            accuracy = 100 * correct.item() / total\n",
    "\n",
    "            # Print Loss\n",
    "            iteration_loss.append(loss.item())\n",
    "            print('Iteration: {}. Loss: {}. Accuracy: {}'.format(iter, loss.item(), accuracy))"
   ]
  },
  {
   "cell_type": "code",
   "execution_count": 32,
   "metadata": {},
   "outputs": [],
   "source": [
    "save_model = True\n",
    "\n",
    "if save_model is True:\n",
    "    # Saves only parameters\n",
    "    # wights & biases\n",
    "    torch.save(model.state_dict(), 'E:/CSE/softConputing/Ekush/model2/combination1.pkl') "
   ]
  },
  {
   "cell_type": "code",
   "execution_count": 33,
   "metadata": {},
   "outputs": [
    {
     "data": {
      "image/png": "[encoded data removed]",
      "text/plain": [
       "<Figure size 432x288 with 1 Axes>"
      ]
     },
     "metadata": {
      "needs_background": "light"
     },
     "output_type": "display_data"
    }
   ],
   "source": [
    "import matplotlib\n",
    "import matplotlib.pyplot as plt\n",
    "\n",
    "#print (iteration_loss)\n",
    "plt.plot(iteration_loss)\n",
    "plt.ylabel('Cross Entropy Loss')\n",
    "plt.xlabel('Iteration (in every 500)')\n",
    "plt.show()"
   ]
  },
  {
   "cell_type": "markdown",
   "metadata": {},
   "source": [
    "# Combination-2:\n",
    "## iteration=3000 epoch=10, lr=0.001, batch size=105, optimizer=SGD"
   ]
  },
  {
   "cell_type": "code",
   "execution_count": 34,
   "metadata": {},
   "outputs": [],
   "source": [
    "#hyperparameter settings 1\n",
    "num_iters = 3000\n",
    "input_dim = 28*28 # num_features = 784\n",
    "output_dim = 2\n",
    "batch_size = 105\n",
    "\n",
    "learning_rate = 0.001\n",
    "\n",
    "# Device\n",
    "device = torch.device(\"cuda:0\" if torch.cuda.is_available() else \"cpu\")"
   ]
  },
  {
   "cell_type": "code",
   "execution_count": 35,
   "metadata": {},
   "outputs": [
    {
     "name": "stdout",
     "output_type": "stream",
     "text": [
      "10\n"
     ]
    }
   ],
   "source": [
    "num_epochs = num_iters / (len(train_data) / batch_size)\n",
    "num_epochs = int(num_epochs)\n",
    "print(num_epochs)"
   ]
  },
  {
   "cell_type": "code",
   "execution_count": 36,
   "metadata": {},
   "outputs": [
    {
     "data": {
      "text/plain": [
       "LogisticRegressionModel(\n",
       "  (linear): Linear(in_features=784, out_features=2, bias=True)\n",
       ")"
      ]
     },
     "execution_count": 36,
     "metadata": {},
     "output_type": "execute_result"
    }
   ],
   "source": [
    "'''\n",
    "INSTANTIATE MODEL CLASS\n",
    "'''\n",
    "model = LogisticRegressionModel(input_size=input_dim,\n",
    "                                num_classes=output_dim)\n",
    "\n",
    "# To enable GPU\n",
    "model.to(device)"
   ]
  },
  {
   "cell_type": "code",
   "execution_count": 37,
   "metadata": {},
   "outputs": [],
   "source": [
    "# INSTANTIATE OPTIMIZER CLASS\n",
    "optimizer = torch.optim.SGD(model.parameters(), lr=learning_rate)\n"
   ]
  },
  {
   "cell_type": "code",
   "execution_count": 38,
   "metadata": {},
   "outputs": [
    {
     "name": "stdout",
     "output_type": "stream",
     "text": [
      "3068\n",
      "Train dataloader:264\n",
      "Test dataloader:30\n"
     ]
    }
   ],
   "source": [
    "#batch size\n",
    "#batch_size = 200\n",
    "\n",
    "\n",
    "# split data 10% for testing\n",
    "test_size = 0.1\n",
    "\n",
    "# obtain training indices that will be used for validation\n",
    "num_train = len(train_data)\n",
    "\n",
    "# mix data\n",
    "# index of num of train\n",
    "indices = list(range(num_train))\n",
    "# random the index\n",
    "np.random.shuffle(indices)\n",
    "split = int(np.floor(test_size * num_train))\n",
    "print(split)\n",
    "# divied into two part\n",
    "train_idx, test_idx = indices[split:], indices[:split]\n",
    "\n",
    "# define the sampler\n",
    "train_sampler = SubsetRandomSampler(train_idx)\n",
    "test_sampler = SubsetRandomSampler(test_idx)\n",
    "\n",
    "# prepare loaders\n",
    "train_loader = torch.utils.data.DataLoader(\n",
    "    train_data, batch_size=batch_size,\n",
    "    sampler=train_sampler)\n",
    "\n",
    "test_loader = torch.utils.data.DataLoader(\n",
    "    test_data, batch_size=batch_size,\n",
    "    sampler=test_sampler)\n",
    "\n",
    "print(\"Train dataloader:{}\".format(len(train_loader)))\n",
    "print(\"Test dataloader:{}\".format(len(test_loader)))"
   ]
  },
  {
   "cell_type": "code",
   "execution_count": 39,
   "metadata": {},
   "outputs": [
    {
     "name": "stdout",
     "output_type": "stream",
     "text": [
      "0\n",
      "1\n",
      "Iteration: 500. Loss: 0.6838269233703613. Accuracy: 57.75749674054759\n",
      "2\n",
      "3\n",
      "Iteration: 1000. Loss: 0.641941249370575. Accuracy: 58.670143415906125\n",
      "4\n",
      "5\n",
      "Iteration: 1500. Loss: 0.6846331357955933. Accuracy: 58.93089960886571\n",
      "6\n",
      "7\n",
      "Iteration: 2000. Loss: 0.6701657772064209. Accuracy: 58.57235984354629\n",
      "8\n",
      "9\n",
      "Iteration: 2500. Loss: 0.6745495796203613. Accuracy: 58.311603650586704\n"
     ]
    }
   ],
   "source": [
    "'''\n",
    "TRAIN THE MODEL\n",
    "'''\n",
    "iteration_loss = []\n",
    "iter = 0\n",
    "for epoch in range(num_epochs):\n",
    "    print(epoch)\n",
    "    for i, (images, labels) in enumerate(train_loader):\n",
    "\n",
    "        images = images.view(-1, 28*28).to(device)\n",
    "        labels = labels.to(device)\n",
    "\n",
    "        # Clear gradients w.r.t. parameters\n",
    "        optimizer.zero_grad()\n",
    "\n",
    "        # Forward pass to get output/logits\n",
    "        logits, probas = model(images) \n",
    "\n",
    "        # Calculate Loss: PyTorch implementation of CrossEntropyLoss works with logits, not probabilities\n",
    "        loss = F.cross_entropy(logits, labels)\n",
    "\n",
    "        # Getting gradients w.r.t. parameters\n",
    "        loss.backward()\n",
    "\n",
    "        # Updating parameters\n",
    "        optimizer.step()\n",
    "\n",
    "        iter += 1\n",
    "\n",
    "        if iter % 500 == 0:\n",
    "            # Calculate Accuracy         \n",
    "            correct = 0\n",
    "            total = 0\n",
    "            # Iterate through test dataset\n",
    "            for images, labels in test_loader:\n",
    "               \n",
    "                images = images.view(-1, 28*28).to(device)\n",
    "\n",
    "                # Forward pass only to get logits/output\n",
    "                logits, probas = model(images)\n",
    "\n",
    "                # Get predictions from the maximum value\n",
    "                _, predicted = torch.max(probas, 1)\n",
    "\n",
    "                # Total number of labels\n",
    "                total += labels.size(0)\n",
    "\n",
    "\n",
    "                # Total correct predictions\n",
    "                if torch.cuda.is_available():\n",
    "                    correct += (predicted.cpu() == labels.cpu()).sum() \n",
    "                else:\n",
    "                    correct += (predicted == labels).sum()\n",
    "\n",
    "            accuracy = 100 * correct.item() / total\n",
    "\n",
    "            # Print Loss\n",
    "            iteration_loss.append(loss.item())\n",
    "            print('Iteration: {}. Loss: {}. Accuracy: {}'.format(iter, loss.item(), accuracy))"
   ]
  },
  {
   "cell_type": "code",
   "execution_count": 40,
   "metadata": {},
   "outputs": [],
   "source": [
    "save_model = True\n",
    "\n",
    "if save_model is True:\n",
    "    # Saves only parameters\n",
    "    # wights & biases\n",
    "    torch.save(model.state_dict(), 'E:/CSE/softConputing/Ekush/model2/combination2.pkl') "
   ]
  },
  {
   "cell_type": "code",
   "execution_count": 41,
   "metadata": {},
   "outputs": [
    {
     "data": {
      "image/png": "[encoded data removed]",
      "text/plain": [
       "<Figure size 432x288 with 1 Axes>"
      ]
     },
     "metadata": {
      "needs_background": "light"
     },
     "output_type": "display_data"
    }
   ],
   "source": [
    "import matplotlib\n",
    "import matplotlib.pyplot as plt\n",
    "\n",
    "#print (iteration_loss)\n",
    "plt.plot(iteration_loss)\n",
    "plt.ylabel('Cross Entropy Loss')\n",
    "plt.xlabel('Iteration (in every 500)')\n",
    "plt.show()"
   ]
  },
  {
   "cell_type": "markdown",
   "metadata": {},
   "source": [
    "# Combination-3:\n",
    "## iteration=3000 epoch=20, lr=0.001, batch size=205, optimizer=SGD"
   ]
  },
  {
   "cell_type": "code",
   "execution_count": 42,
   "metadata": {},
   "outputs": [],
   "source": [
    "#hyperparameter settings 1\n",
    "num_iters = 3000\n",
    "input_dim = 28*28 # num_features = 784\n",
    "output_dim = 2\n",
    "batch_size = 205\n",
    "\n",
    "learning_rate = 0.001\n",
    "\n",
    "# Device\n",
    "device = torch.device(\"cuda:0\" if torch.cuda.is_available() else \"cpu\")"
   ]
  },
  {
   "cell_type": "code",
   "execution_count": 43,
   "metadata": {},
   "outputs": [
    {
     "name": "stdout",
     "output_type": "stream",
     "text": [
      "20\n"
     ]
    }
   ],
   "source": [
    "num_epochs = num_iters / (len(train_data) / batch_size)\n",
    "num_epochs = int(num_epochs)\n",
    "print(num_epochs)"
   ]
  },
  {
   "cell_type": "code",
   "execution_count": 44,
   "metadata": {},
   "outputs": [
    {
     "data": {
      "text/plain": [
       "LogisticRegressionModel(\n",
       "  (linear): Linear(in_features=784, out_features=2, bias=True)\n",
       ")"
      ]
     },
     "execution_count": 44,
     "metadata": {},
     "output_type": "execute_result"
    }
   ],
   "source": [
    "'''\n",
    "INSTANTIATE MODEL CLASS\n",
    "'''\n",
    "model = LogisticRegressionModel(input_size=input_dim,\n",
    "                                num_classes=output_dim)\n",
    "\n",
    "# To enable GPU\n",
    "model.to(device)"
   ]
  },
  {
   "cell_type": "code",
   "execution_count": 45,
   "metadata": {},
   "outputs": [],
   "source": [
    "# INSTANTIATE OPTIMIZER CLASS\n",
    "optimizer = torch.optim.SGD(model.parameters(), lr=learning_rate)\n"
   ]
  },
  {
   "cell_type": "code",
   "execution_count": 46,
   "metadata": {},
   "outputs": [
    {
     "name": "stdout",
     "output_type": "stream",
     "text": [
      "3068\n",
      "Train dataloader:135\n",
      "Test dataloader:15\n"
     ]
    }
   ],
   "source": [
    "#batch size\n",
    "#batch_size = 200\n",
    "\n",
    "\n",
    "# split data 10% for testing\n",
    "test_size = 0.1\n",
    "\n",
    "# obtain training indices that will be used for validation\n",
    "num_train = len(train_data)\n",
    "\n",
    "# mix data\n",
    "# index of num of train\n",
    "indices = list(range(num_train))\n",
    "# random the index\n",
    "np.random.shuffle(indices)\n",
    "split = int(np.floor(test_size * num_train))\n",
    "print(split)\n",
    "# divied into two part\n",
    "train_idx, test_idx = indices[split:], indices[:split]\n",
    "\n",
    "# define the sampler\n",
    "train_sampler = SubsetRandomSampler(train_idx)\n",
    "test_sampler = SubsetRandomSampler(test_idx)\n",
    "\n",
    "# prepare loaders\n",
    "train_loader = torch.utils.data.DataLoader(\n",
    "    train_data, batch_size=batch_size,\n",
    "    sampler=train_sampler)\n",
    "\n",
    "test_loader = torch.utils.data.DataLoader(\n",
    "    test_data, batch_size=batch_size,\n",
    "    sampler=test_sampler)\n",
    "\n",
    "print(\"Train dataloader:{}\".format(len(train_loader)))\n",
    "print(\"Test dataloader:{}\".format(len(test_loader)))"
   ]
  },
  {
   "cell_type": "code",
   "execution_count": 47,
   "metadata": {},
   "outputs": [
    {
     "name": "stdout",
     "output_type": "stream",
     "text": [
      "0\n",
      "1\n",
      "2\n",
      "3\n",
      "Iteration: 500. Loss: 0.6865125894546509. Accuracy: 55.997392438070406\n",
      "4\n",
      "5\n",
      "6\n",
      "7\n",
      "Iteration: 1000. Loss: 0.6704479455947876. Accuracy: 57.366362451108216\n",
      "8\n",
      "9\n",
      "10\n",
      "11\n",
      "Iteration: 1500. Loss: 0.6635949611663818. Accuracy: 57.98565840938722\n",
      "12\n",
      "13\n",
      "14\n",
      "Iteration: 2000. Loss: 0.6842666268348694. Accuracy: 57.85528031290743\n",
      "15\n",
      "16\n",
      "17\n",
      "18\n",
      "Iteration: 2500. Loss: 0.6415634751319885. Accuracy: 58.05084745762712\n",
      "19\n"
     ]
    }
   ],
   "source": [
    "'''\n",
    "TRAIN THE MODEL\n",
    "'''\n",
    "iteration_loss = []\n",
    "iter = 0\n",
    "for epoch in range(num_epochs):\n",
    "    print(epoch)\n",
    "    for i, (images, labels) in enumerate(train_loader):\n",
    "\n",
    "        images = images.view(-1, 28*28).to(device)\n",
    "        labels = labels.to(device)\n",
    "\n",
    "        # Clear gradients w.r.t. parameters\n",
    "        optimizer.zero_grad()\n",
    "\n",
    "        # Forward pass to get output/logits\n",
    "        logits, probas = model(images) \n",
    "\n",
    "        # Calculate Loss: PyTorch implementation of CrossEntropyLoss works with logits, not probabilities\n",
    "        loss = F.cross_entropy(logits, labels)\n",
    "\n",
    "        # Getting gradients w.r.t. parameters\n",
    "        loss.backward()\n",
    "\n",
    "        # Updating parameters\n",
    "        optimizer.step()\n",
    "\n",
    "        iter += 1\n",
    "\n",
    "        if iter % 500 == 0:\n",
    "            # Calculate Accuracy         \n",
    "            correct = 0\n",
    "            total = 0\n",
    "            # Iterate through test dataset\n",
    "            for images, labels in test_loader:\n",
    "               \n",
    "                images = images.view(-1, 28*28).to(device)\n",
    "\n",
    "                # Forward pass only to get logits/output\n",
    "                logits, probas = model(images)\n",
    "\n",
    "                # Get predictions from the maximum value\n",
    "                _, predicted = torch.max(probas, 1)\n",
    "\n",
    "                # Total number of labels\n",
    "                total += labels.size(0)\n",
    "\n",
    "\n",
    "                # Total correct predictions\n",
    "                if torch.cuda.is_available():\n",
    "                    correct += (predicted.cpu() == labels.cpu()).sum() \n",
    "                else:\n",
    "                    correct += (predicted == labels).sum()\n",
    "\n",
    "            accuracy = 100 * correct.item() / total\n",
    "\n",
    "            # Print Loss\n",
    "            iteration_loss.append(loss.item())\n",
    "            print('Iteration: {}. Loss: {}. Accuracy: {}'.format(iter, loss.item(), accuracy))"
   ]
  },
  {
   "cell_type": "code",
   "execution_count": 48,
   "metadata": {},
   "outputs": [],
   "source": [
    "save_model = True\n",
    "\n",
    "if save_model is True:\n",
    "    # Saves only parameters\n",
    "    # wights & biases\n",
    "    torch.save(model.state_dict(), 'E:/CSE/softConputing/Ekush/model2/combination3.pkl') "
   ]
  },
  {
   "cell_type": "code",
   "execution_count": 49,
   "metadata": {},
   "outputs": [
    {
     "data": {
      "image/png": "[encoded data removed]",
      "text/plain": [
       "<Figure size 432x288 with 1 Axes>"
      ]
     },
     "metadata": {
      "needs_background": "light"
     },
     "output_type": "display_data"
    }
   ],
   "source": [
    "import matplotlib\n",
    "import matplotlib.pyplot as plt\n",
    "\n",
    "#print (iteration_loss)\n",
    "plt.plot(iteration_loss)\n",
    "plt.ylabel('Cross Entropy Loss')\n",
    "plt.xlabel('Iteration (in every 500)')\n",
    "plt.show()"
   ]
  },
  {
   "cell_type": "markdown",
   "metadata": {},
   "source": [
    "# Combination-4:\n",
    "## iteration=3000 epoch=20, lr=0.0001, batch size=205, optimizer=Adam"
   ]
  },
  {
   "cell_type": "code",
   "execution_count": 50,
   "metadata": {},
   "outputs": [],
   "source": [
    "#hyperparameter settings 1\n",
    "num_iters = 3000\n",
    "input_dim = 28*28 # num_features = 784\n",
    "output_dim = 2\n",
    "batch_size = 205\n",
    "\n",
    "learning_rate = 0.0001\n",
    "\n",
    "# Device\n",
    "device = torch.device(\"cuda:0\" if torch.cuda.is_available() else \"cpu\")"
   ]
  },
  {
   "cell_type": "code",
   "execution_count": 51,
   "metadata": {},
   "outputs": [
    {
     "name": "stdout",
     "output_type": "stream",
     "text": [
      "20\n"
     ]
    }
   ],
   "source": [
    "num_epochs = num_iters / (len(train_data) / batch_size)\n",
    "num_epochs = int(num_epochs)\n",
    "print(num_epochs)"
   ]
  },
  {
   "cell_type": "code",
   "execution_count": 52,
   "metadata": {},
   "outputs": [
    {
     "data": {
      "text/plain": [
       "LogisticRegressionModel(\n",
       "  (linear): Linear(in_features=784, out_features=2, bias=True)\n",
       ")"
      ]
     },
     "execution_count": 52,
     "metadata": {},
     "output_type": "execute_result"
    }
   ],
   "source": [
    "'''\n",
    "INSTANTIATE MODEL CLASS\n",
    "'''\n",
    "model = LogisticRegressionModel(input_size=input_dim,\n",
    "                                num_classes=output_dim)\n",
    "\n",
    "# To enable GPU\n",
    "model.to(device)"
   ]
  },
  {
   "cell_type": "code",
   "execution_count": 53,
   "metadata": {},
   "outputs": [],
   "source": [
    "# INSTANTIATE OPTIMIZER CLASS\n",
    "optimizer = torch.optim.Adam(model.parameters(), lr=learning_rate)\n"
   ]
  },
  {
   "cell_type": "code",
   "execution_count": 54,
   "metadata": {},
   "outputs": [
    {
     "name": "stdout",
     "output_type": "stream",
     "text": [
      "3068\n",
      "Train dataloader:135\n",
      "Test dataloader:15\n"
     ]
    }
   ],
   "source": [
    "#batch size\n",
    "#batch_size = 200\n",
    "\n",
    "\n",
    "# split data 10% for testing\n",
    "test_size = 0.1\n",
    "\n",
    "# obtain training indices that will be used for validation\n",
    "num_train = len(train_data)\n",
    "\n",
    "# mix data\n",
    "# index of num of train\n",
    "indices = list(range(num_train))\n",
    "# random the index\n",
    "np.random.shuffle(indices)\n",
    "split = int(np.floor(test_size * num_train))\n",
    "print(split)\n",
    "# divied into two part\n",
    "train_idx, test_idx = indices[split:], indices[:split]\n",
    "\n",
    "# define the sampler\n",
    "train_sampler = SubsetRandomSampler(train_idx)\n",
    "test_sampler = SubsetRandomSampler(test_idx)\n",
    "\n",
    "# prepare loaders\n",
    "train_loader = torch.utils.data.DataLoader(\n",
    "    train_data, batch_size=batch_size,\n",
    "    sampler=train_sampler)\n",
    "\n",
    "test_loader = torch.utils.data.DataLoader(\n",
    "    test_data, batch_size=batch_size,\n",
    "    sampler=test_sampler)\n",
    "\n",
    "print(\"Train dataloader:{}\".format(len(train_loader)))\n",
    "print(\"Test dataloader:{}\".format(len(test_loader)))"
   ]
  },
  {
   "cell_type": "code",
   "execution_count": 55,
   "metadata": {},
   "outputs": [
    {
     "name": "stdout",
     "output_type": "stream",
     "text": [
      "0\n",
      "1\n",
      "2\n",
      "3\n",
      "Iteration: 500. Loss: 0.6711856722831726. Accuracy: 59.22425032594524\n",
      "4\n",
      "5\n",
      "6\n",
      "7\n",
      "Iteration: 1000. Loss: 0.6736938953399658. Accuracy: 60.00651890482399\n",
      "8\n",
      "9\n",
      "10\n",
      "11\n",
      "Iteration: 1500. Loss: 0.6455813646316528. Accuracy: 60.071707953063886\n",
      "12\n",
      "13\n",
      "14\n",
      "Iteration: 2000. Loss: 0.6511361002922058. Accuracy: 59.84354628422425\n",
      "15\n",
      "16\n",
      "17\n",
      "18\n",
      "Iteration: 2500. Loss: 0.6360958814620972. Accuracy: 59.41981747066493\n",
      "19\n"
     ]
    }
   ],
   "source": [
    "'''\n",
    "TRAIN THE MODEL\n",
    "'''\n",
    "iteration_loss = []\n",
    "iter = 0\n",
    "for epoch in range(num_epochs):\n",
    "    print(epoch)\n",
    "    for i, (images, labels) in enumerate(train_loader):\n",
    "\n",
    "        images = images.view(-1, 28*28).to(device)\n",
    "        labels = labels.to(device)\n",
    "\n",
    "        # Clear gradients w.r.t. parameters\n",
    "        optimizer.zero_grad()\n",
    "\n",
    "        # Forward pass to get output/logits\n",
    "        logits, probas = model(images) \n",
    "\n",
    "        # Calculate Loss: PyTorch implementation of CrossEntropyLoss works with logits, not probabilities\n",
    "        loss = F.cross_entropy(logits, labels)\n",
    "\n",
    "        # Getting gradients w.r.t. parameters\n",
    "        loss.backward()\n",
    "\n",
    "        # Updating parameters\n",
    "        optimizer.step()\n",
    "\n",
    "        iter += 1\n",
    "\n",
    "        if iter % 500 == 0:\n",
    "            # Calculate Accuracy         \n",
    "            correct = 0\n",
    "            total = 0\n",
    "            # Iterate through test dataset\n",
    "            for images, labels in test_loader:\n",
    "               \n",
    "                images = images.view(-1, 28*28).to(device)\n",
    "\n",
    "                # Forward pass only to get logits/output\n",
    "                logits, probas = model(images)\n",
    "\n",
    "                # Get predictions from the maximum value\n",
    "                _, predicted = torch.max(probas, 1)\n",
    "\n",
    "                # Total number of labels\n",
    "                total += labels.size(0)\n",
    "\n",
    "\n",
    "                # Total correct predictions\n",
    "                if torch.cuda.is_available():\n",
    "                    correct += (predicted.cpu() == labels.cpu()).sum() \n",
    "                else:\n",
    "                    correct += (predicted == labels).sum()\n",
    "\n",
    "            accuracy = 100 * correct.item() / total\n",
    "\n",
    "            # Print Loss\n",
    "            iteration_loss.append(loss.item())\n",
    "            print('Iteration: {}. Loss: {}. Accuracy: {}'.format(iter, loss.item(), accuracy))"
   ]
  },
  {
   "cell_type": "code",
   "execution_count": 56,
   "metadata": {},
   "outputs": [],
   "source": [
    "save_model = True\n",
    "\n",
    "if save_model is True:\n",
    "    # Saves only parameters\n",
    "    # wights & biases\n",
    "    torch.save(model.state_dict(), 'E:/CSE/softConputing/Ekush/model2/combination4.pkl') "
   ]
  },
  {
   "cell_type": "code",
   "execution_count": 57,
   "metadata": {},
   "outputs": [
    {
     "data": {
      "image/png": "[encoded data removed]",
      "text/plain": [
       "<Figure size 432x288 with 1 Axes>"
      ]
     },
     "metadata": {
      "needs_background": "light"
     },
     "output_type": "display_data"
    }
   ],
   "source": [
    "import matplotlib\n",
    "import matplotlib.pyplot as plt\n",
    "\n",
    "#print (iteration_loss)\n",
    "plt.plot(iteration_loss)\n",
    "plt.ylabel('Cross Entropy Loss')\n",
    "plt.xlabel('Iteration (in every 500)')\n",
    "plt.show()"
   ]
  },
  {
   "cell_type": "markdown",
   "metadata": {},
   "source": [
    "# Combination-5:\n",
    "## iteration=5000 epoch=20, lr=0.0001, batch size=125, optimizer=Adam"
   ]
  },
  {
   "cell_type": "code",
   "execution_count": 58,
   "metadata": {},
   "outputs": [],
   "source": [
    "#hyperparameter settings 1\n",
    "num_iters = 5000\n",
    "input_dim = 28*28 # num_features = 784\n",
    "output_dim = 2\n",
    "batch_size = 125\n",
    "\n",
    "learning_rate = 0.0001\n",
    "\n",
    "# Device\n",
    "device = torch.device(\"cuda:0\" if torch.cuda.is_available() else \"cpu\")"
   ]
  },
  {
   "cell_type": "code",
   "execution_count": 59,
   "metadata": {},
   "outputs": [
    {
     "name": "stdout",
     "output_type": "stream",
     "text": [
      "20\n"
     ]
    }
   ],
   "source": [
    "num_epochs = num_iters / (len(train_data) / batch_size)\n",
    "num_epochs = int(num_epochs)\n",
    "print(num_epochs)"
   ]
  },
  {
   "cell_type": "code",
   "execution_count": 60,
   "metadata": {},
   "outputs": [
    {
     "data": {
      "text/plain": [
       "LogisticRegressionModel(\n",
       "  (linear): Linear(in_features=784, out_features=2, bias=True)\n",
       ")"
      ]
     },
     "execution_count": 60,
     "metadata": {},
     "output_type": "execute_result"
    }
   ],
   "source": [
    "'''\n",
    "INSTANTIATE MODEL CLASS\n",
    "'''\n",
    "model = LogisticRegressionModel(input_size=input_dim,\n",
    "                                num_classes=output_dim)\n",
    "\n",
    "# To enable GPU\n",
    "model.to(device)"
   ]
  },
  {
   "cell_type": "code",
   "execution_count": 61,
   "metadata": {},
   "outputs": [],
   "source": [
    "# INSTANTIATE OPTIMIZER CLASS\n",
    "optimizer = torch.optim.Adam(model.parameters(), lr=learning_rate)\n"
   ]
  },
  {
   "cell_type": "code",
   "execution_count": 62,
   "metadata": {},
   "outputs": [
    {
     "name": "stdout",
     "output_type": "stream",
     "text": [
      "3068\n",
      "Train dataloader:221\n",
      "Test dataloader:25\n"
     ]
    }
   ],
   "source": [
    "#batch size\n",
    "#batch_size = 200\n",
    "\n",
    "\n",
    "# split data 10% for testing\n",
    "test_size = 0.1\n",
    "\n",
    "# obtain training indices that will be used for validation\n",
    "num_train = len(train_data)\n",
    "\n",
    "# mix data\n",
    "# index of num of train\n",
    "indices = list(range(num_train))\n",
    "# random the index\n",
    "np.random.shuffle(indices)\n",
    "split = int(np.floor(test_size * num_train))\n",
    "print(split)\n",
    "# divied into two part\n",
    "train_idx, test_idx = indices[split:], indices[:split]\n",
    "\n",
    "# define the sampler\n",
    "train_sampler = SubsetRandomSampler(train_idx)\n",
    "test_sampler = SubsetRandomSampler(test_idx)\n",
    "\n",
    "# prepare loaders\n",
    "train_loader = torch.utils.data.DataLoader(\n",
    "    train_data, batch_size=batch_size,\n",
    "    sampler=train_sampler)\n",
    "\n",
    "test_loader = torch.utils.data.DataLoader(\n",
    "    test_data, batch_size=batch_size,\n",
    "    sampler=test_sampler)\n",
    "\n",
    "print(\"Train dataloader:{}\".format(len(train_loader)))\n",
    "print(\"Test dataloader:{}\".format(len(test_loader)))"
   ]
  },
  {
   "cell_type": "code",
   "execution_count": 63,
   "metadata": {},
   "outputs": [
    {
     "name": "stdout",
     "output_type": "stream",
     "text": [
      "0\n",
      "1\n",
      "2\n",
      "Iteration: 500. Loss: 0.6778558492660522. Accuracy: 57.79009126466754\n",
      "3\n",
      "4\n",
      "Iteration: 1000. Loss: 0.7109394073486328. Accuracy: 57.23598435462842\n",
      "5\n",
      "6\n",
      "Iteration: 1500. Loss: 0.6701064109802246. Accuracy: 57.75749674054759\n",
      "7\n",
      "8\n",
      "9\n",
      "Iteration: 2000. Loss: 0.6774182915687561. Accuracy: 58.47457627118644\n",
      "10\n",
      "11\n",
      "Iteration: 2500. Loss: 0.6521890163421631. Accuracy: 58.311603650586704\n",
      "12\n",
      "13\n",
      "Iteration: 3000. Loss: 0.6670776605606079. Accuracy: 58.2464146023468\n",
      "14\n",
      "15\n",
      "Iteration: 3500. Loss: 0.6456380486488342. Accuracy: 58.96349413298566\n",
      "16\n",
      "17\n",
      "18\n",
      "Iteration: 4000. Loss: 0.6696181893348694. Accuracy: 58.60495436766623\n",
      "19\n"
     ]
    }
   ],
   "source": [
    "'''\n",
    "TRAIN THE MODEL\n",
    "'''\n",
    "iteration_loss = []\n",
    "iter = 0\n",
    "for epoch in range(num_epochs):\n",
    "    print(epoch)\n",
    "    for i, (images, labels) in enumerate(train_loader):\n",
    "\n",
    "        images = images.view(-1, 28*28).to(device)\n",
    "        labels = labels.to(device)\n",
    "\n",
    "        # Clear gradients w.r.t. parameters\n",
    "        optimizer.zero_grad()\n",
    "\n",
    "        # Forward pass to get output/logits\n",
    "        logits, probas = model(images) \n",
    "\n",
    "        # Calculate Loss: PyTorch implementation of CrossEntropyLoss works with logits, not probabilities\n",
    "        loss = F.cross_entropy(logits, labels)\n",
    "\n",
    "        # Getting gradients w.r.t. parameters\n",
    "        loss.backward()\n",
    "\n",
    "        # Updating parameters\n",
    "        optimizer.step()\n",
    "\n",
    "        iter += 1\n",
    "\n",
    "        if iter % 500 == 0:\n",
    "            # Calculate Accuracy         \n",
    "            correct = 0\n",
    "            total = 0\n",
    "            # Iterate through test dataset\n",
    "            for images, labels in test_loader:\n",
    "               \n",
    "                images = images.view(-1, 28*28).to(device)\n",
    "\n",
    "                # Forward pass only to get logits/output\n",
    "                logits, probas = model(images)\n",
    "\n",
    "                # Get predictions from the maximum value\n",
    "                _, predicted = torch.max(probas, 1)\n",
    "\n",
    "                # Total number of labels\n",
    "                total += labels.size(0)\n",
    "\n",
    "\n",
    "                # Total correct predictions\n",
    "                if torch.cuda.is_available():\n",
    "                    correct += (predicted.cpu() == labels.cpu()).sum() \n",
    "                else:\n",
    "                    correct += (predicted == labels).sum()\n",
    "\n",
    "            accuracy = 100 * correct.item() / total\n",
    "\n",
    "            # Print Loss\n",
    "            iteration_loss.append(loss.item())\n",
    "            print('Iteration: {}. Loss: {}. Accuracy: {}'.format(iter, loss.item(), accuracy))"
   ]
  },
  {
   "cell_type": "code",
   "execution_count": 64,
   "metadata": {},
   "outputs": [],
   "source": [
    "save_model = True\n",
    "\n",
    "if save_model is True:\n",
    "    # Saves only parameters\n",
    "    # wights & biases\n",
    "    torch.save(model.state_dict(), 'E:/CSE/softConputing/Ekush/model2/combination5.pkl') "
   ]
  },
  {
   "cell_type": "code",
   "execution_count": 65,
   "metadata": {},
   "outputs": [
    {
     "data": {
      "image/png": "[encoded data removed]",
      "text/plain": [
       "<Figure size 432x288 with 1 Axes>"
      ]
     },
     "metadata": {
      "needs_background": "light"
     },
     "output_type": "display_data"
    }
   ],
   "source": [
    "import matplotlib\n",
    "import matplotlib.pyplot as plt\n",
    "\n",
    "#print (iteration_loss)\n",
    "plt.plot(iteration_loss)\n",
    "plt.ylabel('Cross Entropy Loss')\n",
    "plt.xlabel('Iteration (in every 500)')\n",
    "plt.show()"
   ]
  },
  {
   "cell_type": "markdown",
   "metadata": {},
   "source": [
    "# Combination-6:\n",
    "## iteration=5000 epoch=25, lr=0.0001, batch size=155, optimizer=Adam"
   ]
  },
  {
   "cell_type": "code",
   "execution_count": 74,
   "metadata": {},
   "outputs": [],
   "source": [
    "#hyperparameter settings 1\n",
    "num_iters = 5000\n",
    "input_dim = 28*28 # num_features = 784\n",
    "output_dim = 2\n",
    "batch_size = 155\n",
    "\n",
    "learning_rate = 0.0001\n",
    "\n",
    "# Device\n",
    "device = torch.device(\"cuda:0\" if torch.cuda.is_available() else \"cpu\")"
   ]
  },
  {
   "cell_type": "code",
   "execution_count": 67,
   "metadata": {},
   "outputs": [
    {
     "name": "stdout",
     "output_type": "stream",
     "text": [
      "25\n"
     ]
    }
   ],
   "source": [
    "num_epochs = num_iters / (len(train_data) / batch_size)\n",
    "num_epochs = int(num_epochs)\n",
    "print(num_epochs)"
   ]
  },
  {
   "cell_type": "code",
   "execution_count": 68,
   "metadata": {},
   "outputs": [
    {
     "data": {
      "text/plain": [
       "LogisticRegressionModel(\n",
       "  (linear): Linear(in_features=784, out_features=2, bias=True)\n",
       ")"
      ]
     },
     "execution_count": 68,
     "metadata": {},
     "output_type": "execute_result"
    }
   ],
   "source": [
    "'''\n",
    "INSTANTIATE MODEL CLASS\n",
    "'''\n",
    "model = LogisticRegressionModel(input_size=input_dim,\n",
    "                                num_classes=output_dim)\n",
    "\n",
    "# To enable GPU\n",
    "model.to(device)"
   ]
  },
  {
   "cell_type": "code",
   "execution_count": 69,
   "metadata": {},
   "outputs": [],
   "source": [
    "# INSTANTIATE OPTIMIZER CLASS\n",
    "optimizer = torch.optim.Adam(model.parameters(), lr=learning_rate)\n"
   ]
  },
  {
   "cell_type": "code",
   "execution_count": 70,
   "metadata": {},
   "outputs": [
    {
     "name": "stdout",
     "output_type": "stream",
     "text": [
      "3068\n",
      "Train dataloader:179\n",
      "Test dataloader:20\n"
     ]
    }
   ],
   "source": [
    "#batch size\n",
    "#batch_size = 200\n",
    "\n",
    "\n",
    "# split data 10% for testing\n",
    "test_size = 0.1\n",
    "\n",
    "# obtain training indices that will be used for validation\n",
    "num_train = len(train_data)\n",
    "\n",
    "# mix data\n",
    "# index of num of train\n",
    "indices = list(range(num_train))\n",
    "# random the index\n",
    "np.random.shuffle(indices)\n",
    "split = int(np.floor(test_size * num_train))\n",
    "print(split)\n",
    "# divied into two part\n",
    "train_idx, test_idx = indices[split:], indices[:split]\n",
    "\n",
    "# define the sampler\n",
    "train_sampler = SubsetRandomSampler(train_idx)\n",
    "test_sampler = SubsetRandomSampler(test_idx)\n",
    "\n",
    "# prepare loaders\n",
    "train_loader = torch.utils.data.DataLoader(\n",
    "    train_data, batch_size=batch_size,\n",
    "    sampler=train_sampler)\n",
    "\n",
    "test_loader = torch.utils.data.DataLoader(\n",
    "    test_data, batch_size=batch_size,\n",
    "    sampler=test_sampler)\n",
    "\n",
    "print(\"Train dataloader:{}\".format(len(train_loader)))\n",
    "print(\"Test dataloader:{}\".format(len(test_loader)))"
   ]
  },
  {
   "cell_type": "code",
   "execution_count": 71,
   "metadata": {},
   "outputs": [
    {
     "name": "stdout",
     "output_type": "stream",
     "text": [
      "0\n",
      "1\n",
      "2\n",
      "Iteration: 500. Loss: 0.6484798789024353. Accuracy: 58.44198174706649\n",
      "3\n",
      "4\n",
      "5\n",
      "Iteration: 1000. Loss: 0.6709204316139221. Accuracy: 58.93089960886571\n",
      "6\n",
      "7\n",
      "8\n",
      "Iteration: 1500. Loss: 0.6743643283843994. Accuracy: 58.76792698826597\n",
      "9\n",
      "10\n",
      "11\n",
      "Iteration: 2000. Loss: 0.6521006226539612. Accuracy: 59.35462842242503\n",
      "12\n",
      "13\n",
      "Iteration: 2500. Loss: 0.6648785471916199. Accuracy: 60.00651890482399\n",
      "14\n",
      "15\n",
      "16\n",
      "Iteration: 3000. Loss: 0.6560626029968262. Accuracy: 59.71316818774446\n",
      "17\n",
      "18\n",
      "19\n",
      "Iteration: 3500. Loss: 0.6486186385154724. Accuracy: 58.735332464146026\n",
      "20\n",
      "21\n",
      "22\n",
      "Iteration: 4000. Loss: 0.6594857573509216. Accuracy: 59.876140808344196\n",
      "23\n",
      "24\n"
     ]
    }
   ],
   "source": [
    "'''\n",
    "TRAIN THE MODEL\n",
    "'''\n",
    "iteration_loss = []\n",
    "iter = 0\n",
    "for epoch in range(num_epochs):\n",
    "    print(epoch)\n",
    "    for i, (images, labels) in enumerate(train_loader):\n",
    "\n",
    "        images = images.view(-1, 28*28).to(device)\n",
    "        labels = labels.to(device)\n",
    "\n",
    "        # Clear gradients w.r.t. parameters\n",
    "        optimizer.zero_grad()\n",
    "\n",
    "        # Forward pass to get output/logits\n",
    "        logits, probas = model(images) \n",
    "\n",
    "        # Calculate Loss: PyTorch implementation of CrossEntropyLoss works with logits, not probabilities\n",
    "        loss = F.cross_entropy(logits, labels)\n",
    "\n",
    "        # Getting gradients w.r.t. parameters\n",
    "        loss.backward()\n",
    "\n",
    "        # Updating parameters\n",
    "        optimizer.step()\n",
    "\n",
    "        iter += 1\n",
    "\n",
    "        if iter % 500 == 0:\n",
    "            # Calculate Accuracy         \n",
    "            correct = 0\n",
    "            total = 0\n",
    "            # Iterate through test dataset\n",
    "            for images, labels in test_loader:\n",
    "               \n",
    "                images = images.view(-1, 28*28).to(device)\n",
    "\n",
    "                # Forward pass only to get logits/output\n",
    "                logits, probas = model(images)\n",
    "\n",
    "                # Get predictions from the maximum value\n",
    "                _, predicted = torch.max(probas, 1)\n",
    "\n",
    "                # Total number of labels\n",
    "                total += labels.size(0)\n",
    "\n",
    "\n",
    "                # Total correct predictions\n",
    "                if torch.cuda.is_available():\n",
    "                    correct += (predicted.cpu() == labels.cpu()).sum() \n",
    "                else:\n",
    "                    correct += (predicted == labels).sum()\n",
    "\n",
    "            accuracy = 100 * correct.item() / total\n",
    "\n",
    "            # Print Loss\n",
    "            iteration_loss.append(loss.item())\n",
    "            print('Iteration: {}. Loss: {}. Accuracy: {}'.format(iter, loss.item(), accuracy))"
   ]
  },
  {
   "cell_type": "code",
   "execution_count": 72,
   "metadata": {},
   "outputs": [],
   "source": [
    "save_model = True\n",
    "\n",
    "if save_model is True:\n",
    "    # Saves only parameters\n",
    "    # wights & biases\n",
    "    torch.save(model.state_dict(), 'E:/CSE/softConputing/Ekush/model2/combination6.pkl') "
   ]
  },
  {
   "cell_type": "code",
   "execution_count": 73,
   "metadata": {},
   "outputs": [
    {
     "data": {
      "image/png": "[encoded data removed]",
      "text/plain": [
       "<Figure size 432x288 with 1 Axes>"
      ]
     },
     "metadata": {
      "needs_background": "light"
     },
     "output_type": "display_data"
    }
   ],
   "source": [
    "import matplotlib\n",
    "import matplotlib.pyplot as plt\n",
    "\n",
    "#print (iteration_loss)\n",
    "plt.plot(iteration_loss)\n",
    "plt.ylabel('Cross Entropy Loss')\n",
    "plt.xlabel('Iteration (in every 500)')\n",
    "plt.show()"
   ]
  },
  {
   "cell_type": "code",
   "execution_count": null,
   "metadata": {},
   "outputs": [],
   "source": []
  },
  {
   "cell_type": "code",
   "execution_count": null,
   "metadata": {},
   "outputs": [],
   "source": []
  },
  {
   "cell_type": "code",
   "execution_count": 83,
   "metadata": {},
   "outputs": [
    {
     "name": "stdout",
     "output_type": "stream",
     "text": [
      "Trained Model Loaded\n"
     ]
    }
   ],
   "source": [
    "load_model = True\n",
    "\n",
    "if load_model is True:\n",
    "    model.load_state_dict(torch.load('E:/CSE/softConputing/Ekush/model2/combination6.pkl'))\n",
    "    print('Trained Model Loaded')"
   ]
  },
  {
   "cell_type": "code",
   "execution_count": 88,
   "metadata": {},
   "outputs": [
    {
     "data": {
      "image/png": "[encoded data removed]",
      "text/plain": [
       "<Figure size 432x288 with 5 Axes>"
      ]
     },
     "metadata": {
      "needs_background": "light"
     },
     "output_type": "display_data"
    }
   ],
   "source": [
    "for images, labels in test_loader:\n",
    "    break\n",
    "    \n",
    "fig, ax = plt.subplots(1, 5)\n",
    "for i in range(5):\n",
    "    ax[i].imshow(images[i].view(28, 28), cmap=matplotlib.cm.binary)\n",
    "\n",
    "plt.show()"
   ]
  },
  {
   "cell_type": "code",
   "execution_count": 89,
   "metadata": {},
   "outputs": [
    {
     "name": "stdout",
     "output_type": "stream",
     "text": [
      "0-Male   1-Female\n",
      "Predicted labels [1 1 0 0 1]\n"
     ]
    }
   ],
   "source": [
    "print('0-Male   1-Female')\n",
    "\n",
    "_, predictions = model.forward(images[:5].view(-1, 28*28).to(device))\n",
    "predictions = torch.argmax(predictions, dim=1)\n",
    "print('Predicted labels', predictions.cpu().numpy())"
   ]
  },
  {
   "cell_type": "markdown",
   "metadata": {},
   "source": [
    "### Accuracies obtained for different Hyperparameters\n",
    "\n",
    "Combination|Iteration| Epoch | Learning Rate | Batch Size | Optimizer | Accuracy | Loss |\n",
    "-----------|---------|-------|---------------|------------|-----------|----------|------|\n",
    "    1      |3000     |5      |0.001          |120         |SGD        |58.279    |0.629 |\n",
    "    2      |3000     |10     |0.001          |230         |SGD        |58.311    |0.674 |\n",
    "    3      |3000     |20     |0.001          |460         |SGD        |58.050    |0.641 |\n",
    "    4      |3000     |20     |0.001          |460         |Adam       |59.419    |0.636 |\n",
    "    5      |5000     |20     |0.0001         |280         |Adam       |58.604    |0.669 |\n",
    "    6      |5000     |25     |0.0001         |350         |Adam       |***59.876***    |0.659 |\n",
    "    \n",
    "   \n",
    "\n",
    "- **How hyperparameters were chosen**\n",
    "    - Firstly, 3 different epochs 5, 10 and 20 were picked as hyperparameter for iteration=3000, learning rate=0.001 and optimizer=SGD\n",
    "    - It was seen that combination having 20 epoch and 10 epoch had similar accuracy so I choose the combination with epoch 20\n",
    "    - Then for the same combination of 20 epoch Adam optimizer was chosen and it could be seen tha it performen better than before\n",
    "    - Then with adam optimizer leraning rate=0.0001 and iteration=5000 was taken and it could be seen that accuracy decresed\n",
    "    - As accuray on combination-5 decreased I increased the Epoch to 25 and it could be seen from the table that this combination performed the best\n",
    "\n",
    "### ** Combination-6 performed the best**\n"
   ]
  },
  {
   "cell_type": "code",
   "execution_count": null,
   "metadata": {},
   "outputs": [],
   "source": []
  }
 ],
 "metadata": {
  "kernelspec": {
   "display_name": "Python 3",
   "language": "python",
   "name": "python3"
  },
  "language_info": {
   "codemirror_mode": {
    "name": "ipython",
    "version": 3
   },
   "file_extension": ".py",
   "mimetype": "text/x-python",
   "name": "python",
   "nbconvert_exporter": "python",
   "pygments_lexer": "ipython3",
   "version": "3.7.6"
  }
 },
 "nbformat": 4,
 "nbformat_minor": 4
}
